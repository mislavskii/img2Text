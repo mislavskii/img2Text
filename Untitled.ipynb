{
 "cells": [
  {
   "cell_type": "code",
   "execution_count": 4,
   "id": "7c893e6e-4109-4b2e-bd75-ee65826a3269",
   "metadata": {
    "tags": []
   },
   "outputs": [],
   "source": [
    "from SipSongPanNa import img2text"
   ]
  },
  {
   "cell_type": "code",
   "execution_count": 5,
   "id": "85a6cdd2-47e6-4cee-b998-c5845f4606fa",
   "metadata": {
    "tags": []
   },
   "outputs": [],
   "source": [
    "import SipSongPanNa.img2text"
   ]
  },
  {
   "cell_type": "code",
   "execution_count": null,
   "id": "9984b665-129c-4fd3-a77c-d21733517e37",
   "metadata": {},
   "outputs": [],
   "source": []
  }
 ],
 "metadata": {
  "kernelspec": {
   "display_name": "Python 3 (ipykernel)",
   "language": "python",
   "name": "python3"
  },
  "language_info": {
   "codemirror_mode": {
    "name": "ipython",
    "version": 3
   },
   "file_extension": ".py",
   "mimetype": "text/x-python",
   "name": "python",
   "nbconvert_exporter": "python",
   "pygments_lexer": "ipython3",
   "version": "3.11.5"
  }
 },
 "nbformat": 4,
 "nbformat_minor": 5
}
