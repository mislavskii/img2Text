{
 "cells": [
  {
   "cell_type": "markdown",
   "id": "198c1855-8aaa-446b-91a4-0c5bce8fb115",
   "metadata": {},
   "source": [
    "# Recognize a Word and Lookup in Dictionary\n",
    "\n",
    "Currently only implemented for Thai language.\n",
    "\n",
    "### References:\n",
    "\n",
    "- **[PyThaiNLP](https://pythainlp.github.io/)** - spellchecking to validate and enrich recognition results as needed\n",
    "- **[Longdo Dictionary](https://dict.longdo.com/index.php)** - to lookup words in\n",
    "\n",
    "338"
   ]
  },
  {
   "cell_type": "code",
   "execution_count": 2,
   "id": "cc111204-cef8-40c2-88fc-a9aa235fe34a",
   "metadata": {
    "tags": [],
    "ExecuteTime": {
     "end_time": "2024-05-14T18:56:02.154426300Z",
     "start_time": "2024-05-14T18:56:00.415718500Z"
    }
   },
   "outputs": [
    {
     "name": "stdout",
     "output_type": "stream",
     "text": [
      ">> screen2text imported.\n"
     ]
    }
   ],
   "source": [
    "from screen2text import *"
   ]
  },
  {
   "cell_type": "code",
   "execution_count": 3,
   "id": "9387ce15-92f1-4784-b500-06d9a681ae12",
   "metadata": {
    "tags": [],
    "ExecuteTime": {
     "end_time": "2024-05-14T18:56:02.157138500Z",
     "start_time": "2024-05-14T18:56:02.156130900Z"
    }
   },
   "outputs": [],
   "source": [
    "ex = DictLookup()"
   ]
  },
  {
   "cell_type": "code",
   "execution_count": 11,
   "outputs": [
    {
     "data": {
      "text/plain": "<PIL.PngImagePlugin.PngImageFile image mode=RGBA size=49x56>",
      "image/png": "[encoded data removed]"
     },
     "metadata": {},
     "output_type": "display_data"
    },
    {
     "name": "stdout",
     "output_type": "stream",
     "text": [
      "Done in 0:00:02.613997\n",
      "Looking up ทะตู... \n"
     ]
    },
    {
     "data": {
      "text/plain": "<IPython.core.display.HTML object>",
      "text/html": "<style>table {width: 60%;} </style><h4>Lookup results for \"<strong>ทะตู</strong>\"</h4>"
     },
     "metadata": {},
     "output_type": "display_data"
    }
   ],
   "source": [
    "ex.recognize_and_lookup(lang='tha', kind='line')"
   ],
   "metadata": {
    "collapsed": false,
    "ExecuteTime": {
     "end_time": "2024-05-14T19:02:06.750778100Z",
     "start_time": "2024-05-14T18:59:31.538846800Z"
    }
   }
  },
  {
   "cell_type": "code",
   "execution_count": 5,
   "outputs": [
    {
     "name": "stdout",
     "output_type": "stream",
     "text": [
      "Looking up เต้า... \n"
     ]
    }
   ],
   "source": [
    "ex.lookup('เต้า')"
   ],
   "metadata": {
    "collapsed": false,
    "ExecuteTime": {
     "end_time": "2024-05-14T18:56:24.366448300Z",
     "start_time": "2024-05-14T18:56:22.779311200Z"
    }
   }
  },
  {
   "cell_type": "markdown",
   "id": "68a5c817-1b71-450e-9725-d5122f0e20b7",
   "metadata": {},
   "source": [
    "## Inspecting results"
   ]
  },
  {
   "cell_type": "code",
   "execution_count": 12,
   "outputs": [
    {
     "data": {
      "text/plain": "[('ทะตู', 0.23),\n ('แม', 0.19),\n ('ทะดู', 0.14),\n ('คอน', 0.12),\n ('เซ', 0.12),\n ('คน', 0.12),\n ('ทะ', 0.12),\n (\"ทะ' คุ\", 0.08),\n ('กรบ', 0.06),\n ('เล', 0.06),\n ('ครน', 0.06),\n ('ซน', 0.06),\n ('ะน', 0.06),\n ('ระตู', -1),\n ('ระดู', -1)]"
     },
     "execution_count": 12,
     "metadata": {},
     "output_type": "execute_result"
    }
   ],
   "source": [
    "ex.suggestions"
   ],
   "metadata": {
    "collapsed": false,
    "ExecuteTime": {
     "end_time": "2024-05-14T19:02:36.863328Z",
     "start_time": "2024-05-14T19:02:36.844877400Z"
    }
   }
  },
  {
   "cell_type": "code",
   "execution_count": 8,
   "outputs": [
    {
     "data": {
      "text/plain": "[('แม', 0.18),\n ('กรบ', 0.12),\n ('คอน', 0.12),\n ('เซ', 0.12),\n ('คน', 0.12),\n ('ทะ', 0.12),\n ('เล', 0.06),\n ('ครน', 0.06),\n ('ซน', 0.06),\n ('ะน', 0.06)]"
     },
     "execution_count": 8,
     "metadata": {},
     "output_type": "execute_result"
    }
   ],
   "source": [
    "ex.get_freqs(ex.validated_words.values())"
   ],
   "metadata": {
    "collapsed": false,
    "ExecuteTime": {
     "end_time": "2024-05-14T18:58:06.957397500Z",
     "start_time": "2024-05-14T18:58:06.953887Z"
    }
   }
  },
  {
   "cell_type": "code",
   "execution_count": 9,
   "outputs": [
    {
     "data": {
      "text/plain": "[('', 0.29),\n ('ทะตู', 0.18),\n ('ทะดู', 0.1),\n (\"ทะ' คุ\", 0.04),\n ('แม', 0.02),\n ('ทะ ตู', 0.01),\n ('.', 0.01),\n ('เล', 0.01),\n ('กรบ', 0.01),\n ('ซน|', 0.01),\n ('คอน', 0.01),\n ('ครน', 0.01),\n ('คะง', 0.01),\n ('เซ', 0.01),\n ('เร\\n\\nจ', 0.01),\n ('คน', 0.01),\n ('คะงู', 0.01),\n ('ทะถิ\\nจ', 0.01),\n ('ทะถุ', 0.01),\n ('ทะฉู', 0.01),\n ('ทะฉู\\n\\nๆ', 0.01),\n ('ะบ\\n1', 0.01),\n ('ทอุ', 0.01),\n ('ทรตู', 0.01),\n ('๕2', 0.01),\n ('-  -:', 0.01),\n (\"ทะ' ต\", 0.01),\n ('ท\\n\\n1รจ]\\nว', 0.01),\n ('ท', 0.01),\n ('ซน', 0.01),\n ('ทะต', 0.01),\n ('ทะ', 0.01),\n (',\\n\\nเร\\n\\n๒\\n\\nเดศ์', 0.01),\n ('ะน', 0.01),\n ('ทะตดุ', 0.01),\n ('=', 0.01),\n ('2', 0.01),\n ('ท\\n\\n#', 0.01),\n ('ท\\n\\nโซ', 0.01)]"
     },
     "execution_count": 9,
     "metadata": {},
     "output_type": "execute_result"
    }
   ],
   "source": [
    "ex.get_freqs(ex.out_texts.values())"
   ],
   "metadata": {
    "collapsed": false,
    "ExecuteTime": {
     "end_time": "2024-05-14T18:58:25.153499500Z",
     "start_time": "2024-05-14T18:58:25.144617Z"
    }
   }
  },
  {
   "cell_type": "code",
   "execution_count": 13,
   "outputs": [
    {
     "name": "stdout",
     "output_type": "stream",
     "text": [
      "['ระตู']\n",
      "['แม']\n",
      "['ระดู']\n",
      "['คอน']\n",
      "['เซ']\n",
      "['คน']\n",
      "['ทะ']\n",
      "[\"ทะ' คุ\"]\n",
      "['กับ', 'กรม', 'ครบ', 'กรอบ', 'กร', 'กระ', 'รบ', 'กราบ', 'กรด', 'กบ', 'กรง', 'กลบ', 'กอบ', 'กรุ', 'กรู', 'กาบ', 'กรร', 'กรี', 'กรา', 'กรอ', 'กีบ', 'กรำ', 'กรน', 'กรุบ', 'กรก', 'กรับ', 'กริ', 'กริบ', 'กุบ', 'กูบ', 'ปรบ', 'หรบ', 'กร์', 'ก้บ', 'กิบ', 'แกรบ', 'ก๊บ', 'แรบ', 'โรบ']\n",
      "['เล']\n",
      "['คน', 'ครู', 'คืน', 'ครบ', 'คัน', 'คอน', 'ค้น', 'คาน', 'เรน', 'ครก', 'คริ', 'ครา', 'คิน', 'คร', 'รน', 'ครืน', 'คุน', 'ครี', 'ครุ', 'โรน', 'ควน', 'คีน', 'กรน', 'คูน', 'แรน', 'ครัน', 'ครอ', 'เครน', 'คึน', 'ค่น', 'ปรน', 'ครอน', 'ครม', 'ครง', 'คำรน', 'ครึ', 'ครำ', 'คเน', 'คมน', 'คราน', 'ครร', 'ครีน', 'คทน']\n",
      "['ซน']\n",
      "['ใน', 'คน', 'นะ', 'จน', 'บน', 'ตน', 'ชน', 'ฝน', 'ขน', 'ทน', 'โน', 'เน', 'หน', 'ปน', 'สน', 'วน', 'ธน', 'มน', 'ไน', 'ซน', 'นน', 'อน', 'ยน', 'รน', 'แน', 'กน', 'ลน', 'พน', 'ดน', 'ฅน', 'ฮน', 'ถน', 'งน', 'ษน', 'ผน', 'ฉน', 'ฐน', 'ภน', 'ฌน', 'ฒน', 'ฎน', 'ศน', 'ฟน', 'ฃน']\n",
      "['ระตู']\n",
      "['ระดู']\n"
     ]
    }
   ],
   "source": [
    "for suggestion in [item[0] for item in ex.suggestions]:\n",
    "    print(spell(suggestion))"
   ],
   "metadata": {
    "collapsed": false,
    "ExecuteTime": {
     "end_time": "2024-05-14T19:03:02.645500500Z",
     "start_time": "2024-05-14T19:03:02.242759400Z"
    }
   }
  },
  {
   "cell_type": "code",
   "execution_count": 14,
   "outputs": [
    {
     "name": "stdout",
     "output_type": "stream",
     "text": [
      "[('ทะตู', 0.23), ('แม', 0.19), ('ทะดู', 0.14), ('คอน', 0.12), ('เซ', 0.12), ('คน', 0.12), ('ทะ', 0.12), (\"ทะ' คุ\", 0.08), ('กรบ', 0.06), ('เล', 0.06), ('ครน', 0.06), ('ซน', 0.06), ('ะน', 0.06), ('ระตู', -1), ('ระดู', -1)]\n"
     ]
    },
    {
     "data": {
      "text/plain": "<PIL.PngImagePlugin.PngImageFile image mode=RGBA size=49x56>",
      "image/png": "[encoded data removed]"
     },
     "metadata": {},
     "output_type": "display_data"
    },
    {
     "name": "stdout",
     "output_type": "stream",
     "text": [
      "1: , 3: , 7: ทะ ตู, 11: ทะ ตู, 12: , 13: ทะตู, \n",
      "\n",
      "((55, 198), (41, 180), (18, 151), (255, 255)) -> (43, 182)\n",
      "\n",
      "0.5\n"
     ]
    },
    {
     "data": {
      "text/plain": "<PIL.Image.Image image mode=L size=49x56>",
      "image/png": "[encoded data removed]",
      "image/jpeg": "[encoded data removed]"
     },
     "metadata": {},
     "output_type": "display_data"
    },
    {
     "name": "stdout",
     "output_type": "stream",
     "text": [
      "1: , 3: , 7: ., 11: , 12: , 13: , \n",
      "\n",
      "0.55\n"
     ]
    },
    {
     "data": {
      "text/plain": "<PIL.Image.Image image mode=L size=49x56>",
      "image/png": "[encoded data removed]",
      "image/jpeg": "[encoded data removed]"
     },
     "metadata": {},
     "output_type": "display_data"
    },
    {
     "name": "stdout",
     "output_type": "stream",
     "text": [
      "1: , 3: , 7: , 11: , 12: , 13: , \n",
      "\n",
      "0.6\n"
     ]
    },
    {
     "data": {
      "text/plain": "<PIL.Image.Image image mode=L size=49x56>",
      "image/png": "[encoded data removed]",
      "image/jpeg": "[encoded data removed]"
     },
     "metadata": {},
     "output_type": "display_data"
    },
    {
     "name": "stdout",
     "output_type": "stream",
     "text": [
      "1: , 3: , 7: เล, 11: ซน|, 12: ซน, 13: กรบ, \n",
      "\n",
      "0.65\n"
     ]
    },
    {
     "data": {
      "text/plain": "<PIL.Image.Image image mode=L size=49x56>",
      "image/png": "[encoded data removed]",
      "image/jpeg": "[encoded data removed]"
     },
     "metadata": {},
     "output_type": "display_data"
    },
    {
     "name": "stdout",
     "output_type": "stream",
     "text": [
      "1: คอน, 3: คอน, 7: ครน, 11: เซ, 12: เซ, 13: คะง, \n",
      "\n",
      "0.7\n"
     ]
    },
    {
     "data": {
      "text/plain": "<PIL.Image.Image image mode=L size=49x56>",
      "image/png": "[encoded data removed]",
      "image/jpeg": "[encoded data removed]"
     },
     "metadata": {},
     "output_type": "display_data"
    },
    {
     "name": "stdout",
     "output_type": "stream",
     "text": [
      "1: เรจ, 3: เรจ, 7: คน, 11: คน, 12: ,เร๒เดศ์, 13: คะงู, \n",
      "\n",
      "0.75\n"
     ]
    },
    {
     "data": {
      "text/plain": "<PIL.Image.Image image mode=L size=49x56>",
      "image/png": "[encoded data removed]",
      "image/jpeg": "[encoded data removed]"
     },
     "metadata": {},
     "output_type": "display_data"
    },
    {
     "name": "stdout",
     "output_type": "stream",
     "text": [
      "1: ทะถิจ, 3: ทะถิจ, 7: แม, 11: แม, 12: แม, 13: ทะถุ, \n",
      "\n",
      "0.8\n"
     ]
    },
    {
     "data": {
      "text/plain": "<PIL.Image.Image image mode=L size=49x56>",
      "image/png": "[encoded data removed]",
      "image/jpeg": "[encoded data removed]"
     },
     "metadata": {},
     "output_type": "display_data"
    },
    {
     "name": "stdout",
     "output_type": "stream",
     "text": [
      "1: , 3: , 7: ทะฉู, 11: ทะฉูๆ, 12: ทะฉู, 13: ทะตู, \n",
      "\n",
      "0.85\n"
     ]
    },
    {
     "data": {
      "text/plain": "<PIL.Image.Image image mode=L size=49x56>",
      "image/png": "[encoded data removed]",
      "image/jpeg": "[encoded data removed]"
     },
     "metadata": {},
     "output_type": "display_data"
    },
    {
     "name": "stdout",
     "output_type": "stream",
     "text": [
      "1: ะบ1, 3: ะบ1, 7: ทอุ, 11: ทอุ, 12: ะน, 13: ทะตู, \n",
      "\n",
      "0.9\n"
     ]
    },
    {
     "data": {
      "text/plain": "<PIL.Image.Image image mode=L size=49x56>",
      "image/png": "[encoded data removed]",
      "image/jpeg": "[encoded data removed]"
     },
     "metadata": {},
     "output_type": "display_data"
    },
    {
     "name": "stdout",
     "output_type": "stream",
     "text": [
      "1: , 3: , 7: ทะดู, 11: ทะดู, 12: ทะตดุ, 13: ทรตู, \n",
      "\n",
      "0.95\n"
     ]
    },
    {
     "data": {
      "text/plain": "<PIL.Image.Image image mode=L size=49x56>",
      "image/png": "[encoded data removed]",
      "image/jpeg": "[encoded data removed]"
     },
     "metadata": {},
     "output_type": "display_data"
    },
    {
     "name": "stdout",
     "output_type": "stream",
     "text": [
      "1: ๕2, 3: ๕2, 7: ทะตู, 11: ทะตู, 12: =, 13: ทะตู, \n",
      "\n",
      "1.0\n"
     ]
    },
    {
     "data": {
      "text/plain": "<PIL.Image.Image image mode=L size=49x56>",
      "image/png": "[encoded data removed]",
      "image/jpeg": "[encoded data removed]"
     },
     "metadata": {},
     "output_type": "display_data"
    },
    {
     "name": "stdout",
     "output_type": "stream",
     "text": [
      "1: -  -:, 3: -  -:, 7: ทะดู, 11: ทะตู, 12: 2, 13: ทะตู, \n",
      "\n",
      "1.05\n"
     ]
    },
    {
     "data": {
      "text/plain": "<PIL.Image.Image image mode=L size=49x56>",
      "image/png": "[encoded data removed]",
      "image/jpeg": "[encoded data removed]"
     },
     "metadata": {},
     "output_type": "display_data"
    },
    {
     "name": "stdout",
     "output_type": "stream",
     "text": [
      "1: ท1รจ]ว, 3: ท1รจ]ว, 7: ทะ' ต, 11: ทะ' ต, 12: ท#, 13: ทะตู, \n",
      "\n",
      "1.1\n"
     ]
    },
    {
     "data": {
      "text/plain": "<PIL.Image.Image image mode=L size=49x56>",
      "image/png": "[encoded data removed]",
      "image/jpeg": "[encoded data removed]"
     },
     "metadata": {},
     "output_type": "display_data"
    },
    {
     "name": "stdout",
     "output_type": "stream",
     "text": [
      "1: , 3: , 7: ทะ' คุ, 11: ทะ' คุ, 12: , 13: ทะดู, \n",
      "\n",
      "1.15\n"
     ]
    },
    {
     "data": {
      "text/plain": "<PIL.Image.Image image mode=L size=49x56>",
      "image/png": "[encoded data removed]",
      "image/jpeg": "[encoded data removed]"
     },
     "metadata": {},
     "output_type": "display_data"
    },
    {
     "name": "stdout",
     "output_type": "stream",
     "text": [
      "1: , 3: , 7: ทะ' คุ, 11: ทะ' คุ, 12: , 13: ทะดู, \n",
      "\n",
      "1.2\n"
     ]
    },
    {
     "data": {
      "text/plain": "<PIL.Image.Image image mode=L size=49x56>",
      "image/png": "[encoded data removed]",
      "image/jpeg": "[encoded data removed]"
     },
     "metadata": {},
     "output_type": "display_data"
    },
    {
     "name": "stdout",
     "output_type": "stream",
     "text": [
      "1: ท, 3: ท, 7: ทะ' คุ, 11: ทะ' คุ, 12: ทโซ, 13: ทะดู, \n",
      "\n",
      "1.25\n"
     ]
    },
    {
     "data": {
      "text/plain": "<PIL.Image.Image image mode=L size=49x56>",
      "image/png": "[encoded data removed]",
      "image/jpeg": "[encoded data removed]"
     },
     "metadata": {},
     "output_type": "display_data"
    },
    {
     "name": "stdout",
     "output_type": "stream",
     "text": [
      "1: , 3: , 7: ทะดู, 11: ทะดู, 12: , 13: ทะดู, \n",
      "\n",
      "1.3\n"
     ]
    },
    {
     "data": {
      "text/plain": "<PIL.Image.Image image mode=L size=49x56>",
      "image/png": "[encoded data removed]",
      "image/jpeg": "[encoded data removed]"
     },
     "metadata": {},
     "output_type": "display_data"
    },
    {
     "name": "stdout",
     "output_type": "stream",
     "text": [
      "1: , 3: , 7: ทะตู, 11: ทะดู, 12: , 13: ทะตู, \n",
      "\n",
      "1.35\n"
     ]
    },
    {
     "data": {
      "text/plain": "<PIL.Image.Image image mode=L size=49x56>",
      "image/png": "[encoded data removed]",
      "image/jpeg": "[encoded data removed]"
     },
     "metadata": {},
     "output_type": "display_data"
    },
    {
     "name": "stdout",
     "output_type": "stream",
     "text": [
      "1: , 3: , 7: ทะตู, 11: ทะตู, 12: , 13: ทะตู, \n",
      "\n",
      "1.4\n"
     ]
    },
    {
     "data": {
      "text/plain": "<PIL.Image.Image image mode=L size=49x56>",
      "image/png": "[encoded data removed]",
      "image/jpeg": "[encoded data removed]"
     },
     "metadata": {},
     "output_type": "display_data"
    },
    {
     "name": "stdout",
     "output_type": "stream",
     "text": [
      "1: , 3: , 7: ทะตู, 11: ทะตู, 12: , 13: ทะตู, \n",
      "\n",
      "1.45\n"
     ]
    },
    {
     "data": {
      "text/plain": "<PIL.Image.Image image mode=L size=49x56>",
      "image/png": "[encoded data removed]",
      "image/jpeg": "[encoded data removed]"
     },
     "metadata": {},
     "output_type": "display_data"
    },
    {
     "name": "stdout",
     "output_type": "stream",
     "text": [
      "1: , 3: , 7: , 11: ทะ, 12: ทะ, 13: ทะต, \n"
     ]
    }
   ],
   "source": [
    "print(ex.suggestions)\n",
    "ex.inspect_results()"
   ],
   "metadata": {
    "collapsed": false,
    "ExecuteTime": {
     "end_time": "2024-05-14T19:03:30.232810800Z",
     "start_time": "2024-05-14T19:03:30.183072Z"
    }
   }
  },
  {
   "cell_type": "code",
   "execution_count": 32,
   "outputs": [
    {
     "data": {
      "text/plain": "0.9272952180016123"
     },
     "execution_count": 32,
     "metadata": {},
     "output_type": "execute_result"
    }
   ],
   "source": [
    "import math\n",
    "\n",
    "math.asin(.8)"
   ],
   "metadata": {
    "collapsed": false,
    "ExecuteTime": {
     "end_time": "2024-05-11T14:58:24.944456200Z",
     "start_time": "2024-05-11T14:58:24.941528200Z"
    }
   }
  },
  {
   "cell_type": "code",
   "execution_count": 33,
   "outputs": [
    {
     "data": {
      "text/plain": "0.2"
     },
     "execution_count": 33,
     "metadata": {},
     "output_type": "execute_result"
    }
   ],
   "source": [
    ".8 * (1/4)"
   ],
   "metadata": {
    "collapsed": false,
    "ExecuteTime": {
     "end_time": "2024-05-11T14:59:48.116474300Z",
     "start_time": "2024-05-11T14:59:48.110918800Z"
    }
   }
  },
  {
   "cell_type": "code",
   "execution_count": null,
   "outputs": [],
   "source": [],
   "metadata": {
    "collapsed": false
   }
  }
 ],
 "metadata": {
  "kernelspec": {
   "display_name": "Python 3 (ipykernel)",
   "language": "python",
   "name": "python3"
  },
  "language_info": {
   "codemirror_mode": {
    "name": "ipython",
    "version": 3
   },
   "file_extension": ".py",
   "mimetype": "text/x-python",
   "name": "python",
   "nbconvert_exporter": "python",
   "pygments_lexer": "ipython3",
   "version": "3.11.5"
  }
 },
 "nbformat": 4,
 "nbformat_minor": 5
}
