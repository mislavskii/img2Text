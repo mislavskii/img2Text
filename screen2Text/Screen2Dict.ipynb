{
 "cells": [
  {
   "cell_type": "markdown",
   "id": "198c1855-8aaa-446b-91a4-0c5bce8fb115",
   "metadata": {},
   "source": [
    "# Recognize a Word and Lookup in Dictionary\n",
    "\n",
    "Currently only implemented for Thai language.\n",
    "\n",
    "### References:\n",
    "\n",
    "- **[PyThaiNLP](https://pythainlp.github.io/)** - spellchecking to validate and enrich recognition results as needed\n",
    "- **[Longdo Dictionary](https://dict.longdo.com/index.php)** - to lookup words in"
   ]
  },
  {
   "cell_type": "code",
   "execution_count": 1,
   "id": "cc111204-cef8-40c2-88fc-a9aa235fe34a",
   "metadata": {
    "tags": [],
    "ExecuteTime": {
     "end_time": "2024-05-11T05:33:32.915919900Z",
     "start_time": "2024-05-11T05:33:31.248532400Z"
    }
   },
   "outputs": [
    {
     "name": "stdout",
     "output_type": "stream",
     "text": [
      ">> screen2text imported.\n"
     ]
    }
   ],
   "source": [
    "from screen2text import *"
   ]
  },
  {
   "cell_type": "code",
   "execution_count": 2,
   "id": "9387ce15-92f1-4784-b500-06d9a681ae12",
   "metadata": {
    "tags": [],
    "ExecuteTime": {
     "end_time": "2024-05-11T05:33:32.919272100Z",
     "start_time": "2024-05-11T05:33:32.915919900Z"
    }
   },
   "outputs": [],
   "source": [
    "ex = DictLookup()"
   ]
  },
  {
   "cell_type": "code",
   "execution_count": 20,
   "outputs": [
    {
     "data": {
      "text/plain": "<PIL.PngImagePlugin.PngImageFile image mode=RGBA size=51x69>",
      "image/png": "[encoded data removed]"
     },
     "metadata": {},
     "output_type": "display_data"
    },
    {
     "name": "stdout",
     "output_type": "stream",
     "text": [
      "Done in 0:00:03.132472\n",
      "Looking up ค่าง...\n"
     ]
    },
    {
     "data": {
      "text/plain": "<IPython.core.display.HTML object>",
      "text/html": "<style>table {width: 60%;} </style><h4>Lookup results for \"<strong>ค่าง</strong>\"</h4><h5>Thai-English: NECTEC's Lexitron-2 Dictionary [with local updates]</h5>\n<table cellpadding=\"0\" cellspacing=\"0\" class=\"search-result-table\" width=\"100%\"><tr><td style=\"vertical-align:top;\" width=\"150\"><a href=\"search/ค่าง\" style=\"color: white\"><b>ค่าง</b></a></td><td style=\"vertical-align:top;\">(n) langur, <b>See also:</b> <a href=\"search/leaf monkey\">leaf monkey</a>, <b>Example:</b> เขามองเข้าไปที่ห้องสตัฟฟ์เห็นค่างโหนกิ่งไม้แห้งเหยี่ยวกำลังกระพือปีกกว้าง ยกขาหน้าอยู่, <b>Count Unit:</b> ตัว, <b>Thai Definition:</b> ชื่อลิงในวงศ์  Cercopithecidae ตัวสีเทาหรือดำ ลำตัว แขน ขา และหางยาวกว่าลิงทั่วๆ ไป กินใบไม้และผลไม้</td></tr></table>\n<h5>ไทย-ไทย: พจนานุกรมฉบับราชบัณฑิตยสถาน พ.ศ. ๒๕๕๔</h5>\n<table cellpadding=\"0\" cellspacing=\"0\" class=\"search-result-table\" width=\"100%\"><tr><td style=\"vertical-align:top;\" width=\"150\"><a href=\"search/ค่าง\" style=\"color: white\"><b>ค่าง</b></a></td><td style=\"vertical-align:top;\">น. ชื่อสัตว์เลี้ยงลูกด้วยนม ในวงศ์ Cercopithecidae ลักษณะคล้ายลิง ขนสีเทาหรือดำ ลำตัว แขน ขา และหางยาวกว่าลิงทั่ว ๆ ไป กินใบไม้และบางครั้งผลไม้ ในประเทศไทยมี ๔ ชนิด คือ <b>ค่าง</b>ดำ [ &lt;i&gt; Presbytis melalophos&lt;/i&gt; (Raffles) ] <b>ค่าง</b>แว่นถิ่นใต้ [ &lt;i&gt; P. obscura&lt;/i&gt; (Reid) ] <b>ค่าง</b>หงอกหรือ<b>ค่าง</b>เทา [ &lt;i&gt; P. cristata&lt;/i&gt; (Raffles) ] และ<b>ค่าง</b>แว่นถิ่นเหนือ (&lt;i&gt; P. phayrei&lt;/i&gt; Blyth).</td></tr><tr><td style=\"vertical-align:top;\" width=\"150\"><a href=\"search/ค้าง ๑\" style=\"color: white\">ค้าง ๑</a></td><td style=\"vertical-align:top;\">ก. ตกลงมาหรือขึ้นไปติดอยู่กับสิ่งใดสิ่งหนึ่ง, ติดอยู่กลางทาง, ติดอยู่, เช่น เรือค้างแห้ง ค้างหนี้, ยังไม่แล้วเสร็จตามที่กำหนด เช่น ทำงานค้าง</td></tr><tr><td style=\"vertical-align:top;\" width=\"150\"><a href=\"search/ค้าง ๑\" style=\"color: white\">ค้าง ๑</a></td><td style=\"vertical-align:top;\">เหลือกหรืออ้าแล้วเอาลงหรือหุบไม่ได้ เช่น ตาค้าง อ้าปากค้าง ขากรรไกรค้าง</td></tr><tr><td style=\"vertical-align:top;\" width=\"150\"><a href=\"search/ค้าง ๑\" style=\"color: white\">ค้าง ๑</a></td><td style=\"vertical-align:top;\">แรมคืน, ค้างคืน ก็ว่า.</td></tr><tr><td style=\"vertical-align:top;\" width=\"150\"><a href=\"search/ค้าง ๑\" style=\"color: white\">ค้าง ๑</a></td><td style=\"vertical-align:top;\">น. ไม้หลักสำหรับให้ไม้เถาขึ้นเกาะ เช่น ค้างพลู ค้างถั่ว.</td></tr><tr><td style=\"vertical-align:top;\" width=\"150\"><a href=\"search/ค้าง ๒\" style=\"color: white\">ค้าง ๒</a></td><td style=\"vertical-align:top;\">น. ชื่อหนึ่งของถั่วฝักยาว ซึ่งมีไม้ค้างปักเป็นหลักให้เถาเกาะ เรียกว่า ถั่วค้าง. &lt;i&gt; (ดู ถั่วฝักยาว ที่ ถั่ว ๑)&lt;/i&gt;.</td></tr></table>\n<h5>อังกฤษ-ไทย: คลังศัพท์ไทย โดย สวทช.</h5>\n<table cellpadding=\"0\" cellspacing=\"0\" class=\"search-result-table\" width=\"100%\"><tr><td style=\"vertical-align:top;\" width=\"150\"><a href=\"search/Presbytis\" style=\"color: white\">Presbytis</a></td><td style=\"vertical-align:top;\"><b>ค่าง</b> <font color=\"gray\">[TU Subject Heading]</font></td></tr><tr><td style=\"vertical-align:top;\" width=\"150\"><a href=\"search/Monkeys, Dusky Leaf\" style=\"color: white\">Monkeys, Dusky Leaf</a></td><td style=\"vertical-align:top;\"><b>ค่าง</b> <font color=\"gray\">[การแพทย์]</font></td></tr><tr><td style=\"vertical-align:top;\" width=\"150\"><a href=\"search/Monkeys, Leaf\" style=\"color: white\">Monkeys, Leaf</a></td><td style=\"vertical-align:top;\"><b>ค่าง</b> <font color=\"gray\">[การแพทย์]</font></td></tr></table>\n<h5>Thai-English-French: Volubilis Dictionary 1.0</h5>\n<table cellpadding=\"0\" cellspacing=\"0\" class=\"search-result-table\" width=\"100%\"><tr><td style=\"vertical-align:top;\" width=\"150\"><a href=\"search/ค่าง\" style=\"color: white\"><b>ค่าง</b></a></td><td>[khāng] (n) <b>EN:</b> langur ; leaf monkey ; long-tailed monkey</td></tr><tr><td style=\"vertical-align:top;\" width=\"150\"><a href=\"search/ค้าง\" style=\"color: white\">ค้าง</a></td><td>[khāng] (v) <b>EN:</b> owe ; be due to ; be behind  <b>FR:</b> devoir</td></tr><tr><td style=\"vertical-align:top;\" width=\"150\"><a href=\"search/ค้าง\" style=\"color: white\">ค้าง</a></td><td>[khāng] (v) <b>EN:</b> remain ; leave ; be unfinished ; be unsettled ; be incomplete ; be undone  <b>FR:</b> être inachevé ; être interrompu</td></tr><tr><td style=\"vertical-align:top;\" width=\"150\"><a href=\"search/ค้าง\" style=\"color: white\">ค้าง</a></td><td>[khāng] (v) <b>EN:</b> stay ; lodge ; stay overnight ; spend the night ; lodge for a night ; pass the night ; put up for the night  <b>FR:</b> loger ; passer la nuit</td></tr></table>\n<h5>English-Thai: NECTEC's Lexitron-2 Dictionary [with local updates]</h5>\n<table cellpadding=\"0\" cellspacing=\"0\" class=\"search-result-table\" width=\"100%\"><tr><td style=\"vertical-align:top;\" width=\"150\"><a href=\"search/installment\" style=\"color: white\">installment</a></td><td style=\"vertical-align:top;\">(n) <b>ค่าง</b>วด, <b>See also:</b> <a href=\"search/ค่าผ่อนส่ง\">ค่าผ่อนส่ง</a></td></tr></table>\n<h5>English-Thai: Nontri Dictionary</h5>\n<table cellpadding=\"0\" cellspacing=\"0\" class=\"search-result-table\" width=\"100%\"><tr><td style=\"vertical-align:top;\" width=\"150\"><a href=\"search/imp\" style=\"color: white\">imp</a></td><td style=\"vertical-align:top;\">(n) ผี, เด็กซน, ลูกลิงลูก<b>ค่าง</b></td></tr><tr><td style=\"vertical-align:top;\" width=\"150\"><a href=\"search/macaque\" style=\"color: white\">macaque</a></td><td style=\"vertical-align:top;\">(n) <b>ค่าง</b>, ลิงกัง</td></tr></table>\n"
     },
     "metadata": {},
     "output_type": "display_data"
    }
   ],
   "source": [
    "ex.recognize_and_lookup()"
   ],
   "metadata": {
    "collapsed": false,
    "ExecuteTime": {
     "end_time": "2024-05-11T07:58:18.843660600Z",
     "start_time": "2024-05-11T07:57:53.581597100Z"
    }
   }
  },
  {
   "cell_type": "code",
   "execution_count": 12,
   "outputs": [
    {
     "name": "stdout",
     "output_type": "stream",
     "text": [
      "Looking up ล้วน...\n"
     ]
    },
    {
     "data": {
      "text/plain": "<IPython.core.display.HTML object>",
      "text/html": "<style>table {width: 60%;} </style><h4>Lookup results for \"<strong>ล้วน</strong>\"</h4><h5>Thai-English: NECTEC's Lexitron-2 Dictionary [with local updates]</h5>\n<table cellpadding=\"0\" cellspacing=\"0\" class=\"search-result-table\" width=\"100%\"><tr><td style=\"vertical-align:top;\" width=\"150\"><a href=\"search/ล้วน\" style=\"color: white\"><b>ล้วน</b></a></td><td style=\"vertical-align:top;\">(adv) all, <b>See also:</b> <a href=\"search/solely\">solely</a>, <a href=\"search/entirely\">entirely</a>, <a href=\"search/completely\">completely</a>, <a href=\"search/totally\">totally</a>, <b>Syn.</b> <a href=\"search/ทั้งนั้น\">ทั้งนั้น</a>, <a href=\"search/ล้วนแล้ว\">ล้วนแล้ว</a>, <a href=\"search/ตลอด\">ตลอด</a>, <a href=\"search/ทั้งหมด\">ทั้งหมด</a>, <a href=\"search/ทั้งปวง\">ทั้งปวง</a>, <a href=\"search/ทั้งสิ้น\">ทั้งสิ้น</a>, <a href=\"search/ทั้งมวล\">ทั้งมวล</a>, <b>Example:</b> ความขัดแย้งในคณะรัฐบาลล้วนเป็นสาเหตุทำให้คะแนนนิยมรัฐบาลลดลง, <b>Thai Definition:</b> ไม่มีสิ่งชนิดอื่นปน</td></tr><tr><td style=\"vertical-align:top;\" width=\"150\"><a href=\"search/ล้วนแต่\" style=\"color: white\"><b>ล้วน</b>แต่</a></td><td style=\"vertical-align:top;\">(pron) all, <b>Syn.</b> <a href=\"search/ล้วนแล้วแต่\">ล้วนแล้วแต่</a>, <b>Example:</b> คนในห้องนั้นล้วนแต่เขี้ยวลากดินทั้งนั้นเลย</td></tr><tr><td style=\"vertical-align:top;\" width=\"150\"><a href=\"search/ล้วนแล้วแต่\" style=\"color: white\"><b>ล้วน</b>แล้วแต่</a></td><td style=\"vertical-align:top;\">(pron) all, <b>Syn.</b> <a href=\"search/ล้วนแต่\">ล้วนแต่</a>, <b>Example:</b> หนังสือพิมพ์ยักษ์ใหญ่ทุกแห่งล้วนแล้วแต่มีคอมพิวเตอร์ใช้งานกันอย่างแพร่หลาย</td></tr></table>\n<h5>ไทย-ไทย: พจนานุกรมฉบับราชบัณฑิตยสถาน พ.ศ. ๒๕๕๔</h5>\n<table cellpadding=\"0\" cellspacing=\"0\" class=\"search-result-table\" width=\"100%\"><tr><td style=\"vertical-align:top;\" width=\"150\"><a href=\"search/ล้วน, ล้วน ๆ\" style=\"color: white\"><b>ล้วน</b>, <b>ล้วน</b> ๆ</a></td><td style=\"vertical-align:top;\">ว. แท้, เป็นอย่างเดียวกันหมด, ไม่มีอะไรปน, เช่น ทอง<b>ล้วน</b> เงิน<b>ล้วน</b> ๆ.</td></tr><tr><td style=\"vertical-align:top;\" width=\"150\"><a href=\"search/ล้วนด้วย, ล้วนแล้ว\" style=\"color: white\"><b>ล้วน</b>ด้วย, <b>ล้วน</b>แล้ว</a></td><td style=\"vertical-align:top;\">ว. แล้วด้วย, แล้วไปด้วย, เช่น <b>ล้วน</b>ด้วยดอกไม้สีขาว <b>ล้วน</b>แล้วไปด้วยทอง.</td></tr><tr><td style=\"vertical-align:top;\" width=\"150\"><a href=\"search/ล้วนแต่\" style=\"color: white\"><b>ล้วน</b>แต่</a></td><td style=\"vertical-align:top;\">ว. ทั้งหมด, ทั้งสิ้น, เช่น ผู้เข้าประกวดนางงาม<b>ล้วน</b>แต่สวย ๆ ทั้งนั้น.</td></tr><tr><td style=\"vertical-align:top;\" width=\"150\"><a href=\"search/ปลอด\" style=\"color: white\">ปลอด</a></td><td style=\"vertical-align:top;\"><b>ล้วน</b>, แท้ ๆ, เช่น ขาวปลอด ดำปลอด.</td></tr><tr><td style=\"vertical-align:top;\" width=\"150\"><a href=\"search/สุทธ-, สุทธ์\" style=\"color: white\">สุทธ-, สุทธ์</a></td><td style=\"vertical-align:top;\"><b>ล้วน</b>, แท้.</td></tr></table>\n<h5>อังกฤษ-ไทย: ศัพท์บัญญัติราชบัณฑิตยสถาน [เชื่อมโยงจาก orst.go.th แบบอัตโนมัติและผ่านการปรับแก้]</h5>\n<table cellpadding=\"0\" cellspacing=\"0\" class=\"search-result-table\" width=\"100%\"><tr><td style=\"vertical-align:top;\" width=\"150\"><a href=\"search/absolute\" style=\"color: white\">absolute</a></td><td style=\"vertical-align:top;\"><b>ล้วน</b> ๆ, สัมบูรณ์ <font color=\"gray\">[แพทยศาสตร์ ๖ ส.ค. ๒๕๔๔]</font></td></tr></table>\n<h5>Thai-English-French: Volubilis Dictionary 1.0</h5>\n<table cellpadding=\"0\" cellspacing=\"0\" class=\"search-result-table\" width=\"100%\"><tr><td style=\"vertical-align:top;\" width=\"150\"><a href=\"search/ล้วน\" style=\"color: white\"><b>ล้วน</b></a></td><td>[lūan] (adj) <b>EN:</b> exclusive ; sole ; pure ; unmixed ; absolute  <b>FR:</b> pur ; sans mélange ; exclusif ; absolu</td></tr><tr><td style=\"vertical-align:top;\" width=\"150\"><a href=\"search/ล้วน\" style=\"color: white\"><b>ล้วน</b></a></td><td>[lūan] (adv) <b>EN:</b> all ; entirely ; completely ; only ; full of  <b>FR:</b> tout à fait ; entièrement ; totalement ; uniquement ; seulement ; exclusivement</td></tr><tr><td style=\"vertical-align:top;\" width=\"150\"><a href=\"search/ล้วน ๆ\" style=\"color: white\"><b>ล้วน</b> ๆ</a></td><td>[lūan-lūan] (adj) <b>EN:</b> pure ; solid  <b>FR:</b> pur</td></tr><tr><td style=\"vertical-align:top;\" width=\"150\"><a href=\"search/ล้วน ๆ\" style=\"color: white\"><b>ล้วน</b> ๆ</a></td><td>[lūan-lūan] (adv) <b>EN:</b> all ; only ; without exception  <b>FR:</b> sans exception</td></tr><tr><td style=\"vertical-align:top;\" width=\"150\"><a href=\"search/ล้วนแต่\" style=\"color: white\"><b>ล้วน</b>แต่</a></td><td>[lūantaē] (x) <b>EN:</b> all  <b>FR:</b> tout ; totalement</td></tr></table>\n<h5>English-Thai: Longdo Dictionary</h5>\n<table cellpadding=\"0\" cellspacing=\"0\" class=\"search-result-table\" width=\"100%\"><tr><td style=\"vertical-align:top;\" width=\"150\"><a href=\"search/lasagna\" style=\"color: white\">lasagna</a></td><td style=\"vertical-align:top;\">(n) ชื่่ออาหารอิตาลีชนิดหนึ่ง ประกอบด้วยเส้นพาสต้า, ซอส, เนยแข็ง และอาจมีผักหรือเนื้อ แ<b>ล้วน</b>ำไปอบ<br/><b>Image:</b> <a href=\"/cache/pictures/106847705497978.jpeg\" target=\"picture\"><img border=\"0\" src=\"/cache/pictures/106847705497978.jpeg\" style=\"max-width:300px\"/></a> </td></tr><tr><td style=\"vertical-align:top;\" width=\"150\"><a href=\"search/all-girls school\" style=\"color: white\">all-girls school</a></td><td style=\"vertical-align:top;\">(n) โรงเรียนสตรี<b>ล้วน</b></td></tr><tr><td style=\"vertical-align:top;\" width=\"150\"><a href=\"search/withholding tax\" style=\"color: white\">withholding tax</a></td><td style=\"vertical-align:top;\">(n) ภาษีหัก ณ ที่จ่าย; เป็นภาษีที่ผู้จ่ายต้องหักไว้จากยอดเงินที่เรียกเก็บ แ<b>ล้วน</b>ำส่งให้กับกรมสรรพากร โดยต้องหนังสือรับรองการหักภาษี ณ ที่จ่าย ให้กับผู้รับเงิน; ข้อมูลเพิ่มเติม www.rd.go.th</td></tr></table>\n<h5>English-Thai: HOPE Dictionary [with local updates]</h5>\n<table cellpadding=\"0\" cellspacing=\"0\" class=\"search-result-table\" width=\"100%\"><tr><td style=\"vertical-align:top;\" width=\"150\"><a href=\"search/absolute\" style=\"color: white\">absolute</a></td><td style=\"vertical-align:top;\">(แอบ' โซลูท) adj. สมบูรณ์, เด็ดขาด, เผด็จการ, อย่างแท้จริง, <b>ล้วน</b>, สุทธิ, จริง</td></tr><tr><td style=\"vertical-align:top;\" width=\"150\"><a href=\"search/all\" style=\"color: white\">all</a></td><td style=\"vertical-align:top;\">(ออล) n., adj., adv. ทั้งหมด, จำนวนทั้งหมด, ทั้งมวล, ทั่วทุก, ตลอด, เท่าที่มีทั้งหมด, <b>ล้วน</b>, แท้, สูงสุด, ที่สุด. -above all ก่อนอื่น. -after all อย่างไรก็ตาม, ในที่สุด. -once and for all ในที่สุด. -all but เกือบจะ, จวนเจียน</td></tr><tr><td style=\"vertical-align:top;\" width=\"150\"><a href=\"search/api\" style=\"color: white\">api</a></td><td style=\"vertical-align:top;\">(เอพีไอ) ย่อมาจาก application program interface หมายถึงวิธีการอย่างหนึ่งที่ทำให้ ผู้ใช้คอมพิวเตอร์รู้สึกว่า การใช้คอมพิวเตอร์ง่ายขึ้นกว่าเดิม เช่น เอพีไอจะกำหนดขั้นตอนมาตรฐานให้โปรแกรมสำเร็จต่าง ๆ ทำงาน โดยวิธีให้ผู้ใช้เลือกจากรายการคำสั่ง (menu) หรือตอบคำถามในกรอบสนทนา (dialog box) แทนที่จะต้องจำคำสั่งอย่างแต่ก่อน การใช้ระบบวินโดว์บนเครื่องพีซีก็ดี OS/2 ก็ดี หรือระบบของแมคอินทอช ก็ดี <b>ล้วน</b>เป็นตัวอย่างที่เห็นได้ชัดของการนำเอพีไอมาใช้</td></tr><tr><td style=\"vertical-align:top;\" width=\"150\"><a href=\"search/bar code\" style=\"color: white\">bar code</a></td><td style=\"vertical-align:top;\">รหัสแท่ง &lt;คำแปล&gt;หมายถึง รหัสที่ประกอบด้วยเส้นหลายเส้นที่มีขนาดความกว้างต่าง ๆ กัน มักจะมีอยู่บนสินค้านานาชนิด นิยมใช้กันมากในปัจจุบัน เครื่องอ่านรหัสแท่งจะอ่านได้ด้วยการปล่อยให้แสงผ่าน แ<b>ล้วน</b>ำรหัสเหล่านี้มาแยกออกว่า เป็นรหัสของสินค้าอะไร ราคาเท่าใด บางบริษัทอาจจะใช้เป็นตัวควบคุมบัญชีพัสดุได้ด้วย</td></tr><tr><td style=\"vertical-align:top;\" width=\"150\"><a href=\"search/card reader\" style=\"color: white\">card reader</a></td><td style=\"vertical-align:top;\">เครื่องอ่านบัตรหมายถึง อุปกรณ์ชนิดหนึ่งที่ใช้การอ่านรูที่เจาะในบัตรแล้วถอดออกมาเป็นรหัส การอ่านรูเหล่านั้นทำได้ด้วยการใช้แปรงไฟฟ้าสัมผัส แ<b>ล้วน</b>ำข้อมูลเหล่านั้นส่งเข้าไปเก็บในหน่วยความจำเพื่อนำไปประมวลผลต่อไป</td></tr><tr><td style=\"vertical-align:top;\" width=\"150\"><a href=\"search/check box\" style=\"color: white\">check box</a></td><td style=\"vertical-align:top;\">กล่องเลือกช่องสำหรับกาเครื่องหมายหมายถึง ช่องสี่เหลี่ยมหรือวงกลมที่สร้างขึ้นไว้เพื่อให้ทำเครื่องหมายอย่างใดอย่างหนึ่งลงไป แสดงว่า ได้มีการเลือกตัวเลือกนั้นไว้แ<b>ล้วน</b>ั่นเอง โดยปกติจะวางไว้หน้าตัวเลือก มักใช้ในกรอบสนทนา (dialog box)</td></tr><tr><td style=\"vertical-align:top;\" width=\"150\"><a href=\"search/courier\" style=\"color: white\">courier</a></td><td style=\"vertical-align:top;\">(เคอ'เรียร์) n. คนเดินหนังสือ, ผู้ส่งข่าวสาร, ผู้ถูกว่าจ้างให้บริการทัศนาจรแก่นักท่องเที่ยว เป์นชื่อแบบอักษร (font) ที่เป็นที่นิยมมากแบบหนึ่งที่มีใช้ในระบบวินโดว์ 3.1 และวินโดว์ 95 ตัวอักษรทุกตัวไม่ว่าจะเป็น I หรือ w <b>ล้วน</b>แต่ใช้เนื้อที่เท่ากันทั้งหมด</td></tr><tr><td style=\"vertical-align:top;\" width=\"150\"><a href=\"search/ctrl+alt+del\" style=\"color: white\">ctrl+alt+del</a></td><td style=\"vertical-align:top;\">(เริ่มเครื่องใหม่) &lt;ความหมาย&gt;แป้น CTRL, ALT, DEL <b>ล้วน</b>เป็นแป้นพิมพ์พิเศษของเครื่องคอมพิวเตอร์ไอบีเอ็ม หรือ เครื่องที่ทำเลียนแบบไอบีเอ็ม เมื่อกดทั้งสามแป้นนี้พร้อมกันแล้ว จะเท่ากับสั่งให้คอมพิวเตอร์เริ่มต้น การทำเช่นนี้เรียกว่า \"warm boot\" จะเหมือนกับการปิดแล้วเปิดสวิตซ์ที่เครื่องใหม่ (cold boot) ในกรณีเช่นที่ว่านี้ ถ้ามีแฟ้มข้อมูลที่กำลังทำอยู่ ข้อมูลจะหายไปหมด เพราะไม่ได้สั่งเก็บหรือบันทึก</td></tr><tr><td style=\"vertical-align:top;\" width=\"150\"><a href=\"search/disk\" style=\"color: white\">disk</a></td><td style=\"vertical-align:top;\">(ดิสคฺ) { disked, disking, disks } n. แผ่นกลม, แผ่นเสียง, จานกลม. vt. พรวนดินด้วยคราดกลม., <b>Syn.</b> disc, circle จานบันทึกหมายถึง อุปกรณ์เก็บข้อมูลชนิดหนึ่ง ที่นิยมใช้กับไมโครคอมพิวเตอร์ มีลักษณะกลม เหมือนจาน มีอยู่ 3 ชนิด1. จานอ่อน floppy disk มีลักษณะอ่อน บรรจุในซองกระดาษ มีขนาด 5.25x5.25 นิ้ว การเก็บรักษาค่อนข้างยาก จุข้อมูลได้ประมาณสามแสนหกหมื่นถึงหนึ่งล้านสองแสนตัวอักษร 2. จานบันทึกอีกชนิดหนึ่งมีลักษณะแข็งกว่าเพราะห่อหุ้มด้วยพลาสติกแข็ง มีขนาดเล็กกว่าแบบแรก มักเรียกกันว่า diskette มีขนาด 3.5x3.5 นิ้ว จุข้อมูลได้สูงสุดถึง 1.44 ล้านตัวอักษร ปัจจุบันเป็นที่นิยมมากกว่าแบบแรก เพราะเก็บรักษาได้ง่ายกว่า3. จานบันทึกแข็งหรือที่นิยมเรียกว่า ฮาร์ดดิสก์ hard disk มักจะบรรจุไว้ในกล่องพร้อมกับหน่วยขับ drive แล้วเก็บอยู่ภายในตัวเครื่องเลย ฮาร์ดดิสก์นั้นมีความจุสูงมากประมาณ 100-800 ล้านตัวอักษร เป็นที่นิยมมากในปัจจุบัน เพราะมีประสิทธิภาพสูงและราคาลดลงทุกวัน ปัญหาเรื่องการเก็บรักษาเกือบจะไม่มีเลย แต่อาจจะมีปัญหาเรื่องเกี่ยวกับไวรัสได้นอกจาก 3 ชนิดที่ได้กล่าวถึงมาแล้ว ก็ยังมีอีกหลายชนิด เช่น จานบันทึกที่นำมาใช้กับคอมพิวเตอร์เครื่องใหญ่ mainframe ที่เรียกว่าชุดจานบันทึก disk pack ซึ่งจะมีแกนยึดติดกันตรงกลาง, จานแสงหรือจานเลเซอร์ optical or laser disk, จานวีดิทัศน์ vedio disk, จานบันทึกอัดแน่น compact disk ซึ่งล้วนแต่มีความจุสูงมาก ปัจจุบันจานบันทึกได้รับความนิยมมากกว่าสื่อบรรจุข้อมูลอื่น เพราะราคาถูก ใช้ซ้ำได้ และการค้นคืนข้อมูลทำได้รวดเร็วกว่าสื่อชนิดอื่น</td></tr><tr><td style=\"vertical-align:top;\" width=\"150\"><a href=\"search/graham\" style=\"color: white\">graham</a></td><td style=\"vertical-align:top;\">(เกร'ฮัม) adj. ประกอบด้วยจากแป้งหมี่หยาบหรือแป้งข้าวสาลี<b>ล้วน</b></td></tr></table>\n<h5>English-Thai: Nontri Dictionary</h5>\n<table cellpadding=\"0\" cellspacing=\"0\" class=\"search-result-table\" width=\"100%\"><tr><td style=\"vertical-align:top;\" width=\"150\"><a href=\"search/absolute\" style=\"color: white\">absolute</a></td><td style=\"vertical-align:top;\">(adj) สมบูรณ์, จริง, แน่นอน, แท้, <b>ล้วน</b>, ครบถ้วน</td></tr></table>\n"
     },
     "metadata": {},
     "output_type": "display_data"
    }
   ],
   "source": [
    "ex.lookup('ล้วน')"
   ],
   "metadata": {
    "collapsed": false,
    "ExecuteTime": {
     "end_time": "2024-05-11T07:42:54.630971200Z",
     "start_time": "2024-05-11T07:42:52.820865100Z"
    }
   }
  },
  {
   "cell_type": "markdown",
   "id": "68a5c817-1b71-450e-9725-d5122f0e20b7",
   "metadata": {},
   "source": [
    "## Inspecting results"
   ]
  },
  {
   "cell_type": "code",
   "execution_count": 21,
   "outputs": [
    {
     "data": {
      "text/plain": "[('ค่าง', 0.33),\n ('ต่าง', 0.2),\n ('ก่าง', 0.16),\n ('ตาง', 0.15),\n ('คาง', 0.1),\n ('ท่าง', 0.1),\n ('กาง', 0.05),\n ('คา', 0.04),\n ('ควง', 0.04),\n ('ภา', 0.03),\n ('ถ่าง', 0.03),\n ('ไต', 0.03),\n ('มื', 0.01),\n ('ก่าง', -1),\n ('ท่าง', -1)]"
     },
     "execution_count": 21,
     "metadata": {},
     "output_type": "execute_result"
    }
   ],
   "source": [
    "ex.suggestions"
   ],
   "metadata": {
    "collapsed": false,
    "ExecuteTime": {
     "end_time": "2024-05-11T07:59:43.785202Z",
     "start_time": "2024-05-11T07:59:43.784692300Z"
    }
   }
  },
  {
   "cell_type": "code",
   "execution_count": 22,
   "outputs": [
    {
     "data": {
      "text/plain": "[('ค่าง', 0.33),\n ('ต่าง', 0.2),\n ('ตาง', 0.15),\n ('คาง', 0.1),\n ('กาง', 0.05),\n ('คา', 0.04),\n ('ควง', 0.04),\n ('ภา', 0.03),\n ('ถ่าง', 0.03),\n ('ไต', 0.03),\n ('มื', 0.01)]"
     },
     "execution_count": 22,
     "metadata": {},
     "output_type": "execute_result"
    }
   ],
   "source": [
    "ex.get_freqs(ex.validated_words.values())"
   ],
   "metadata": {
    "collapsed": false,
    "ExecuteTime": {
     "end_time": "2024-05-11T08:00:08.144851700Z",
     "start_time": "2024-05-11T08:00:08.144342200Z"
    }
   }
  },
  {
   "cell_type": "code",
   "execution_count": 23,
   "outputs": [
    {
     "data": {
      "text/plain": "[('ก่าง', 0.15),\n ('ท่าง', 0.1),\n ('ค่าง', 0.1),\n ('ศาง', 0.08),\n ('คกาง', 0.06),\n ('', 0.06),\n ('ต่าง', 0.06),\n ('ตาง', 0.05),\n ('คาง', 0.03),\n ('ศุ :', 0.02),\n (')\\nกาง', 0.02),\n (\"'\\nทาง\", 0.02),\n ('กาง', 0.02),\n ('ค', 0.02),\n ('ง\\nคกาง', 0.02),\n ('ป', 0.02),\n ('มั\"', 0.01),\n ('ภา', 0.01),\n ('ฑา7', 0.01),\n ('คา', 0.01),\n ('ถ่าง', 0.01),\n ('ควง', 0.01),\n ('ไต', 0.01),\n ('«7\\n=\\nณั จ', 0.0),\n ('-\\nก', 0.0),\n ('-', 0.0),\n ('-\\n\\nก', 0.0),\n ('มื', 0.0),\n ('ฑา\\n1', 0.0),\n ('1', 0.0),\n ('อ-', 0.0),\n ('๒', 0.0),\n ('รรร”\\nอย\\n๕', 0.0),\n ('ศ', 0.0),\n ('แ-\\n\\n-', 0.0),\n ('7\\n[๕๕\\nส าณ', 0.0),\n ('7\\nเซ๕\\nย', 0.0),\n ('๕6\\nเฒ\\nส าญ์', 0.0),\n ('ร\\nเซฒ\\nส าย', 0.0),\n ('«7\\nเซ\\n“๕', 0.0),\n ('ศาา', 0.0),\n ('«7\\nเซ\\n” ๕', 0.0),\n ('ร7\\n- ๕', 0.0),\n ('7\\n- ๕', 0.0),\n ('๒๕4\\n๐\\n”- ๕', 0.0),\n ('ง', 0.0),\n ('จ7\\n๐\\n-” ๕', 0.0),\n ('๐\\n๕', 0.0),\n ('4\\n= ๕', 0.0),\n ('บ\\nวสน', 0.0),\n (':๕', 0.0),\n ('\"๕2\\n- 6', 0.0),\n ('ง\\n=จฉี', 0.0),\n ('น\\nร ง', 0.0),\n ('เล\\n\\nฮา', 0.0)]"
     },
     "execution_count": 23,
     "metadata": {},
     "output_type": "execute_result"
    }
   ],
   "source": [
    "ex.get_freqs(ex.out_texts.values())"
   ],
   "metadata": {
    "collapsed": false,
    "ExecuteTime": {
     "end_time": "2024-05-11T08:00:34.700817Z",
     "start_time": "2024-05-11T08:00:34.698284700Z"
    }
   }
  },
  {
   "cell_type": "code",
   "execution_count": 12,
   "outputs": [
    {
     "name": "stdout",
     "output_type": "stream",
     "text": [
      "[('ลับ', 0.57), ('', 0.2), ('ลบ', 0.17), ('ดบ', 0.09), ('ถบ', 0.08), ('ดับ', 0.04), ('กบ', 0.02), ('รบ', 0.02), ('ณี', 0.01), ('ฤบ', 0.01), ('', -1)]\n"
     ]
    },
    {
     "data": {
      "text/plain": "<PIL.PngImagePlugin.PngImageFile image mode=RGBA size=44x66>",
      "image/png": "[encoded data removed]"
     },
     "metadata": {},
     "output_type": "display_data"
    },
    {
     "name": "stdout",
     "output_type": "stream",
     "text": [
      "1: , 3: , 4: , 5: ว9๐=, 6: ลับ, 7: ลับ, 8: ดับ, 9: ดับ, 10: ลับ, 11: ดบ, 12: ดบ, 13: ดับ, \n",
      "\n",
      "((41, 188), (29, 165), (8, 137), (255, 255)) -> (30, 168)\n",
      "\n",
      "0.5\n"
     ]
    },
    {
     "data": {
      "text/plain": "<PIL.Image.Image image mode=L size=44x66>",
      "image/png": "[encoded data removed]",
      "image/jpeg": "[encoded data removed]"
     },
     "metadata": {},
     "output_type": "display_data"
    },
    {
     "name": "stdout",
     "output_type": "stream",
     "text": [
      "1: , 3: , 4: , 5: , 6: , 7: ., 8: บ, 9: ., 10: ., 11: , 12: , 13: บ, \n",
      "\n",
      "0.55\n"
     ]
    },
    {
     "data": {
      "text/plain": "<PIL.Image.Image image mode=L size=44x66>",
      "image/png": "[encoded data removed]",
      "image/jpeg": "[encoded data removed]"
     },
     "metadata": {},
     "output_type": "display_data"
    },
    {
     "name": "stdout",
     "output_type": "stream",
     "text": [
      "1: , 3: , 4: จ, 5: 4, 6: ณี, 7: คิเจ, 8: กบ, 9: กบ, 10: คิเจ, 11: =เ็งจแว, 12: ณัล., 13: กบ, \n",
      "\n",
      "0.6\n"
     ]
    },
    {
     "data": {
      "text/plain": "<PIL.Image.Image image mode=L size=44x66>",
      "image/png": "[encoded data removed]",
      "image/jpeg": "[encoded data removed]"
     },
     "metadata": {},
     "output_type": "display_data"
    },
    {
     "name": "stdout",
     "output_type": "stream",
     "text": [
      "1: คง|, 3: คง|, 4: คง|, 5: คง[5, 6: คง|, 7: คง|, 8: รบ, 9: รบ, 10: คง|, 11: คง|, 12: คง|, 13: รบ, \n",
      "\n",
      "0.65\n"
     ]
    },
    {
     "data": {
      "text/plain": "<PIL.Image.Image image mode=L size=44x66>",
      "image/png": "[encoded data removed]",
      "image/jpeg": "[encoded data removed]"
     },
     "metadata": {},
     "output_type": "display_data"
    },
    {
     "name": "stdout",
     "output_type": "stream",
     "text": [
      "1: ลบ, 3: ลบ, 4: ลบ, 5: =โณฑ์, 6: ลบ, 7: ลบ, 8: ลบ, 9: ลบ, 10: ลบ, 11: ลบ, 12: ลบ, 13: ลบ, \n",
      "\n",
      "0.7\n"
     ]
    },
    {
     "data": {
      "text/plain": "<PIL.Image.Image image mode=L size=44x66>",
      "image/png": "[encoded data removed]",
      "image/jpeg": "[encoded data removed]"
     },
     "metadata": {},
     "output_type": "display_data"
    },
    {
     "name": "stdout",
     "output_type": "stream",
     "text": [
      "1: ลบ, 3: ลบ, 4: ลบ, 5: เซฒเล, 6: ลบ, 7: ลบ, 8: ลบ, 9: ลบ, 10: ลบ, 11: ลบ, 12: ฤบ, 13: ลบ, \n",
      "\n",
      "0.75\n"
     ]
    },
    {
     "data": {
      "text/plain": "<PIL.Image.Image image mode=L size=44x66>",
      "image/png": "[encoded data removed]",
      "image/jpeg": "[encoded data removed]"
     },
     "metadata": {},
     "output_type": "display_data"
    },
    {
     "name": "stdout",
     "output_type": "stream",
     "text": [
      "1: ถฤบ, 3: ถฤบ, 4: , 5: [@ฯ, 6: ลับ, 7: ลับ, 8: ลับ, 9: ลับ, 10: ลับ, 11: ถฤบ, 12: ถฤบ, 13: ลับ, \n",
      "\n",
      "0.8\n"
     ]
    },
    {
     "data": {
      "text/plain": "<PIL.Image.Image image mode=L size=44x66>",
      "image/png": "[encoded data removed]",
      "image/jpeg": "[encoded data removed]"
     },
     "metadata": {},
     "output_type": "display_data"
    },
    {
     "name": "stdout",
     "output_type": "stream",
     "text": [
      "1: , 3: , 4: , 5: เฆหฒๆ, 6: ลับ, 7: ลับ, 8: ลับ, 9: ลับ, 10: ลับ, 11: ถบ, 12: ถบ, 13: ลับ, \n",
      "\n",
      "0.85\n"
     ]
    },
    {
     "data": {
      "text/plain": "<PIL.Image.Image image mode=L size=44x66>",
      "image/png": "[encoded data removed]",
      "image/jpeg": "[encoded data removed]"
     },
     "metadata": {},
     "output_type": "display_data"
    },
    {
     "name": "stdout",
     "output_type": "stream",
     "text": [
      "1: ถบ, 3: ถบ, 4: , 5: ว9๐, 6: ลับ, 7: ลับ, 8: ดับ, 9: ดับ, 10: ลับ, 11: ถบ, 12: ถบ, 13: ดับ, \n",
      "\n",
      "0.9\n"
     ]
    },
    {
     "data": {
      "text/plain": "<PIL.Image.Image image mode=L size=44x66>",
      "image/png": "[encoded data removed]",
      "image/jpeg": "[encoded data removed]"
     },
     "metadata": {},
     "output_type": "display_data"
    },
    {
     "name": "stdout",
     "output_type": "stream",
     "text": [
      "1: ถบ, 3: ถบ, 4: , 5: ว9๐, 6: ลับ, 7: ลับ, 8: ลับ, 9: ลับ, 10: ลับ, 11: ถบ, 12: ถบ, 13: ลับ, \n",
      "\n",
      "0.95\n"
     ]
    },
    {
     "data": {
      "text/plain": "<PIL.Image.Image image mode=L size=44x66>",
      "image/png": "[encoded data removed]",
      "image/jpeg": "[encoded data removed]"
     },
     "metadata": {},
     "output_type": "display_data"
    },
    {
     "name": "stdout",
     "output_type": "stream",
     "text": [
      "1: , 3: , 4: , 5: ว9๐=, 6: ลับ, 7: ลับ, 8: ลับ, 9: ลับ, 10: ลับ, 11: ถดบ, 12: ถดบ, 13: ลับ, \n",
      "\n",
      "1.0\n"
     ]
    },
    {
     "data": {
      "text/plain": "<PIL.Image.Image image mode=L size=44x66>",
      "image/png": "[encoded data removed]",
      "image/jpeg": "[encoded data removed]"
     },
     "metadata": {},
     "output_type": "display_data"
    },
    {
     "name": "stdout",
     "output_type": "stream",
     "text": [
      "1: , 3: , 4: , 5: ว9๐=, 6: ลับ, 7: ลับ, 8: ลับ, 9: ลับ, 10: ลับ, 11: ดบ, 12: ดบ, 13: ลับ, \n",
      "\n",
      "1.05\n"
     ]
    },
    {
     "data": {
      "text/plain": "<PIL.Image.Image image mode=L size=44x66>",
      "image/png": "[encoded data removed]",
      "image/jpeg": "[encoded data removed]"
     },
     "metadata": {},
     "output_type": "display_data"
    },
    {
     "name": "stdout",
     "output_type": "stream",
     "text": [
      "1: , 3: , 4: , 5: ว9๓=, 6: ลับ, 7: ลับ, 8: ลับ, 9: ลับ, 10: ลับ, 11: ดบ, 12: ดบ, 13: ลับ, \n",
      "\n",
      "1.1\n"
     ]
    },
    {
     "data": {
      "text/plain": "<PIL.Image.Image image mode=L size=44x66>",
      "image/png": "[encoded data removed]",
      "image/jpeg": "[encoded data removed]"
     },
     "metadata": {},
     "output_type": "display_data"
    },
    {
     "name": "stdout",
     "output_type": "stream",
     "text": [
      "1: , 3: , 4: , 5: ว=, 6: ลับ, 7: ลับ, 8: ลับ, 9: ลับ, 10: ลับ, 11: ลบ, 12: ลบ, 13: ลับ, \n",
      "\n",
      "1.15\n"
     ]
    },
    {
     "data": {
      "text/plain": "<PIL.Image.Image image mode=L size=44x66>",
      "image/png": "[encoded data removed]",
      "image/jpeg": "[encoded data removed]"
     },
     "metadata": {},
     "output_type": "display_data"
    },
    {
     "name": "stdout",
     "output_type": "stream",
     "text": [
      "1: , 3: , 4: , 5: ว96, 6: ลับ, 7: ลับ, 8: ลับ, 9: ลับ, 10: ลับ, 11: ดบ, 12: ดบ, 13: ลับ, \n",
      "\n",
      "1.2\n"
     ]
    },
    {
     "data": {
      "text/plain": "<PIL.Image.Image image mode=L size=44x66>",
      "image/png": "[encoded data removed]",
      "image/jpeg": "[encoded data removed]"
     },
     "metadata": {},
     "output_type": "display_data"
    },
    {
     "name": "stdout",
     "output_type": "stream",
     "text": [
      "1: , 3: , 4: , 5: ว6, 6: ลับ, 7: ลับ, 8: ลับ, 9: ลับ, 10: ลับ, 11: ดบ, 12: ดบ, 13: ลับ, \n",
      "\n",
      "1.25\n"
     ]
    },
    {
     "data": {
      "text/plain": "<PIL.Image.Image image mode=L size=44x66>",
      "image/png": "[encoded data removed]",
      "image/jpeg": "[encoded data removed]"
     },
     "metadata": {},
     "output_type": "display_data"
    },
    {
     "name": "stdout",
     "output_type": "stream",
     "text": [
      "1: , 3: , 4: , 5: ว=4, 6: ลับ, 7: ลับ, 8: ลับ, 9: ลับ, 10: ลับ, 11: ถบ, 12: ถบ, 13: ลับ, \n",
      "\n",
      "1.3\n"
     ]
    },
    {
     "data": {
      "text/plain": "<PIL.Image.Image image mode=L size=44x66>",
      "image/png": "[encoded data removed]",
      "image/jpeg": "[encoded data removed]"
     },
     "metadata": {},
     "output_type": "display_data"
    },
    {
     "name": "stdout",
     "output_type": "stream",
     "text": [
      "1: , 3: , 4: , 5: วจก=ฯ, 6: ลับ, 7: ลับ, 8: ลับ, 9: ลับ, 10: ลับ, 11: ดบ, 12: ดบ, 13: ลับ, \n",
      "\n",
      "1.35\n"
     ]
    },
    {
     "data": {
      "text/plain": "<PIL.Image.Image image mode=L size=44x66>",
      "image/png": "[encoded data removed]",
      "image/jpeg": "[encoded data removed]"
     },
     "metadata": {},
     "output_type": "display_data"
    },
    {
     "name": "stdout",
     "output_type": "stream",
     "text": [
      "1: , 3: , 4: , 5: วจๆว่, 6: ลับ, 7: ลับ, 8: ลับ, 9: ลับ, 10: ลับ, 11: ดบ, 12: ดบ, 13: ลับ, \n",
      "\n",
      "1.4\n"
     ]
    },
    {
     "data": {
      "text/plain": "<PIL.Image.Image image mode=L size=44x66>",
      "image/png": "[encoded data removed]",
      "image/jpeg": "[encoded data removed]"
     },
     "metadata": {},
     "output_type": "display_data"
    },
    {
     "name": "stdout",
     "output_type": "stream",
     "text": [
      "1: , 3: , 4: , 5: ว36, 6: ลับ, 7: ลับ, 8: ลับ, 9: ลับ, 10: ลับ, 11: ลบ, 12: ลบ, 13: ลับ, \n",
      "\n",
      "1.45\n"
     ]
    },
    {
     "data": {
      "text/plain": "<PIL.Image.Image image mode=L size=44x66>",
      "image/png": "[encoded data removed]",
      "image/jpeg": "[encoded data removed]"
     },
     "metadata": {},
     "output_type": "display_data"
    },
    {
     "name": "stdout",
     "output_type": "stream",
     "text": [
      "1: , 3: , 4: , 5: ว@5, 6: ลับ, 7: ลับ, 8: ลับ, 9: ลับ, 10: ลับ, 11: ลบ, 12: ลบ, 13: ลับ, \n"
     ]
    }
   ],
   "source": [
    "print(ex.suggestions)\n",
    "ex.inspect_results()"
   ],
   "metadata": {
    "collapsed": false,
    "ExecuteTime": {
     "end_time": "2024-05-11T05:25:31.344940100Z",
     "start_time": "2024-05-11T05:25:31.264876600Z"
    }
   }
  },
  {
   "cell_type": "code",
   "execution_count": null,
   "outputs": [],
   "source": [],
   "metadata": {
    "collapsed": false
   }
  },
  {
   "cell_type": "code",
   "execution_count": null,
   "outputs": [],
   "source": [],
   "metadata": {
    "collapsed": false
   }
  }
 ],
 "metadata": {
  "kernelspec": {
   "display_name": "Python 3 (ipykernel)",
   "language": "python",
   "name": "python3"
  },
  "language_info": {
   "codemirror_mode": {
    "name": "ipython",
    "version": 3
   },
   "file_extension": ".py",
   "mimetype": "text/x-python",
   "name": "python",
   "nbconvert_exporter": "python",
   "pygments_lexer": "ipython3",
   "version": "3.11.5"
  }
 },
 "nbformat": 4,
 "nbformat_minor": 5
}
