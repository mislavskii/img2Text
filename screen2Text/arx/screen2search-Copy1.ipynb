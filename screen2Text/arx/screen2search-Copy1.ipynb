{
 "cells": [
  {
   "cell_type": "markdown",
   "id": "f5e4ebfa-c7cc-4317-acf5-24877523c28a",
   "metadata": {},
   "source": [
    "# EXTRACTING TEXT FROM A SCREENSHOT \n",
    "\n",
    "and potentially feeding it to a search engine or (online) dictionary\n",
    "\n",
    "### References:\n",
    "\n",
    "- <a href=\"https://tesseract-ocr.github.io/tessdoc/Home.html\">Tesseract User Manual</a>\n",
    "- [Longdo Thai Dictionary](https://dict.longdo.com/search/)"
   ]
  },
  {
   "cell_type": "code",
   "execution_count": 1,
   "id": "041e5da8-0707-4429-b1a5-0593e4c5982c",
   "metadata": {},
   "outputs": [
    {
     "name": "stdout",
     "output_type": "stream",
     "text": [
      ">>> Likely imported.\n"
     ]
    }
   ],
   "source": [
    "# pip install pytesseract\n",
    "\n",
    "from PIL import Image\n",
    "from PIL import ImageGrab\n",
    "import pytesseract\n",
    "import requests as rq\n",
    "from bs4 import BeautifulSoup as bs\n",
    "from IPython.display import display\n",
    "from IPython.display import HTML\n",
    "\n",
    "pytesseract.pytesseract.tesseract_cmd = r'C:\\Program Files\\Tesseract-OCR\\tesseract.exe'\n",
    "print('>>> Likely imported.')"
   ]
  },
  {
   "cell_type": "code",
   "execution_count": 106,
   "id": "88fe4bef-7407-4469-b899-275c48376337",
   "metadata": {
    "tags": []
   },
   "outputs": [
    {
     "data": {
      "text/plain": [
       "{0: 'Orientation and script detection (OSD) only.',\n",
       " 1: 'Automatic page segmentation with OSD.',\n",
       " 2: 'Automatic page segmentation, but no OSD, or OCR.',\n",
       " 3: 'Fully automatic page segmentation, but no OSD. (Default)',\n",
       " 4: 'Assume a single column of text of variable sizes.',\n",
       " 5: 'Assume a single uniform block of vertically aligned text.',\n",
       " 6: 'Assume a single uniform block of text.',\n",
       " 7: 'Treat the image as a single text line.',\n",
       " 8: 'Treat the image as a single word.',\n",
       " 9: 'Treat the image as a single word in a circle.',\n",
       " 10: 'Treat the image as a single character.',\n",
       " 11: 'Sparse text. Find as much text as possible in no particular order.',\n",
       " 12: 'Sparse text with OSD.',\n",
       " 13: 'Raw line. Treat the image as a single text line, bypassing hacks that are Tesseract-specific.'}"
      ]
     },
     "execution_count": 106,
     "metadata": {},
     "output_type": "execute_result"
    }
   ],
   "source": [
    "config_codes = \"\"\"  0    Orientation and script detection (OSD) only.\n",
    "  1    Automatic page segmentation with OSD.\n",
    "  2    Automatic page segmentation, but no OSD, or OCR.\n",
    "  3    Fully automatic page segmentation, but no OSD. (Default)\n",
    "  4    Assume a single column of text of variable sizes.\n",
    "  5    Assume a single uniform block of vertically aligned text.\n",
    "  6    Assume a single uniform block of text.\n",
    "  7    Treat the image as a single text line.\n",
    "  8    Treat the image as a single word.\n",
    "  9    Treat the image as a single word in a circle.\n",
    " 10    Treat the image as a single character.\n",
    " 11    Sparse text. Find as much text as possible in no particular order.\n",
    " 12    Sparse text with OSD.\n",
    " 13    Raw line. Treat the image as a single text line, bypassing hacks that are Tesseract-specific.\"\"\"\n",
    "\n",
    "# config_codes_lst = [entry.strip().split('    ') for entry in config_codes.split('\\n')]\n",
    "\n",
    "config_dict = {int(entry[0]): entry[1] for entry in [entry.strip().split('    ') for entry in config_codes.split('\\n')]}\n",
    "config_dict"
   ]
  },
  {
   "cell_type": "code",
   "execution_count": 31,
   "id": "e64bc16a-a450-43a3-b771-0be4948345e9",
   "metadata": {
    "tags": []
   },
   "outputs": [],
   "source": [
    "class ClipImg2Text:\n",
    "    \n",
    "    def __init__(self):\n",
    "        self.im = None\n",
    "        self.bim = None\n",
    "        \n",
    "    def grab(self):\n",
    "        self.bim = None\n",
    "        im = ImageGrab.grabclipboard()\n",
    "        if im:\n",
    "            self.im = im  # .convert(\"L\")\n",
    "        else:\n",
    "            print('Looks like there was no image to grab. Please check the clipboard contents!')\n",
    "        \n",
    "    def binarize(self, skew=1):\n",
    "        im = self.im.copy().convert(\"L\")\n",
    "        threshold = sum(im.getextrema())/2 * skew\n",
    "        xs, ys = im.size\n",
    "        for x in range(xs):\n",
    "            for y in range(ys):\n",
    "                if im.getpixel((x, y)) > threshold:\n",
    "                    px = 255\n",
    "                else:\n",
    "                    px = 0\n",
    "                im.putpixel((x, y), px)\n",
    "        self.bim = im\n",
    "        \n",
    "    def recognize_bin(self, skew=1, lang='tha', config='--psm 7'):\n",
    "        self.binarize(skew)\n",
    "        return pytesseract.image_to_string(self.bim, config=config, lang=lang).strip()\n",
    "    \n",
    "    def recognize_original(self, lang='tha', config='--psm 7'):\n",
    "        return pytesseract.image_to_string(self.im, config=config, lang=lang).strip()"
   ]
  },
  {
   "cell_type": "code",
   "execution_count": 84,
   "id": "8a1e5b9f-9d0b-4936-9452-e5a830796dfd",
   "metadata": {
    "tags": []
   },
   "outputs": [],
   "source": [
    "def lookup(text):\n",
    "    dic_url = 'https://dict.longdo.com/search/'\n",
    "    response = rq.get(dic_url + text, timeout=180)\n",
    "    if not response.status_code == 200:\n",
    "        print(\"Couldn't fetch.\")\n",
    "        return\n",
    "    response.encoding = 'utf-8'\n",
    "    soup = bs(response.text)\n",
    "    headers = soup.find_all('td',  attrs={'class': 'search-table-header'})\n",
    "    tables = soup.find_all('table', attrs={'class': 'search-result-table'})\n",
    "    html='''<style>table {width: 60%;} </style>'''\n",
    "    for header, table in zip(headers, tables):\n",
    "        contents = header.text\n",
    "        if not ('Subtitles' in contents or 'German-Thai:' in contents or 'French-Thai:' in contents):\n",
    "            html += f'<h5>{header.text}<h5>'\n",
    "            html += str(table).replace(\"black\", \"white\")\n",
    "    display(HTML(html))"
   ]
  },
  {
   "cell_type": "code",
   "execution_count": 32,
   "id": "d3991138-037e-41ac-946d-d86e491249d9",
   "metadata": {
    "tags": []
   },
   "outputs": [],
   "source": [
    "ex = ClipImg2Text()"
   ]
  },
  {
   "cell_type": "code",
   "execution_count": 86,
   "id": "8d16abcf-3489-4b24-ba27-fda941849c99",
   "metadata": {
    "tags": []
   },
   "outputs": [
    {
     "data": {
      "image/png": "[encoded data removed]",
      "text/plain": [
       "<PIL.PngImagePlugin.PngImageFile image mode=RGBA size=113x57>"
      ]
     },
     "execution_count": 86,
     "metadata": {},
     "output_type": "execute_result"
    }
   ],
   "source": [
    "ex.grab()\n",
    "ex.im"
   ]
  },
  {
   "cell_type": "code",
   "execution_count": 51,
   "id": "114e0c17-8e27-4034-97ce-fde18fdb6b18",
   "metadata": {
    "tags": []
   },
   "outputs": [
    {
     "data": {
      "text/plain": [
       "'อกบ'"
      ]
     },
     "execution_count": 51,
     "metadata": {},
     "output_type": "execute_result"
    }
   ],
   "source": [
    "text = ex.recognize_original(config='--psm 7')\n",
    "text"
   ]
  },
  {
   "cell_type": "code",
   "execution_count": 93,
   "id": "4314c130-0b61-4bb7-b0b9-b3e78ac8407e",
   "metadata": {
    "tags": []
   },
   "outputs": [
    {
     "data": {
      "text/plain": [
       "{1: 'ประเคริฐ',\n",
       " 3: 'ประเคริฐ',\n",
       " 4: 'ประเคริฐ',\n",
       " 5: 'ต\\nเเ4\\n2\\n1ๆ\\nแ',\n",
       " 6: 'ประเคริฐ',\n",
       " 7: 'ประเคริฐ',\n",
       " 8: 'ประเสริฐ',\n",
       " 9: 'ประเสริฐ',\n",
       " 10: 'ประเคริฐ',\n",
       " 11: 'ประเคริฐ',\n",
       " 12: 'ประเคริฐ',\n",
       " 13: 'ประเสริฐ'}"
      ]
     },
     "execution_count": 93,
     "metadata": {},
     "output_type": "execute_result"
    }
   ],
   "source": [
    "texts = {}\n",
    "for code in list(config_dict.keys()):\n",
    "    try:\n",
    "        texts[code] = ex.recognize_original(config=f'--psm {code}')\n",
    "    except Exception as e:\n",
    "        # texts[code] = e.__str__()\n",
    "        continue\n",
    "        \n",
    "texts"
   ]
  },
  {
   "cell_type": "code",
   "execution_count": 105,
   "id": "451ee421-205c-4095-8125-c0f449507afd",
   "metadata": {
    "tags": []
   },
   "outputs": [
    {
     "data": {
      "text/plain": [
       "{8: 'ประเสริฐ', 9: 'ประเสริฐ', 13: 'ประเสริฐ'}"
      ]
     },
     "execution_count": 105,
     "metadata": {},
     "output_type": "execute_result"
    }
   ],
   "source": [
    "words_path = r'F:\\User\\Learn\\ไทยศึกษา\\Lingvistics\\lexitron_thai.txt'\n",
    "pops = []\n",
    "with open(words_path, encoding='utf-8') as words:\n",
    "    corpus = words.read()\n",
    "    for key in texts.keys():\n",
    "        if texts[key] not in corpus:\n",
    "            pops.append(key)\n",
    "\n",
    "for key in pops:\n",
    "    texts.pop(key)\n",
    "\n",
    "texts"
   ]
  },
  {
   "cell_type": "code",
   "execution_count": 92,
   "id": "a1e31fd2-9986-4014-af6f-08db30cbffee",
   "metadata": {
    "tags": []
   },
   "outputs": [
    {
     "data": {
      "text/plain": [
       "{7: 'ประเตวิฐ',\n",
       " 8: 'ประเค์วีฐ',\n",
       " 9: 'ประเต์ริฐ',\n",
       " 10: 'ประเสริร',\n",
       " 11: 'ประเสริ4',\n",
       " 12: 'ประเสริ4',\n",
       " 13: 'ประเจริ4'}"
      ]
     },
     "execution_count": 92,
     "metadata": {},
     "output_type": "execute_result"
    }
   ],
   "source": [
    "texts = {val: ex.recognize_bin(val/10) for val in list(range(7,14))}\n",
    "texts"
   ]
  },
  {
   "cell_type": "code",
   "execution_count": 100,
   "id": "9adfb180-98f0-4031-9ec7-6488d641587b",
   "metadata": {
    "tags": []
   },
   "outputs": [
    {
     "data": {
      "text/plain": [
       "'ประเสริฐ'"
      ]
     },
     "execution_count": 100,
     "metadata": {},
     "output_type": "execute_result"
    }
   ],
   "source": [
    "texts[8]"
   ]
  },
  {
   "cell_type": "code",
   "execution_count": 102,
   "id": "f96e6382-4a50-4260-8e99-cc460a975994",
   "metadata": {
    "tags": []
   },
   "outputs": [
    {
     "name": "stdout",
     "output_type": "stream",
     "text": [
      "Help on dict object:\n",
      "\n",
      "class dict(object)\n",
      " |  dict() -> new empty dictionary\n",
      " |  dict(mapping) -> new dictionary initialized from a mapping object's\n",
      " |      (key, value) pairs\n",
      " |  dict(iterable) -> new dictionary initialized as if via:\n",
      " |      d = {}\n",
      " |      for k, v in iterable:\n",
      " |          d[k] = v\n",
      " |  dict(**kwargs) -> new dictionary initialized with the name=value pairs\n",
      " |      in the keyword argument list.  For example:  dict(one=1, two=2)\n",
      " |  \n",
      " |  Built-in subclasses:\n",
      " |      StgDict\n",
      " |  \n",
      " |  Methods defined here:\n",
      " |  \n",
      " |  __contains__(self, key, /)\n",
      " |      True if the dictionary has the specified key, else False.\n",
      " |  \n",
      " |  __delitem__(self, key, /)\n",
      " |      Delete self[key].\n",
      " |  \n",
      " |  __eq__(self, value, /)\n",
      " |      Return self==value.\n",
      " |  \n",
      " |  __ge__(self, value, /)\n",
      " |      Return self>=value.\n",
      " |  \n",
      " |  __getattribute__(self, name, /)\n",
      " |      Return getattr(self, name).\n",
      " |  \n",
      " |  __getitem__(...)\n",
      " |      x.__getitem__(y) <==> x[y]\n",
      " |  \n",
      " |  __gt__(self, value, /)\n",
      " |      Return self>value.\n",
      " |  \n",
      " |  __init__(self, /, *args, **kwargs)\n",
      " |      Initialize self.  See help(type(self)) for accurate signature.\n",
      " |  \n",
      " |  __ior__(self, value, /)\n",
      " |      Return self|=value.\n",
      " |  \n",
      " |  __iter__(self, /)\n",
      " |      Implement iter(self).\n",
      " |  \n",
      " |  __le__(self, value, /)\n",
      " |      Return self<=value.\n",
      " |  \n",
      " |  __len__(self, /)\n",
      " |      Return len(self).\n",
      " |  \n",
      " |  __lt__(self, value, /)\n",
      " |      Return self<value.\n",
      " |  \n",
      " |  __ne__(self, value, /)\n",
      " |      Return self!=value.\n",
      " |  \n",
      " |  __or__(self, value, /)\n",
      " |      Return self|value.\n",
      " |  \n",
      " |  __repr__(self, /)\n",
      " |      Return repr(self).\n",
      " |  \n",
      " |  __reversed__(self, /)\n",
      " |      Return a reverse iterator over the dict keys.\n",
      " |  \n",
      " |  __ror__(self, value, /)\n",
      " |      Return value|self.\n",
      " |  \n",
      " |  __setitem__(self, key, value, /)\n",
      " |      Set self[key] to value.\n",
      " |  \n",
      " |  __sizeof__(...)\n",
      " |      D.__sizeof__() -> size of D in memory, in bytes\n",
      " |  \n",
      " |  clear(...)\n",
      " |      D.clear() -> None.  Remove all items from D.\n",
      " |  \n",
      " |  copy(...)\n",
      " |      D.copy() -> a shallow copy of D\n",
      " |  \n",
      " |  get(self, key, default=None, /)\n",
      " |      Return the value for key if key is in the dictionary, else default.\n",
      " |  \n",
      " |  items(...)\n",
      " |      D.items() -> a set-like object providing a view on D's items\n",
      " |  \n",
      " |  keys(...)\n",
      " |      D.keys() -> a set-like object providing a view on D's keys\n",
      " |  \n",
      " |  pop(...)\n",
      " |      D.pop(k[,d]) -> v, remove specified key and return the corresponding value.\n",
      " |      \n",
      " |      If the key is not found, return the default if given; otherwise,\n",
      " |      raise a KeyError.\n",
      " |  \n",
      " |  popitem(self, /)\n",
      " |      Remove and return a (key, value) pair as a 2-tuple.\n",
      " |      \n",
      " |      Pairs are returned in LIFO (last-in, first-out) order.\n",
      " |      Raises KeyError if the dict is empty.\n",
      " |  \n",
      " |  setdefault(self, key, default=None, /)\n",
      " |      Insert key with a value of default if key is not in the dictionary.\n",
      " |      \n",
      " |      Return the value for key if key is in the dictionary, else default.\n",
      " |  \n",
      " |  update(...)\n",
      " |      D.update([E, ]**F) -> None.  Update D from dict/iterable E and F.\n",
      " |      If E is present and has a .keys() method, then does:  for k in E: D[k] = E[k]\n",
      " |      If E is present and lacks a .keys() method, then does:  for k, v in E: D[k] = v\n",
      " |      In either case, this is followed by: for k in F:  D[k] = F[k]\n",
      " |  \n",
      " |  values(...)\n",
      " |      D.values() -> an object providing a view on D's values\n",
      " |  \n",
      " |  ----------------------------------------------------------------------\n",
      " |  Class methods defined here:\n",
      " |  \n",
      " |  __class_getitem__(...) from builtins.type\n",
      " |      See PEP 585\n",
      " |  \n",
      " |  fromkeys(iterable, value=None, /) from builtins.type\n",
      " |      Create a new dictionary with keys from iterable and values set to value.\n",
      " |  \n",
      " |  ----------------------------------------------------------------------\n",
      " |  Static methods defined here:\n",
      " |  \n",
      " |  __new__(*args, **kwargs) from builtins.type\n",
      " |      Create and return a new object.  See help(type) for accurate signature.\n",
      " |  \n",
      " |  ----------------------------------------------------------------------\n",
      " |  Data and other attributes defined here:\n",
      " |  \n",
      " |  __hash__ = None\n",
      "\n"
     ]
    }
   ],
   "source": [
    "help(texts)"
   ]
  },
  {
   "cell_type": "code",
   "execution_count": 88,
   "id": "77e8f67b-4a43-4be7-8ac4-fa2577cd2852",
   "metadata": {
    "tags": []
   },
   "outputs": [
    {
     "data": {
      "text/html": [
       "<style>table {width: 60%;} </style><h5>Longdo Dictionary ภาษา ไทย (ศัพท์ธรรมะ) (TH-DHAMMA) - ไทย (TH) (UNAPPROVED version -- use with care ) **ระวัง คำแปลอาจมีข้อผิดพลาด**<h5><table cellpadding=\"0\" cellspacing=\"0\" class=\"search-result-table\" width=\"100%\"><tr><td style=\"vertical-align:top;\" width=\"150\"><a href=\"search/วลัญช์\" style=\"color: white\">วลัญช์</a></td><td style=\"vertical-align:top;\">[วะ-ลัน] (uniq) <b>ประเสริฐ</b>, เลิศ, ดีมาก</td></tr></table><h5>Thai-English: NECTEC's Lexitron-2 Dictionary [with local updates]<h5><table cellpadding=\"0\" cellspacing=\"0\" class=\"search-result-table\" width=\"100%\"><tr><td style=\"vertical-align:top;\" width=\"150\"><a href=\"search/ประเสริฐ\" style=\"color: white\"><b>ประเสริฐ</b></a></td><td style=\"vertical-align:top;\">(adj) superb, <b>See also:</b> <a href=\"search/excellent\">excellent</a>, <a href=\"search/precious\">precious</a>, <a href=\"search/best\">best</a>, <a href=\"search/outstanding\">outstanding</a>, <a href=\"search/brilliant\">brilliant</a>, <a href=\"search/splendid\">splendid</a>, <b>Syn.</b> <a href=\"search/วิเศษ\">วิเศษ</a>, <a href=\"search/เลิศ\">เลิศ</a>, <a href=\"search/ดีเลิศ\">ดีเลิศ</a>, <a href=\"search/ดีที่สุด\">ดีที่สุด</a>, <a href=\"search/ยอดเยี่ยม\">ยอดเยี่ยม</a>, <a href=\"search/เป็นเยี่ยม\">เป็นเยี่ยม</a>, <b>Example:</b> การให้ทานความรู้เป็นทานอันประเสริฐสุด</td></tr></table><h5>ไทย-ไทย: พจนานุกรมฉบับราชบัณฑิตยสถาน พ.ศ. ๒๕๕๔<h5><table cellpadding=\"0\" cellspacing=\"0\" class=\"search-result-table\" width=\"100%\"><tr><td style=\"vertical-align:top;\" width=\"150\"><a href=\"search/ประเสริฐ\" style=\"color: white\"><b>ประเสริฐ</b></a></td><td style=\"vertical-align:top;\">(ปฺระเสิด) ว. วิเศษ, ดีเลิศ, ดีที่สุด.</td></tr><tr><td style=\"vertical-align:top;\" width=\"150\"><a href=\"search/อุฬาร\" style=\"color: white\">อุฬาร</a></td><td style=\"vertical-align:top;\"><b>ประเสริฐ</b>, ดี</td></tr><tr><td style=\"vertical-align:top;\" width=\"150\"><a href=\"search/เอาฬาร\" style=\"color: white\">เอาฬาร</a></td><td style=\"vertical-align:top;\"><b>ประเสริฐ</b>, ดี</td></tr><tr><td style=\"vertical-align:top;\" width=\"150\"><a href=\"search/โอฬาร\" style=\"color: white\">โอฬาร</a></td><td style=\"vertical-align:top;\"><b>ประเสริฐ</b>, ดี, เอาฬาร ก็ใช้. (แผลงมาจาก อุฬาร).</td></tr></table><h5>Thai-English-French: Volubilis Dictionary 1.0<h5><table cellpadding=\"0\" cellspacing=\"0\" class=\"search-result-table\" width=\"100%\"><tr><td style=\"vertical-align:top;\" width=\"150\"><a href=\"search/ประเสริฐ\" style=\"color: white\"><b>ประเสริฐ</b></a></td><td>[prasēt] (x) <b>FR:</b> précieux ; estimé</td></tr><tr><td style=\"vertical-align:top;\" width=\"150\"><a href=\"search/ประเสริฐ\" style=\"color: white\"><b>ประเสริฐ</b></a></td><td>[prasoēt] (adj) <b>EN:</b> superb</td></tr></table><h5>English-Thai: HOPE Dictionary [with local updates]<h5><table cellpadding=\"0\" cellspacing=\"0\" class=\"search-result-table\" width=\"100%\"><tr><td style=\"vertical-align:top;\" width=\"150\"><a href=\"search/brave\" style=\"color: white\">brave</a></td><td style=\"vertical-align:top;\">(เบรฟว) { braved, braving, braves } adj. กล้าหาญ, อดทน, ไม่เกรงกลัว น่าชมเชย, <b>ประเสริฐ</b> -n. คนที่กล้าหาญ, นักรบ vt. เสี่ยงอันตราย, ฝ่าผจญ, ท้าทาย, กล้าทำ, ทำให้ดีเด่น vt. คุยโว, โม้, <b>See also:</b> braveness n. ดูbrave</td></tr><tr><td style=\"vertical-align:top;\" width=\"150\"><a href=\"search/braw\" style=\"color: white\">braw</a></td><td style=\"vertical-align:top;\">(บรอ) adj. <b>ประเสริฐ</b>เลิศล้ำ, ชั้นหนึ่ง, ดีงาม</td></tr><tr><td style=\"vertical-align:top;\" width=\"150\"><a href=\"search/canonise\" style=\"color: white\">canonise</a></td><td style=\"vertical-align:top;\">(แคน'นะไนซ) { canonized, canonised, canonizeingcanonising, canonizes, canonises } vt. ประกาศให้เป็นนักบุญ (saint) , ยกย่องว่า<b>ประเสริฐ</b>, ถือว่าศักดิ์สิทธิ์, ถือว่าถูกต้องแท้จริง, จัดอยู่ในบทหนังสือฉบับแท้ของพระคัมภีร์ไบเบิล., <b>See also:</b> canonisation n. ดูcanoniz</td></tr><tr><td style=\"vertical-align:top;\" width=\"150\"><a href=\"search/canonize\" style=\"color: white\">canonize</a></td><td style=\"vertical-align:top;\">(แคน'นะไนซ) { canonized, canonised, canonizeingcanonising, canonizes, canonises } vt. ประกาศให้เป็นนักบุญ (saint) , ยกย่องว่า<b>ประเสริฐ</b>, ถือว่าศักดิ์สิทธิ์, ถือว่าถูกต้องแท้จริง, จัดอยู่ในบทหนังสือฉบับแท้ของพระคัมภีร์ไบเบิล., <b>See also:</b> canonisation n. ดูcanoniz</td></tr><tr><td style=\"vertical-align:top;\" width=\"150\"><a href=\"search/glory\" style=\"color: white\">glory</a></td><td style=\"vertical-align:top;\">(กลอ'รี) n. ความรุ่งโรจน์, ความมีชื่อเสียง, สิ่ง<b>ประเสริฐ</b>, เกียรติยศ, ความพอใจที่สุด, ทรงกลด</td></tr><tr><td style=\"vertical-align:top;\" width=\"150\"><a href=\"search/noble\" style=\"color: white\">noble</a></td><td style=\"vertical-align:top;\">(โน'เบิล) adj. ชั้นสูง, มีตระกูล, สูงศักดิ์, ชั้นขุนนาง, สง่า, <b>ประเสริฐ</b>, (เคมี) เฉื่อย n. คนชั้นสูง, ผู้มีตระกูลสูง, ขุนนาง, <b>See also:</b> nobleness n., <b>Syn.</b> high, grand</td></tr><tr><td style=\"vertical-align:top;\" width=\"150\"><a href=\"search/nobly\" style=\"color: white\">nobly</a></td><td style=\"vertical-align:top;\">(โน'บลี) adv. อย่าง<b>ประเสริฐ</b>, อย่างสง่างาม, อย่างกล้าหาญ, ชั้นเยี่ยม, ด'เลิศ, มีตระกูลสูง, มีคุณธรรมสูง, <b>Syn.</b> gallantly</td></tr><tr><td style=\"vertical-align:top;\" width=\"150\"><a href=\"search/rare\" style=\"color: white\">rare</a></td><td style=\"vertical-align:top;\">(แรร์) adj. หายาก, น้อย, บาง, เบาบาง, ไม่ค่อยมี, ไม่บ่อย, เลิศ, <b>ประเสริฐ</b>, น่าชมเชย, <b>See also:</b> rareness n., <b>Syn.</b> uncommon</td></tr><tr><td style=\"vertical-align:top;\" width=\"150\"><a href=\"search/rarely\" style=\"color: white\">rarely</a></td><td style=\"vertical-align:top;\">(แร'ลี) adv. อย่างหายาก, ไม่บ่อย, ไม่ค่อยมี, <b>ประเสริฐ</b>, <b>Syn.</b> infrequently, seldom</td></tr><tr><td style=\"vertical-align:top;\" width=\"150\"><a href=\"search/rarity\" style=\"color: white\">rarity</a></td><td style=\"vertical-align:top;\">(แร'ริที) n. สิ่งที่หายาก, ความหายาก, ความไม่ค่อยมี, ความ<b>ประเสริฐ</b>, ความเบาบาง (ของอากาศหรือแก๊ส) pl. rarities, <b>Syn.</b> scarcity</td></tr></table><h5>English-Thai: Nontri Dictionary<h5><table cellpadding=\"0\" cellspacing=\"0\" class=\"search-result-table\" width=\"100%\"><tr><td style=\"vertical-align:top;\" width=\"150\"><a href=\"search/golden\" style=\"color: white\">golden</a></td><td style=\"vertical-align:top;\">(adj) เหมือนทอง, ทำด้วยทอง, ดีมาก, มีค่า, งดงาม, <b>ประเสริฐ</b></td></tr><tr><td style=\"vertical-align:top;\" width=\"150\"><a href=\"search/great\" style=\"color: white\">great</a></td><td style=\"vertical-align:top;\">(adj) ใหญ่, ยิ่งใหญ่, สำคัญ, ใหญ่โต, <b>ประเสริฐ</b>, เบ้อเร่อ, เขื่อง, ใหญ่หลวง, มาก</td></tr><tr><td style=\"vertical-align:top;\" width=\"150\"><a href=\"search/heavenly\" style=\"color: white\">heavenly</a></td><td style=\"vertical-align:top;\">(adj) จากสวรรค์, ล้ำเลิศ, ดีเลิศ, <b>ประเสริฐ</b>, งาม, เป็นสุข</td></tr><tr><td style=\"vertical-align:top;\" width=\"150\"><a href=\"search/rarity\" style=\"color: white\">rarity</a></td><td style=\"vertical-align:top;\">(n) ความหายาก, ความบาง, ความ<b>ประเสริฐ</b></td></tr><tr><td style=\"vertical-align:top;\" width=\"150\"><a href=\"search/sublime\" style=\"color: white\">sublime</a></td><td style=\"vertical-align:top;\">(adj) ดีเลิศ, สูงสุด, <b>ประเสริฐ</b>, สง่าผ่าเผย, น่าศรัทธา</td></tr><tr><td style=\"vertical-align:top;\" width=\"150\"><a href=\"search/sublimity\" style=\"color: white\">sublimity</a></td><td style=\"vertical-align:top;\">(n) ความ<b>ประเสริฐ</b>, ความดีเลิศ, ความสูงส่ง, ความสูงสุด</td></tr></table>"
      ],
      "text/plain": [
       "<IPython.core.display.HTML object>"
      ]
     },
     "metadata": {},
     "output_type": "display_data"
    }
   ],
   "source": [
    "lookup(texts[8])"
   ]
  },
  {
   "cell_type": "code",
   "execution_count": 85,
   "id": "0fa5c9ee-4c04-4722-9865-51dcdd6c3d54",
   "metadata": {
    "tags": []
   },
   "outputs": [
    {
     "data": {
      "text/html": [
       "<style>table {width: 60%;} </style><h5>Longdo Dictionary ภาษา ไทย (TH) - ไทย (TH) (UNAPPROVED version -- use with care )   **ระวัง คำแปลอาจมีข้อผิดพลาด**<h5><table cellpadding=\"0\" cellspacing=\"0\" class=\"search-result-table\" width=\"100%\"><tr><td style=\"vertical-align:top;\" width=\"150\"><a href=\"search/กฎหมายที่ประชาชนควรรู้\" style=\"color: white\">กฎ<b>หมา</b>ยที่ประชาชนควรรู้</a></td><td style=\"vertical-align:top;\">Public Law</td></tr></table><h5>Longdo Dictionary ภาษา ไทย (TH) - อังกฤษ (EN) (UNAPPROVED version -- use with care )   **ระวัง คำแปลอาจมีข้อผิดพลาด**<h5><table cellpadding=\"0\" cellspacing=\"0\" class=\"search-result-table\" width=\"100%\"><tr><td style=\"vertical-align:top;\" width=\"150\"><a href=\"search/วิชากฎหมายธุรกิจ\" style=\"color: white\">วิชากฎ<b>หมา</b>ยธุรกิจ</a></td><td style=\"vertical-align:top;\">(n, phrase) Business Law</td></tr><tr><td style=\"vertical-align:top;\" width=\"150\"><a href=\"search/สำนักหอจดหมายเหตุแห่งชาติ\" style=\"color: white\">สำนักหอจด<b>หมา</b>ยเหตุแห่งชาติ</a></td><td style=\"vertical-align:top;\">(n) National Achives of Thailand</td></tr><tr><td style=\"vertical-align:top;\" width=\"150\"><a href=\"search/หมายคดีถึงที่สุด\" style=\"color: white\"><b>หมา</b>ยคดีถึงที่สุด</a></td><td style=\"vertical-align:top;\">Writ of Absolute Execution</td></tr></table><h5>Longdo Dictionary ภาษา ไทยภาคอีสานตอนเหนือ (TH-NE-N) - ไทย (TH) (UNAPPROVED version -- use with care ) **ระวัง คำแปลอาจมีข้อผิดพลาด**<h5><table cellpadding=\"0\" cellspacing=\"0\" class=\"search-result-table\" width=\"100%\"><tr><td style=\"vertical-align:top;\" width=\"150\"><a href=\"search/หมากผู\" style=\"color: white\"><b>หมา</b>กผู</a></td><td style=\"vertical-align:top;\">(n) มะปรางหวาน</td></tr></table><h5>Thai-English: NECTEC's Lexitron-2 Dictionary [with local updates]<h5><table cellpadding=\"0\" cellspacing=\"0\" class=\"search-result-table\" width=\"100%\"><tr><td style=\"vertical-align:top;\" width=\"150\"><a href=\"search/หมา\" style=\"color: white\"><b>หมา</b></a></td><td style=\"vertical-align:top;\">(n) dog, <b>See also:</b> <a href=\"search/canine\">canine</a>, <a href=\"search/hound\">hound</a>, <b>Syn.</b> <a href=\"search/สุนัข\">สุนัข</a>, <b>Example:</b> เสียงเห่าของหมายามค่ำคืนเป็นสิ่งที่สมบุญจะต้องพึ่งพาอาศัยอยู่เสมอ, <b>Count Unit:</b> ตัว, <b>Thai Definition:</b> ชื่อสัตว์เลี้ยงลูกด้วยนม ลำตัวมีขนปกคลุม มีเขี้ยว 2 คู่ ตีนหน้ามี 5 นิ้ว ตีนหลังมี 4 นิ้ว ซ่อนเล็บไม่ได้</td></tr><tr><td style=\"vertical-align:top;\" width=\"150\"><a href=\"search/หมาง\" style=\"color: white\"><b>หมา</b>ง</a></td><td style=\"vertical-align:top;\">(v) be at odds with, <b>See also:</b> <a href=\"search/be on bad terms\">be on bad terms</a>, <b>Syn.</b> <a href=\"search/หมองใจ\">หมองใจ</a>, <a href=\"search/ผิดใจ\">ผิดใจ</a>, <a href=\"search/หมองหมางใจ\">หมองหมางใจ</a>, <b>Example:</b> สามีภรรยาเกิดหมางกันขึ้นเพราะความไม่ไว้วางใจซึ่งกันและกัน</td></tr><tr><td style=\"vertical-align:top;\" width=\"150\"><a href=\"search/หมาด\" style=\"color: white\"><b>หมา</b>ด</a></td><td style=\"vertical-align:top;\">(v) half dry, <b>See also:</b> <a href=\"search/almost dry\">almost dry</a>, <b>Example:</b> พอผมหมาด คุณแม่ก็ใช้ที่เป่าผมเป่าให้แห้ง, <b>Thai Definition:</b> แห้งไม่สนิท, เกือบแห้ง</td></tr><tr><td style=\"vertical-align:top;\" width=\"150\"><a href=\"search/หมาย\" style=\"color: white\"><b>หมา</b>ย</a></td><td style=\"vertical-align:top;\">(n) warrant, <b>Syn.</b> <a href=\"search/ใบแจ้ง\">ใบแจ้ง</a>, <a href=\"search/หมายเรียก\">หมายเรียก</a>, <a href=\"search/ใบประกาศ\">ใบประกาศ</a>, <b>Example:</b> ศาลมีหมายมาถึงเขา เพื่อให้เขามาเป็นพยานในการพิพากษาตัดสินคดีนี้, <b>Count Unit:</b> ฉบับ, <b>Thai Definition:</b> หนังสือคำสั่งของศาล หรือเจ้าพนักงาน สั่งให้กระทำการ หรือห้ามกระทำการอย่างใดอย่างหนึ่ง, <b>Notes:</b> (กฎหมาย)</td></tr><tr><td style=\"vertical-align:top;\" width=\"150\"><a href=\"search/หมาย\" style=\"color: white\"><b>หมา</b>ย</a></td><td style=\"vertical-align:top;\">(v) aim, <b>See also:</b> <a href=\"search/intend\">intend</a>, <a href=\"search/expect\">expect</a>, <b>Syn.</b> <a href=\"search/มุ่ง\">มุ่ง</a>, <a href=\"search/มุ่งหมาย\">มุ่งหมาย</a>, <a href=\"search/ตั้งใจ\">ตั้งใจ</a>, <a href=\"search/หมายมั่น\">หมายมั่น</a>, <a href=\"search/หมายใจ\">หมายใจ</a>, <a href=\"search/มั่นหมาย\">มั่นหมาย</a>, <b>Example:</b> เขาหมายว่า การแข่งขันในครั้งนี้เขาจะต้องชนะ</td></tr><tr><td style=\"vertical-align:top;\" width=\"150\"><a href=\"search/หมาดๆ\" style=\"color: white\"><b>หมา</b>ดๆ</a></td><td style=\"vertical-align:top;\">(adj) damp, <b>See also:</b> <a href=\"search/dank\">dank</a>, <a href=\"search/moist\">moist</a>, <b>Example:</b> หากเลือกกำเดาไหล ให้ใช้ผ้าหมาดๆ ชุบยาหยอดจมูก, <b>Thai Definition:</b> เกือบแห้ง, แห้งไม่สนิท</td></tr><tr><td style=\"vertical-align:top;\" width=\"150\"><a href=\"search/หมาดๆ\" style=\"color: white\"><b>หมา</b>ดๆ</a></td><td style=\"vertical-align:top;\">(adv) recently, <b>Syn.</b> <a href=\"search/เร็วๆ นี้\">เร็วๆ นี้</a>, <b>Example:</b> ภาพแห่งความสุขเพิ่งผ่านไปหมาดๆ ความจากพรากกันก็มาเยือนทันที</td></tr><tr><td style=\"vertical-align:top;\" width=\"150\"><a href=\"search/หมาใน\" style=\"color: white\"><b>หมา</b>ใน</a></td><td style=\"vertical-align:top;\">(n) hyena, <b>See also:</b> <a href=\"search/hyena\">hyena</a>, <b>Example:</b> หมาในเป็นสัตว์ผู้ล่าขนาดกลาง, <b>Count Unit:</b> ตัว, <b>Thai Definition:</b> ชื่อหมาชนิด Cuon alpinus ในวงศ์ Canidae สีค่อนข้างแดง หางสีคล้ำยาวเป็นพวง อาศัยอยู่ตามป่าทึบ ออกหากินเป็นฝูง เวลาเช้ามืดและพลบค่ำ</td></tr><tr><td style=\"vertical-align:top;\" width=\"150\"><a href=\"search/หมากสง\" style=\"color: white\"><b>หมา</b>กสง</a></td><td style=\"vertical-align:top;\">(n) ripe areca-nut, <b>Syn.</b> <a href=\"search/หมากสุก\">หมากสุก</a>, <b>Ant.</b> <a href=\"search/หมากดิบ\">หมากดิบ</a>, <b>Example:</b> พวกเราต่างก็มีญาติผู้ใหญ่กินหมากอยู่เรารู้ว่าหมากสงคือหมากที่แก่จัดใช้กินแทนหมากดิบได้, <b>Count Unit:</b> ผล, ทะลาย, <b>Thai Definition:</b> หมากที่แก่จัด</td></tr><tr><td style=\"vertical-align:top;\" width=\"150\"><a href=\"search/หมางใจ\" style=\"color: white\"><b>หมา</b>งใจ</a></td><td style=\"vertical-align:top;\">(v) be at odds with, <b>See also:</b> <a href=\"search/be on bad terms\">be on bad terms</a>, <b>Syn.</b> <a href=\"search/หมองใจ\">หมองใจ</a>, <a href=\"search/ผิดใจ\">ผิดใจ</a>, <a href=\"search/หมองหมางใจ\">หมองหมางใจ</a>, <b>Ant.</b> <a href=\"search/เข้าใจ\">เข้าใจ</a>, <b>Example:</b> คำพูดของเขาทำให้เขากับเธอหมางใจกันมาจนทุกวันนี้</td></tr></table><h5>ไทย-ไทย: พจนานุกรมฉบับราชบัณฑิตยสถาน พ.ศ. ๒๕๕๔<h5><table cellpadding=\"0\" cellspacing=\"0\" class=\"search-result-table\" width=\"100%\"><tr><td style=\"vertical-align:top;\" width=\"150\"><a href=\"search/หมา ๑\" style=\"color: white\"><b>หมา</b> ๑</a></td><td style=\"vertical-align:top;\">น. ชื่อสัตว์เลี้ยงลูกด้วยนมหลายชนิดหลายสกุล ในวงศ์ Canidae มีรูปร่างและสีสันแตกต่างกัน ลำตัวมีขนปกคลุม หัวอาจยาวและแหลม หรือกลมและสั้น มีเขี้ยว ๒ คู่ ตีนหน้ามี ๕ นิ้ว ตีนหลังมี ๔ นิ้ว ซ่อนเล็บไม่ได้ อวัยวะเพศของตัวผู้มีกระดูกอยู่ภายใน ๑ ชิ้น หางค่อนข้างยาว ที่ยังคงเป็นสัตว์ป่า เช่น <b>หมา</b>ใน [ &lt;i&gt;Cuon alpinus&lt;/i&gt; (Pallas) ] ที่เลี้ยงเป็นสัตว์บ้าน คือ ชนิด &lt;i&gt;Canis familiaris&lt;/i&gt; (Linn.) บางพันธุ์สามารถนำมาฝึกหัดให้ช่วยงานของมนุษย์ได้ เช่นสุนัขสงครามหรือสุนัขตำรวจ.</td></tr><tr><td style=\"vertical-align:top;\" width=\"150\"><a href=\"search/หมา ๒\" style=\"color: white\"><b>หมา</b> ๒</a></td><td style=\"vertical-align:top;\">น. ภาชนะสำหรับตักน้ำขึ้นจากบ่อ ทำด้วยกาบปูเลเป็นต้น, ตี<b>หมา</b> ก็เรียก.</td></tr><tr><td style=\"vertical-align:top;\" width=\"150\"><a href=\"search/หมาก ๑\" style=\"color: white\"><b>หมา</b>ก ๑</a></td><td style=\"vertical-align:top;\">น. ชื่อเรียกปาล์มหลายชนิดหลายสกุลในวงศ์ Palmae โดยเฉพาะชนิด &lt;i&gt;Areca catechu&lt;/i&gt;L. ผลมีรสฝาด ใช้เคี้ยวกินกับปูน พลู ซึ่งรวมเรียกว่า กิน<b>หมา</b>ก และใช้ฟอกหนัง, ผลที่ยังไม่แก่เรียก <b>หมา</b>กดิบ, ผลที่แก่จัดเรียก <b>หมา</b>กสง, เนื้อ<b>หมา</b>กที่ฝานบาง ๆ ตากแห้ง ลักษณะคล้ายอีแปะ เรียก <b>หมา</b>กอีแปะ, ผลแก่จัดที่เก็บไว้ทั้งเปลือกเพื่อไว้กินนาน ๆ เรียก <b>หมา</b>กยับ.</td></tr><tr><td style=\"vertical-align:top;\" width=\"150\"><a href=\"search/หมาก ๒\" style=\"color: white\"><b>หมา</b>ก ๒</a></td><td style=\"vertical-align:top;\">น. ผลไม้ เช่น <b>หมา</b>กขาม แต่เสียงมักกร่อนเป็น มะ เช่น มะขาม.</td></tr><tr><td style=\"vertical-align:top;\" width=\"150\"><a href=\"search/หมาก ๓\" style=\"color: white\"><b>หมา</b>ก ๓</a></td><td style=\"vertical-align:top;\">น. เรียกสิ่งของที่เป็นหน่วยเป็นลูก ว่า <b>หมา</b>ก เช่น <b>หมา</b>กเก็บ <b>หมา</b>กรุก</td></tr><tr><td style=\"vertical-align:top;\" width=\"150\"><a href=\"search/หมาก ๓\" style=\"color: white\"><b>หมา</b>ก ๓</a></td><td style=\"vertical-align:top;\">ลักษณนามเรียกของที่เป็นเม็ดเป็นลูก ว่า <b>หมา</b>ก เช่น แสงสิบ<b>หมา</b>ก ว่า พลอยสิบเม็ด.</td></tr><tr><td style=\"vertical-align:top;\" width=\"150\"><a href=\"search/หมากกรอก\" style=\"color: white\"><b>หมา</b>กกรอก</a></td><td style=\"vertical-align:top;\">น. ผล<b>หมา</b>กสงทั้งเปลือกที่ตากแดดให้แห้งสนิทจนเมื่อเขย่าเนื้อ<b>หมา</b>กที่อยู่ข้างในจะกลิ้งไปมาได้ จึงผ่าเอาเนื้อข้างในออกมาเก็บไว้กิน, <b>หมา</b>กเม็ด ก็เรียก.</td></tr><tr><td style=\"vertical-align:top;\" width=\"150\"><a href=\"search/หมากกระเตอะ, หมากหน้ากระเตอะ\" style=\"color: white\"><b>หมา</b>กกระเตอะ, <b>หมา</b>กหน้ากระเตอะ</a></td><td style=\"vertical-align:top;\">น. ผล<b>หมา</b>กที่มีหน้าจวนแก่.</td></tr><tr><td style=\"vertical-align:top;\" width=\"150\"><a href=\"search/หมากกั๊ก\" style=\"color: white\"><b>หมา</b>กกั๊ก</a></td><td style=\"vertical-align:top;\">น. ผล<b>หมา</b>กสงทั้งเปลือกที่ผ่าตามยาวออกเป็น ๔ ซีก แล้วนำไปตากแดดให้แห้งจนเปลือกล่อนหลุดออก เพื่อเก็บเนื้อไว้กินได้นาน ๆ.</td></tr><tr><td style=\"vertical-align:top;\" width=\"150\"><a href=\"search/หมากข่วง\" style=\"color: white\"><b>หมา</b>กข่วง</a></td><td style=\"vertical-align:top;\">&lt;i&gt;ดู มะแข่น&lt;/i&gt;.</td></tr></table><h5>อังกฤษ-ไทย: ศัพท์บัญญัติราชบัณฑิตยสถาน [เชื่อมโยงจาก orst.go.th แบบอัตโนมัติและผ่านการปรับแก้]<h5><table cellpadding=\"0\" cellspacing=\"0\" class=\"search-result-table\" width=\"100%\"><tr><td style=\"vertical-align:top;\" width=\"150\"><a href=\"search/writ\" style=\"color: white\">writ</a></td><td style=\"vertical-align:top;\"><b>หมา</b>ย <font color=\"gray\">[รัฐศาสตร์ ๑๗ ส.ค. ๒๕๔๔]</font></td></tr><tr><td style=\"vertical-align:top;\" width=\"150\"><a href=\"search/writ\" style=\"color: white\">writ</a></td><td style=\"vertical-align:top;\"><b>หมา</b>ย <font color=\"gray\">[นิติศาสตร์ ๑๑ มี.ค. ๒๕๔๕]</font></td></tr><tr><td style=\"vertical-align:top;\" width=\"150\"><a href=\"search/warrant\" style=\"color: white\">warrant</a></td><td style=\"vertical-align:top;\"><b>หมา</b>ย, <b>หมา</b>ยอาญา <font color=\"gray\">[รัฐศาสตร์ ๑๗ ส.ค. ๒๕๔๔]</font></td></tr><tr><td style=\"vertical-align:top;\" width=\"150\"><a href=\"search/warrant of detention\" style=\"color: white\">warrant of detention</a></td><td style=\"vertical-align:top;\"><b>หมา</b>ยขัง <font color=\"gray\">[นิติศาสตร์ ๑๑ มี.ค. ๒๕๔๕]</font></td></tr><tr><td style=\"vertical-align:top;\" width=\"150\"><a href=\"search/search warrant\" style=\"color: white\">search warrant</a></td><td style=\"vertical-align:top;\"><b>หมา</b>ยค้น <font color=\"gray\">[รัฐศาสตร์ ๑๗ ส.ค. ๒๕๔๔]</font></td></tr><tr><td style=\"vertical-align:top;\" width=\"150\"><a href=\"search/search warrant\" style=\"color: white\">search warrant</a></td><td style=\"vertical-align:top;\"><b>หมา</b>ยค้น <font color=\"gray\">[นิติศาสตร์ ๑๑ มี.ค. ๒๕๔๕]</font></td></tr><tr><td style=\"vertical-align:top;\" width=\"150\"><a href=\"search/warrant, search\" style=\"color: white\">warrant, search</a></td><td style=\"vertical-align:top;\"><b>หมา</b>ยค้น <font color=\"gray\">[รัฐศาสตร์ ๑๗ ส.ค. ๒๕๔๔]</font></td></tr><tr><td style=\"vertical-align:top;\" width=\"150\"><a href=\"search/warrant, search; warrant of search\" style=\"color: white\">warrant, search; warrant of search</a></td><td style=\"vertical-align:top;\"><b>หมา</b>ยค้น <font color=\"gray\">[นิติศาสตร์ ๑๑ มี.ค. ๒๕๔๕]</font></td></tr><tr><td style=\"vertical-align:top;\" width=\"150\"><a href=\"search/warrant of search; warrant, search\" style=\"color: white\">warrant of search; warrant, search</a></td><td style=\"vertical-align:top;\"><b>หมา</b>ยค้น <font color=\"gray\">[นิติศาสตร์ ๑๑ มี.ค. ๒๕๔๕]</font></td></tr><tr><td style=\"vertical-align:top;\" width=\"150\"><a href=\"search/general warrant\" style=\"color: white\">general warrant</a></td><td style=\"vertical-align:top;\"><b>หมา</b>ยค้นที่ไม่ระบุชื่อหรือสถานที่ <font color=\"gray\">[นิติศาสตร์ ๑๑ มี.ค. ๒๕๔๕]</font></td></tr></table><h5>อังกฤษ-ไทย: คลังศัพท์ไทย โดย สวทช.<h5><table cellpadding=\"0\" cellspacing=\"0\" class=\"search-result-table\" width=\"100%\"><tr><td style=\"vertical-align:top;\" width=\"150\"><a href=\"search/Note\" style=\"color: white\">Note</a></td><td style=\"vertical-align:top;\"><b>หมา</b>ยเหตุ <font color=\"gray\">[บรรณารักษ์และสารสนเทศศาสตร์]</font></td></tr><tr><td style=\"vertical-align:top;\" width=\"150\"><a href=\"search/Publication Number\" style=\"color: white\">Publication Number</a></td><td style=\"vertical-align:top;\"><b>หมา</b>ยเลขที่ตีพิมพ์โฆษณาคำขอรับสิทธิบัตร <font color=\"gray\">[ทรัพย์สินทางปัญญา]</font></td></tr><tr><td style=\"vertical-align:top;\" width=\"150\"><a href=\"search/version number\" style=\"color: white\">version number</a></td><td style=\"vertical-align:top;\"><b>หมา</b>ยเลขรุ่น, <b>Example:</b> หมายเลขที่กำหนดให้กับโปรแกรมเพื่อแสดงว่าได้ปรับปรุงซอฟต์แวร์นั้นอย่างขนานใหญ่มากี่ครั้งแล้ว <font color=\"gray\">[คอมพิวเตอร์]</font></td></tr><tr><td style=\"vertical-align:top;\" width=\"150\"><a href=\"search/หมายเหตุ\" style=\"color: white\"><b>หมา</b>ยเหตุ</a></td><td style=\"vertical-align:top;\">คำอธิบาย ข้อความ หรือข้อมูลเพิ่มเติม, <b>Example:</b> คำที่มักเขียนผิด คือ หมายเหต <font color=\"gray\">[คำที่มักเขียนผิด]</font></td></tr><tr><td style=\"vertical-align:top;\" width=\"150\"><a href=\"search/Writs\" style=\"color: white\">Writs</a></td><td style=\"vertical-align:top;\"><b>หมา</b>ยศาล <font color=\"gray\">[TU Subject Heading]</font></td></tr><tr><td style=\"vertical-align:top;\" width=\"150\"><a href=\"search/Betel nut\" style=\"color: white\">Betel nut</a></td><td style=\"vertical-align:top;\"><b>หมา</b>ก <font color=\"gray\">[TU Subject Heading]</font></td></tr><tr><td style=\"vertical-align:top;\" width=\"150\"><a href=\"search/Checkers\" style=\"color: white\">Checkers</a></td><td style=\"vertical-align:top;\"><b>หมา</b>กฮอส <font color=\"gray\">[TU Subject Heading]</font></td></tr><tr><td style=\"vertical-align:top;\" width=\"150\"><a href=\"search/Chess\" style=\"color: white\">Chess</a></td><td style=\"vertical-align:top;\"><b>หมา</b>กรุก <font color=\"gray\">[TU Subject Heading]</font></td></tr><tr><td style=\"vertical-align:top;\" width=\"150\"><a href=\"search/Cordyline\" style=\"color: white\">Cordyline</a></td><td style=\"vertical-align:top;\"><b>หมา</b>กผู้<b>หมา</b>กเมีย <font color=\"gray\">[TU Subject Heading]</font></td></tr><tr><td style=\"vertical-align:top;\" width=\"150\"><a href=\"search/Summons\" style=\"color: white\">Summons</a></td><td style=\"vertical-align:top;\"><b>หมา</b>ยเรียก <font color=\"gray\">[TU Subject Heading]</font></td></tr></table><h5>Thai-English-French: Volubilis Dictionary 1.0<h5><table cellpadding=\"0\" cellspacing=\"0\" class=\"search-result-table\" width=\"100%\"><tr><td style=\"vertical-align:top;\" width=\"150\"><a href=\"search/หมา\" style=\"color: white\"><b>หมา</b></a></td><td>[mā] (n) <b>EN:</b> dog ; bitch ; hound ; cur  <b>FR:</b> chien [ m ] ; chienne [ f ] ; chiot [ m ] ; limier [ m ] ; cabot [ m ] (fam.) ; clébard [ m ] (fam.) ; clebs [ m ] (fam.) ; toutou [ m ] (fam.)</td></tr><tr><td style=\"vertical-align:top;\" width=\"150\"><a href=\"search/หมาก\" style=\"color: white\"><b>หมา</b>ก</a></td><td>[māk] (n) <b>EN:</b> betel palm ; areca palm</td></tr><tr><td style=\"vertical-align:top;\" width=\"150\"><a href=\"search/หมาก\" style=\"color: white\"><b>หมา</b>ก</a></td><td>[māk] (n) <b>EN:</b> betel nut ; areca nut  <b>FR:</b> noix d'arec [ f ] ; feuille de bétel [ f ]</td></tr><tr><td style=\"vertical-align:top;\" width=\"150\"><a href=\"search/หมาก\" style=\"color: white\"><b>หมา</b>ก</a></td><td>[māk] (n) <b>EN:</b> dominoes</td></tr><tr><td style=\"vertical-align:top;\" width=\"150\"><a href=\"search/หมากงาช้าง\" style=\"color: white\"><b>หมา</b>กงาช้าง</a></td><td>[māk ngā chāng] (n, exp) <b>EN:</b> ?  <b>FR:</b> ?</td></tr><tr><td style=\"vertical-align:top;\" width=\"150\"><a href=\"search/หมากดิบ\" style=\"color: white\"><b>หมา</b>กดิบ</a></td><td>[māk dip] (n, exp) <b>EN:</b> raw betel nut</td></tr><tr><td style=\"vertical-align:top;\" width=\"150\"><a href=\"search/หมากทัน\" style=\"color: white\"><b>หมา</b>กทัน</a></td><td>[mākthan] (n) <b>EN:</b> monkey apple</td></tr><tr><td style=\"vertical-align:top;\" width=\"150\"><a href=\"search/หมากนวล\" style=\"color: white\"><b>หมา</b>กนวล</a></td><td>[māk nūan] (n, exp) <b>EN:</b> Manila palm ; Christmas palm </td></tr><tr><td style=\"vertical-align:top;\" width=\"150\"><a href=\"search/หมากผู้หมากเมีย\" style=\"color: white\"><b>หมา</b>กผู้<b>หมา</b>กเมีย</a></td><td>[mākphūmākmīa] (n) <b>EN:</b> Cordyline </td></tr><tr><td style=\"vertical-align:top;\" width=\"150\"><a href=\"search/หมากฝรั่ง\" style=\"color: white\"><b>หมา</b>กฝรั่ง</a></td><td>[māk farang] (n) <b>EN:</b> chewing gum  <b>FR:</b> chewing gum [ m ]</td></tr></table><h5>English-Thai: Longdo Dictionary<h5><table cellpadding=\"0\" cellspacing=\"0\" class=\"search-result-table\" width=\"100%\"><tr><td style=\"vertical-align:top;\" width=\"150\"><a href=\"search/football\" style=\"color: white\">football</a></td><td style=\"vertical-align:top;\">(n) ถ้าในอเมริกา จะ<b>หมา</b>ยถึง กีฬาอเมริกันฟุตบอล (ถ้าจะพูดถึงฟุตบอลในความ<b>หมา</b>ยที่ใช้กันในบ้านเรา จะเรียกว่า soccer แทน)</td></tr><tr><td style=\"vertical-align:top;\" width=\"150\"><a href=\"search/SLR\" style=\"color: white\">SLR</a></td><td style=\"vertical-align:top;\">(n, abbrev) ย่อมาจาก Single-Lens Reflex <b>หมา</b>ยถึง กล้องถ่ายภาพที่ใช้เลนส์ตัวเดียวกันสำหรับมองภาพ และถ่ายภาพ ทำให้ได้ภาพในฟิล์มเหมือนดั่งภาพที่ปรากฏในช่องมอง กล้องประเภทนี้มักจะเปลี่ยนเลนส์ได้ด้วย, <b>See also:</b> <a href=\"search/camera\">camera</a></td></tr><tr><td style=\"vertical-align:top;\" width=\"150\"><a href=\"search/DSLR\" style=\"color: white\">DSLR</a></td><td style=\"vertical-align:top;\">(n, abbrev) ย่อมาจาก Digital SLR <b>หมา</b>ยถึงกล้องดิจิตอลชนิด SLR, <b>See also:</b> <a href=\"search/SLR\">SLR</a>, <a href=\"search/camera\">camera</a></td></tr><tr><td style=\"vertical-align:top;\" width=\"150\"><a href=\"search/memory stick\" style=\"color: white\">memory stick</a></td><td style=\"vertical-align:top;\">(n) อุปกรณ์เก็บข้อมูลประเภท flash memory ชนิดหนึ่ง ได้รับการพัฒนาโดยบริษัท SONY และใช้กับผลิตภัณฑ์ต่างๆของ SONY มีขนาดเล็กประมาณเท่าแผ่น<b>หมา</b>กฝรั่ง magic gate memory stick คือ memory stick ที่มี<b>หมา</b>ยเลขรหัสประจำในแต่ละแผ่น เพื่อให้สามารถควบคุมการทำสำเนาข้อมูลที่มีลิขสิทธิ์ (เช่น ข้อมูลเพลง หรือภาพ) ได้ คือ ข้อมูลที่บันทึกจะนำมาใช้ได้เมื่ออ่านจากแผ่นที่มี<b>หมา</b>ยเลขที่กำหนดเท่านั้น และจะใช้ไม่ได้เมื่อทำสำเนาข้อมูลนั้นไปยังแผ่นหรืออุปกรณ์เก็บข้อมูลอื่น, <b>See also:</b> <a href=\"search/flash memory\">flash memory</a></td></tr><tr><td style=\"vertical-align:top;\" width=\"150\"><a href=\"search/PDA\" style=\"color: white\">PDA</a></td><td style=\"vertical-align:top;\">(n, abbrev) ย่อมาจากคำว่า Personal Digital Assistant <b>หมา</b>ยถึงอุปกรณ์ผู้ช่วยดิจิตอลส่วนตัว มักมีขนาดเล็กพกพาสะดวก สามารถใช้บันทึกข้อมูลนัด<b>หมา</b>ย <b>หมา</b>ยเลขโทรศัพท์ รับส่งข้อมูล หรือใช้เล่นเกมส์เพื่อความบันเทิงต่างๆได้, <b>See also:</b> <a href=\"search/Palm\">Palm</a>, <a href=\"search/Visor\">Visor</a>, <a href=\"search/Handheld\">Handheld</a>, <a href=\"search/PocketPC\">PocketPC</a></td></tr><tr><td style=\"vertical-align:top;\" width=\"150\"><a href=\"search/quotation mark\" style=\"color: white\">quotation mark</a></td><td style=\"vertical-align:top;\">(n) อัญประกาศ หรือเครื่อง<b>หมา</b>ยคำพูด (เครื่อง<b>หมา</b>ยรูป</td></tr><tr><td style=\"vertical-align:top;\" width=\"150\"><a href=\"search/flare\" style=\"color: white\">flare</a></td><td style=\"vertical-align:top;\">(n) แถบหรือแนวจุดสว่างที่ปรากฏบนภาพถ่าย อันเกิดจากการที่แสงจากแหล่งกำเนิด เช่น ดวงอาทิตย์หรือหลอดไฟฟ้า ส่องเข้าหน้าเลนส์ในมุมที่เ<b>หมา</b>ะสม แล้วสะท้อนกับผิวแก้วชิ้นเลนส์หรือวัตถุอื่นๆที่อยู่ในเลนส์ ไปตกลงบนผิวฟิล์มรับภาพ สามารถบรรเทาได้ด้วยการสวมหน้ากากกันแสงหน้าเลนส์ (hood), <b>See also:</b> <a href=\"search/hood\">hood</a></td></tr><tr><td style=\"vertical-align:top;\" width=\"150\"><a href=\"search/ADB\" style=\"color: white\">ADB</a></td><td style=\"vertical-align:top;\">(abbrev) ADB ย่อมาจาก Asian Development Bank <b>หมา</b>ยถึง ธนาคารเพื่อการพัฒนาแห่งเอเชีย</td></tr><tr><td style=\"vertical-align:top;\" width=\"150\"><a href=\"search/CITES\" style=\"color: white\">CITES</a></td><td style=\"vertical-align:top;\">(abbrev) CITES (อ่านว่า ไซเตส) ย่อมาจาก The Convention of International Trade in endangered spicies of Wild Fauna and Flora <b>หมา</b>ยถึง อนุสัญญาว่าด้วยการค้าระหว่างประเทศ ซึ่งห้ามการค้าชนิดสัตว์และพืชป่าที่ใกล้สูญพันธุ์</td></tr><tr><td style=\"vertical-align:top;\" width=\"150\"><a href=\"search/LOL\" style=\"color: white\">LOL</a></td><td style=\"vertical-align:top;\">(phrase, slang) ย่อมาจาก Laughing Out Loud <b>หมา</b>ยถึง กำลังหัวเราะอย่างดัง, เป็นศัพท์แสลงยุคอินเทอร์เน็ต</td></tr></table><h5>English-Thai: NECTEC's Lexitron-2 Dictionary [with local updates]<h5><table cellpadding=\"0\" cellspacing=\"0\" class=\"search-result-table\" width=\"100%\"><tr><td style=\"vertical-align:top;\" width=\"150\"><a href=\"search/allude\" style=\"color: white\">allude</a></td><td style=\"vertical-align:top;\">(vi) พูดเป็นนัย, <b>See also:</b> <a href=\"search/หมายถึง\">หมายถึง</a>, <b>Syn.</b> <a href=\"search/refer\">refer</a></td></tr><tr><td style=\"vertical-align:top;\" width=\"150\"><a href=\"search/apostil\" style=\"color: white\">apostil</a></td><td style=\"vertical-align:top;\">(n) <b>หมา</b>ยเหตุ, <b>Syn.</b> <a href=\"search/apostille\">apostille</a></td></tr><tr><td style=\"vertical-align:top;\" width=\"150\"><a href=\"search/apostille\" style=\"color: white\">apostille</a></td><td style=\"vertical-align:top;\">(n) <b>หมา</b>ยเหตุ, <b>Syn.</b> <a href=\"search/apostil\">apostil</a></td></tr><tr><td style=\"vertical-align:top;\" width=\"150\"><a href=\"search/bubblegum\" style=\"color: white\">bubblegum</a></td><td style=\"vertical-align:top;\">(n) <b>หมา</b>กฝรั่งชนิดหนึ่งที่เป่าลูกโป่งได้</td></tr><tr><td style=\"vertical-align:top;\" width=\"150\"><a href=\"search/call number\" style=\"color: white\">call number</a></td><td style=\"vertical-align:top;\">(n) เลขเรียกหนังสือในห้องสมุด, <b>See also:</b> <a href=\"search/หมายเลขที่แสดงตำแหน่งที่เก็บของหนังสือในห้องสมุด\">หมายเลขที่แสดงตำแหน่งที่เก็บของหนังสือในห้องสมุด</a></td></tr><tr><td style=\"vertical-align:top;\" width=\"150\"><a href=\"search/chess\" style=\"color: white\">chess</a></td><td style=\"vertical-align:top;\">(n) <b>หมา</b>กรุก, <b>Syn.</b> <a href=\"search/chess game\">chess game</a></td></tr><tr><td style=\"vertical-align:top;\" width=\"150\"><a href=\"search/chewing gum\" style=\"color: white\">chewing gum</a></td><td style=\"vertical-align:top;\">(n) <b>หมา</b>กฝรั่ง</td></tr><tr><td style=\"vertical-align:top;\" width=\"150\"><a href=\"search/convey\" style=\"color: white\">convey</a></td><td style=\"vertical-align:top;\">(vt) แสดงถึง, <b>See also:</b> <a href=\"search/หมายถึง\">หมายถึง</a>, <a href=\"search/สื่อความหมายว่า\">สื่อความหมายว่า</a>, <b>Syn.</b> <a href=\"search/carry\">carry</a>, <a href=\"search/express\">express</a></td></tr><tr><td style=\"vertical-align:top;\" width=\"150\"><a href=\"search/denote\" style=\"color: white\">denote</a></td><td style=\"vertical-align:top;\">(vt) แสดงถึง, <b>See also:</b> <a href=\"search/หมายถึง\">หมายถึง</a>, <a href=\"search/มีความหมายว่า\">มีความหมายว่า</a>, <b>Syn.</b> <a href=\"search/signify\">signify</a>, <a href=\"search/stand for\">stand for</a>, <a href=\"search/mean\">mean</a></td></tr><tr><td style=\"vertical-align:top;\" width=\"150\"><a href=\"search/dog\" style=\"color: white\">dog</a></td><td style=\"vertical-align:top;\">(n) สุนัข, <b>See also:</b> <a href=\"search/หมา\">หมา</a>, <a href=\"search/สัตว์ตระกูลสุนัข\">สัตว์ตระกูลสุนัข</a>, <b>Syn.</b> <a href=\"search/canine\">canine</a>, <a href=\"search/hound\">hound</a>, <a href=\"search/puppy\">puppy</a></td></tr></table><h5>English-Thai: HOPE Dictionary [with local updates]<h5><table cellpadding=\"0\" cellspacing=\"0\" class=\"search-result-table\" width=\"100%\"><tr><td style=\"vertical-align:top;\" width=\"150\"><a href=\"search/!\" style=\"color: white\">!</a></td><td style=\"vertical-align:top;\">เครื่อง<b>หมา</b>ยอัศเจรีย์</td></tr><tr><td style=\"vertical-align:top;\" width=\"150\"><a href=\"search/*\" style=\"color: white\">*</a></td><td style=\"vertical-align:top;\">เครื่อง<b>หมา</b>ย asterisk (ดอกจัน) เป็นอักขระตัวหนึ่ง มีอยู่บนแผงแป้นอักขระ เมื่อนำมาใช้ในคำสั่งระบบดอส สัญลักษณ์ * จะใช้แทนตัวอักษรใด ๆ ก็ได้ กี่ตัวก็ได้ (wildcards) ใช้เมื่อต้องการอ้างถึงชื่อแฟ้มข้อมูล เช่นถ้าใช้ A*.* <b>หมา</b>ยความถึง แฟ้มข้อมูลทุกแฟ้มที่มีชื่อขึ้นต้นด้วยอักษร A และจะมีนามสกุลอะไรก็ได้ หรือถ้าใช้ *.COM ก็<b>หมา</b>ยความ ถึงแฟ้มข้อมูลทุกแฟ้มที่มีนามสกุล COM ถ้าใช้ *.* ก็จะ<b>หมา</b>ยถึงทุกแฟ้มข้อมูลที่มีอยู่ในสารบบ หรือในจานบันทึก ดู wildcards ประกอบ</td></tr><tr><td style=\"vertical-align:top;\" width=\"150\"><a href=\"search/+\" style=\"color: white\">+</a></td><td style=\"vertical-align:top;\">เครื่อง<b>หมา</b>ย cross hairs เป็นรูปลักษณ์ของตัวชี้ตำแหน่ง (cursor) แบบหนึ่ง ที่แตกต่างกันออกไปในบางโปรแกรม เช่น ในโปรแกรมการวาดภาพในระบบวินโดว์ส มักมีลักษณะเป็นเส้นตัดกัน (+) แทนที่จะเห็นเป็นลูกศรตามปกติ</td></tr><tr><td style=\"vertical-align:top;\" width=\"150\"><a href=\"search/?\" style=\"color: white\">?</a></td><td style=\"vertical-align:top;\">เครื่อง<b>หมา</b>ย ellipsis <b>หมา</b>ยถึง จุดเล็ก ๆ สามจุด ซึ่งจะอยู่หลังรายการคำสั่งบางรายการภายใต้เมนูต่าง ๆ จุด 3 จุด นี้ แสดงว่า หากเลือกคำสั่งนี้ จะมีคำถามรายละเอียดเพิ่มเติมให้ตอบในแบบของกรอบสนทนา (dialog box) บางรายการคำสั่งที่ไม่มี 3 จุดนี้ คอมพิวเตอร์ก็จะปฎิบัติตามคำสั่งโดยไม่มีกรอบสนทนามาให้เติมเลย</td></tr><tr><td style=\"vertical-align:top;\" width=\"150\"><a href=\"search/^\" style=\"color: white\">^</a></td><td style=\"vertical-align:top;\">&lt;คำแปล&gt; hat <b>หมา</b>ยถึง สัญลักษณ์ที่มีลักษณะคล้ายหมวก (^) ในภาษาไทยเราก็เรียกเครื่อง<b>หมา</b>ยนี้ว่า \"หมวก\" ใช้แทน แป้นควบคุม (Control Key) เช่น กดแป้นควบคุมและแป้น K จะใช้ย่อ ๆ ว่า กด ^K ในภาษาเบสิกใช้<b>หมา</b>ยถึงการยกกำลัง เช่น 5^3 มีความ<b>หมา</b>ยว่า 5 ยกกำลัง 3 ดู caret ประกอบ^ (สัญลักษณ์) &lt;เครื่อง<b>หมา</b>ย&gt;caret<b>หมา</b>ยถึง สัญลักษณ์ที่เกิดขึ้นเมื่อกดแป้น Shift+6 (^) สัญลักษณ์นี้ใช้ในการเขียนโปรแกรมของบางภาษา โดยจะแทนคำสั่งเฉพาะบางคำสั่ง มีความ<b>หมา</b>ยแตกต่างกันไป เช่น ^ ในภาษาปาสกาล (Pascal) ใช้แทนตัวชี้ (pointer) , ^ ใน ภาษาซี (C) ใช้แทนตัวดำเนินการ exclusive OR, ^ ใน ภาษาเบสิก (BASIC) ใช้แทนการยกกำลัง เป็นต้น</td></tr><tr><td style=\"vertical-align:top;\" width=\"150\"><a href=\"search/_\" style=\"color: white\">_</a></td><td style=\"vertical-align:top;\">เครื่อง<b>หมา</b>ย underscore เป็นอักขระตัวหนึ่งบนแผงแป้นอักขระ มีลักษณะดังนี้ (-) ถ้าเป็นแป้นในพิมพ์ดีดจะใช้สำหรับขีดเส้นใต้ (underline) แทน แต่ในคอมพิวเตอร์ การขีดเส้นใต้มักนิยมใช้เป็นคำสั่ง (underline) แทน แต่บนแผงแป้นพิมพ์ก็ยังมีแป้นนี้อยู่ เมื่อกดแป้นนี้ คอมพิวเตอร์จะถือเสมือนเป็นตัวอักขระตัวหนึ่ง แต่ไม่สามารถใช้เป็นการขีดเส้นใต้ได้ต่อไปอีก เช่น อาจตั้งชื่อแฟ้มข้อมูลว่า A-B ก็ได้</td></tr><tr><td style=\"vertical-align:top;\" width=\"150\"><a href=\"search/a.\" style=\"color: white\">a.</a></td><td style=\"vertical-align:top;\"><b>หมา</b>ยถึง Absolute, Academy, acre, acres, America, American, angstrom unit, year, anonymous, before</td></tr><tr><td style=\"vertical-align:top;\" width=\"150\"><a href=\"search/a:\" style=\"color: white\">a:</a></td><td style=\"vertical-align:top;\">A: Drive A ไดรฟ์เอ <b>หมา</b>ยถึง ชื่อหน่วยบันทึกหน่วยแรกของเครื่องคอมพิวเตอร์ตระกูลไอบีเอ็ม หรือเครื่องเลียนแบบ (compatibles) เมื่อเปิดเครื่องคอมพิวเตอร์ เครื่องจะเข้าไปดูในหน่วยนี้ก่อน หากไม่พบสิ่งใด ๆ จึงจะย้ายไปดูหน่วยบันทึกอื่นต่อไป หน่วยที่สองจะนิยมเรียกกันว่า B: และหน่วยจานบันทึกแข็งหรือฮาร์ดดิสก์ มักจะถูกกำหนดให้เป็น C: (เวลาเขียน ต้องมีเครื่อง<b>หมา</b>ย : ตามหลังเสมอ จึงจะ<b>หมา</b>ยถึงหน่วยบันทึก)</td></tr><tr><td style=\"vertical-align:top;\" width=\"150\"><a href=\"search/aam\" style=\"color: white\">aam</a></td><td style=\"vertical-align:top;\">abbr. air-to-air missile (ขีปนาวุธจากฐานบนอากาศไปสู่เป้า<b>หมา</b>ยบนอากาศ)</td></tr><tr><td style=\"vertical-align:top;\" width=\"150\"><a href=\"search/aardwolf\" style=\"color: white\">aardwolf</a></td><td style=\"vertical-align:top;\">(อาร์ด' วูลฟ) n. สัตว์เลี้ยงลูกด้วยนมชนิดหนึ่งในอาฟริกาคล้าย<b>หมา</b> แต่กินแมลงเป็นอาหาร (hyenalike African mammal)</td></tr></table><h5>English-Thai: Nontri Dictionary<h5><table cellpadding=\"0\" cellspacing=\"0\" class=\"search-result-table\" width=\"100%\"><tr><td style=\"vertical-align:top;\" width=\"150\"><a href=\"search/acceptation\" style=\"color: white\">acceptation</a></td><td style=\"vertical-align:top;\">(n) ความ<b>หมา</b>ยทั่วไป, การยอมรับ, การเห็นชอบ</td></tr><tr><td style=\"vertical-align:top;\" width=\"150\"><a href=\"search/act\" style=\"color: white\">act</a></td><td style=\"vertical-align:top;\">(n) การกระทำ, พฤติการณ์, พระราชบัญญัติ, กฎ<b>หมา</b>ย, องก์(ละคร)</td></tr><tr><td style=\"vertical-align:top;\" width=\"150\"><a href=\"search/adapt\" style=\"color: white\">adapt</a></td><td style=\"vertical-align:top;\">(vt) ดัดแปลง, ปรับ, ทำให้เ<b>หมา</b>ะสม</td></tr><tr><td style=\"vertical-align:top;\" width=\"150\"><a href=\"search/addressee\" style=\"color: white\">addressee</a></td><td style=\"vertical-align:top;\">(n) ผู้ฟัง, ผู้รับจด<b>หมา</b>ย</td></tr><tr><td style=\"vertical-align:top;\" width=\"150\"><a href=\"search/addresser\" style=\"color: white\">addresser</a></td><td style=\"vertical-align:top;\">(n) ผู้พูด, ผู้ส่งจด<b>หมา</b>ย</td></tr><tr><td style=\"vertical-align:top;\" width=\"150\"><a href=\"search/adequate\" style=\"color: white\">adequate</a></td><td style=\"vertical-align:top;\">(adj) เพียงพอ, เ<b>หมา</b>ะสม</td></tr><tr><td style=\"vertical-align:top;\" width=\"150\"><a href=\"search/admiralty\" style=\"color: white\">admiralty</a></td><td style=\"vertical-align:top;\">(n) เจ้าหน้าที่กองทัพเรือ, กฎ<b>หมา</b>ยหรือศาลแห่งกองทัพเรือ</td></tr><tr><td style=\"vertical-align:top;\" width=\"150\"><a href=\"search/advisable\" style=\"color: white\">advisable</a></td><td style=\"vertical-align:top;\">(adj) สมควร, ซึ่งแนะนำได้, เ<b>หมา</b>ะ</td></tr><tr><td style=\"vertical-align:top;\" width=\"150\"><a href=\"search/affianced\" style=\"color: white\">affianced</a></td><td style=\"vertical-align:top;\">(adj) ซึ่งรับหมั้นไว้, ซึ่งหมั้น<b>หมา</b>ยกันไว้</td></tr><tr><td style=\"vertical-align:top;\" width=\"150\"><a href=\"search/afoul\" style=\"color: white\">afoul</a></td><td style=\"vertical-align:top;\">(adj) ซึ่งปะทะกัน, ที่บาด<b>หมา</b>งกัน</td></tr></table><h5>English-Thai: Longdo Dictionary (UNAPPROVED version -- use with care )   **ระวัง คำแปลอาจมีข้อผิดพลาด**<h5><table cellpadding=\"0\" cellspacing=\"0\" class=\"search-result-table\" width=\"100%\"><tr><td style=\"vertical-align:top;\" width=\"150\"><a href=\"search/dog\" style=\"color: white\">dog</a></td><td style=\"vertical-align:top;\">[-] (n, vi) <b>หมา</b>, <b>See also:</b> A. หมา, dog, <b>Syn.</b> หมา</td></tr><tr><td style=\"vertical-align:top;\" width=\"150\"><a href=\"search/hotdog\" style=\"color: white\">hotdog</a></td><td style=\"vertical-align:top;\">[ฮอทด๊อก] <b>หมา</b>ร้อน</td></tr><tr><td style=\"vertical-align:top;\" width=\"150\"><a href=\"search/process\" style=\"color: white\">process</a></td><td style=\"vertical-align:top;\">(n) <b>หมา</b>ยเรียก</td></tr><tr><td style=\"vertical-align:top;\" width=\"150\"><a href=\"search/reference number\" style=\"color: white\">reference number</a></td><td style=\"vertical-align:top;\">(n, phrase) <b>หมา</b>ยเลขอ้างอิง</td></tr><tr><td style=\"vertical-align:top;\" width=\"150\"><a href=\"search/Serratus\" style=\"color: white\">Serratus</a></td><td style=\"vertical-align:top;\"><b>หมา</b>ยถึงกล้ามเนื้อในลำต้น (ทรวงอก)</td></tr></table><h5>Japanese-Thai: Longdo Dictionary<h5><table cellpadding=\"0\" cellspacing=\"0\" class=\"search-result-table\" width=\"100%\"><tr><td style=\"vertical-align:top;\" width=\"150\"><a href=\"search/狼\" style=\"color: white\">狼</a></td><td style=\"vertical-align:top;\">[おおかみ, ookami] (n) <b>หมา</b>ป่า, สุนัขป่า</td></tr><tr><td style=\"vertical-align:top;\" width=\"150\"><a href=\"search/逮捕状\" style=\"color: white\">逮捕状</a></td><td style=\"vertical-align:top;\">[たいほじょう, taihojou] (n) <b>หมา</b>ยจับ</td></tr></table><h5>Japanese-Thai: Longdo Dictionary (UNAPPROVED version -- use with care )   **ระวัง คำแปลอาจมีข้อผิดพลาด**<h5><table cellpadding=\"0\" cellspacing=\"0\" class=\"search-result-table\" width=\"100%\"><tr><td style=\"vertical-align:top;\" width=\"150\"><a href=\"search/狐\" style=\"color: white\">狐</a></td><td style=\"vertical-align:top;\">[きつね, kitsune] (n) <b>หมา</b>จิ้งจอก</td></tr><tr><td style=\"vertical-align:top;\" width=\"150\"><a href=\"search/番号\" style=\"color: white\">番号</a></td><td style=\"vertical-align:top;\">[ばんごう, bangou] (n) <b>หมา</b>ยเลข (<b>หมา</b>ยเลขโทรศัพท์, <b>หมา</b>ยเลขเขียนต่อท้ายคำหรือประโยค)</td></tr><tr><td style=\"vertical-align:top;\" width=\"150\"><a href=\"search/ガム\" style=\"color: white\">ガム</a></td><td style=\"vertical-align:top;\">[gamu, gamu] (n) <b>หมา</b>กฝรั่ง</td></tr><tr><td style=\"vertical-align:top;\" width=\"150\"><a href=\"search/電話番号\" style=\"color: white\">電話番号</a></td><td style=\"vertical-align:top;\">[でんわばんごう, denwabangou] <b>หมา</b>ยเลขโทรศัพท์</td></tr></table><h5>Japanese-Thai-English: Saikam Dictionary<h5><table cellpadding=\"0\" cellspacing=\"0\" class=\"search-result-table\" width=\"100%\"><tr><td style=\"vertical-align:top;\" width=\"150\"><a href=\"search/番号\" style=\"color: white\">番号</a></td><td>[ばんごう, bangou] <b>TH:</b> <b>หมา</b>ยเลข  <b>EN:</b> number</td></tr><tr><td style=\"vertical-align:top;\" width=\"150\"><a href=\"search/号\" style=\"color: white\">号</a></td><td>[ごう, gou] <b>TH:</b> <b>หมา</b>ยเลข  <b>EN:</b> number</td></tr><tr><td style=\"vertical-align:top;\" width=\"150\"><a href=\"search/お知らせ\" style=\"color: white\">お知らせ</a></td><td>[おしらせ, oshirase] <b>TH:</b> <b>หมา</b>ยประกาศ  <b>EN:</b> Notification</td></tr></table>"
      ],
      "text/plain": [
       "<IPython.core.display.HTML object>"
      ]
     },
     "metadata": {},
     "output_type": "display_data"
    }
   ],
   "source": [
    "lookup('หมา')"
   ]
  },
  {
   "cell_type": "code",
   "execution_count": 7,
   "id": "7686ece9-f9d8-498a-872d-fc158894314f",
   "metadata": {
    "tags": []
   },
   "outputs": [],
   "source": [
    "dic_url = 'https://dict.longdo.com/search/'"
   ]
  },
  {
   "cell_type": "code",
   "execution_count": 8,
   "id": "c4127119-e754-430d-a595-250fcdcaa385",
   "metadata": {
    "tags": []
   },
   "outputs": [
    {
     "data": {
      "text/plain": [
       "200"
      ]
     },
     "execution_count": 8,
     "metadata": {},
     "output_type": "execute_result"
    }
   ],
   "source": [
    "response = rq.get(dic_url + text)\n",
    "response.status_code"
   ]
  },
  {
   "cell_type": "code",
   "execution_count": 10,
   "id": "75094d27-5590-42a7-8481-987006e0efa1",
   "metadata": {
    "tags": []
   },
   "outputs": [
    {
     "data": {
      "text/plain": [
       "'ISO-8859-1'"
      ]
     },
     "execution_count": 10,
     "metadata": {},
     "output_type": "execute_result"
    }
   ],
   "source": [
    "response.encoding"
   ]
  },
  {
   "cell_type": "code",
   "execution_count": 11,
   "id": "b0833953-18f2-4362-aa48-7467c09c0bcb",
   "metadata": {
    "tags": []
   },
   "outputs": [],
   "source": [
    "response.encoding = 'utf-8'\n",
    "soup = bs(response.text)"
   ]
  },
  {
   "cell_type": "code",
   "execution_count": 14,
   "id": "9655d9cd-0654-4e0c-a814-7f735c33705d",
   "metadata": {
    "tags": []
   },
   "outputs": [
    {
     "data": {
      "text/plain": [
       "(7, 7)"
      ]
     },
     "execution_count": 14,
     "metadata": {},
     "output_type": "execute_result"
    }
   ],
   "source": [
    "headers = soup.find_all('td',  attrs={'class': 'search-table-header'})\n",
    "tables = soup.find_all('table', attrs={'class': 'search-result-table'})\n",
    "len(headers), len(tables) "
   ]
  },
  {
   "cell_type": "code",
   "execution_count": 125,
   "id": "bf0f6b16-ef8f-4aa6-93cb-e71edf66a4d8",
   "metadata": {},
   "outputs": [
    {
     "name": "stdout",
     "output_type": "stream",
     "text": [
      "ขนาบ\n",
      "\n",
      "Thai-English: NECTEC's Lexitron-2 Dictionary [with local updates]\n",
      "\n",
      "(v) brace, See also: press on two sides, sandwich, compress on two opposite sides, Syn. ประชิด, ประกบ, \n",
      "Example: ผมถูกขนาบอยู่ระหว่างคนอ้วนสองคน, \n",
      "Thai Definition: ประกบเข้าให้แน่น, ประชิดเข้าไปทั้ง 2 ข้าง, ติดชิดกันอยู่ทั้ง 2 ข้าง\n",
      "\n",
      "(v) castigate, See also: reprimand, blame, reprove, condemn, chastise, chasten, Syn. เล่นงาน, ดุ, ตำหนิ, ตักเตือน, ว่ากล่าว, กำราบ, \n",
      "Example: ผมจะขนาบเขาเอง\n",
      "\n",
      "\n",
      "ไทย-ไทย: พจนานุกรมฉบับราชบัณฑิตยสถาน พ.ศ. ๒๕๕๔\n",
      "\n",
      "(ขะหฺนาบ) ก. ประกบเข้าให้แน่น เช่น เอาไม้ขนาบทั้งข้างล่างข้างบนหรือขนาบข้างเป็นต้น, ประชิดเข้าไปทั้ง ๒ ข้าง เช่น กองทัพตีขนาบ, ติดชิดกันอยู่ทั้ง ๒ ข้าง เช่น ที่ดินขนาบคาบเกี่ยวกัน\n",
      "\n",
      "ดุดันเอา เช่น ถูกขนาบ\n",
      "\n",
      "โดยปริยายหมายความว่า เรื่อยมา, ตลอดมา, เช่น รับของถวายกันขนาบมา (ประพาสมลายู).\n",
      "\n",
      "\n",
      "Thai-English-French: Volubilis Dictionary 1.0\n",
      "\n",
      "[khanāp] (v) EN: brace ; press on two sides ; sandwich ; compress on two opposite sides\n",
      "\n",
      "[khanāp] (v) EN: castigate ; reprimand ; blame ; reprove ; condemn ; chastise ; chasten ; rebuke  FR: réprimander ; blâmer ; gronder ; sermonner ; houspiller ; admonester (litt.) ; gourmander (litt.) ; semoncer (litt.) ; tancer (litt.) ; morigéner (litt.)\n",
      "\n",
      "\n",
      "English-Thai: NECTEC's Lexitron-2 Dictionary [with local updates]\n",
      "\n",
      "flank\n",
      "\n",
      "(vt) ขนาบข้าง\n",
      "\n",
      "\n",
      "English-Thai: HOPE Dictionary [with local updates]\n",
      "\n",
      "strake\n",
      "\n",
      "(สเทรค) n. แผ่นไม้ขนาบลำเรือ ดาดฟ้า\n",
      "\n",
      "\n",
      "English-Thai: Nontri Dictionary\n",
      "\n",
      "flank\n",
      "\n",
      "(vt) โจมตีทางปีก, ขนาบข้าง, โอบปีก\n",
      "\n",
      "washboard\n",
      "\n",
      "(n) กระดานซักผ้า, อ่างล้างหน้า, ไม้ขนาบผนัง\n",
      "\n",
      "\n"
     ]
    }
   ],
   "source": [
    "print(text)\n",
    "print()\n",
    "for header, result in zip(headers, tables):\n",
    "    if 'Subtitles' not in header.text:\n",
    "        print(header.text)\n",
    "        print()\n",
    "        # print(result.text)\n",
    "        for cell in result.find_all('td'):\n",
    "            if cell.text != text:\n",
    "                print(cell.text.replace('Example:', '\\nExample:').replace('Thai Definition:', '\\nThai Definition:'))\n",
    "                print()\n",
    "        print()"
   ]
  },
  {
   "cell_type": "code",
   "execution_count": 54,
   "id": "bcc3d090-5a78-4af3-8704-bea79ea02bef",
   "metadata": {
    "collapsed": true,
    "jupyter": {
     "outputs_hidden": true
    },
    "tags": []
   },
   "outputs": [
    {
     "data": {
      "text/plain": [
       "'<table cellpadding=\"0\" cellspacing=\"0\" class=\"search-result-table\" width=\"100%\"><tr><td style=\"vertical-align:top;\" width=\"150\"><a href=\"search/ขนาบ\" style=\"color: black\"><b>ขนาบ</b></a></td><td style=\"vertical-align:top;\">(v) brace, <b>See also:</b> <a href=\"search/press on two sides\">press on two sides</a>, <a href=\"search/sandwich\">sandwich</a>, <a href=\"search/compress on two opposite sides\">compress on two opposite sides</a>, <b>Syn.</b> <a href=\"search/ประชิด\">ประชิด</a>, <a href=\"search/ประกบ\">ประกบ</a>, <b>Example:</b> ผมถูกขนาบอยู่ระหว่างคนอ้วนสองคน, <b>Thai Definition:</b> ประกบเข้าให้แน่น, ประชิดเข้าไปทั้ง 2 ข้าง, ติดชิดกันอยู่ทั้ง 2 ข้าง</td></tr><tr><td style=\"vertical-align:top;\" width=\"150\"><a href=\"search/ขนาบ\" style=\"color: black\"><b>ขนาบ</b></a></td><td style=\"vertical-align:top;\">(v) castigate, <b>See also:</b> <a href=\"search/reprimand\">reprimand</a>, <a href=\"search/blame\">blame</a>, <a href=\"search/reprove\">reprove</a>, <a href=\"search/condemn\">condemn</a>, <a href=\"search/chastise\">chastise</a>, <a href=\"search/chasten\">chasten</a>, <b>Syn.</b> <a href=\"search/เล่นงาน\">เล่นงาน</a>, <a href=\"search/ดุ\">ดุ</a>, <a href=\"search/ตำหนิ\">ตำหนิ</a>, <a href=\"search/ตักเตือน\">ตักเตือน</a>, <a href=\"search/ว่ากล่าว\">ว่ากล่าว</a>, <a href=\"search/กำราบ\">กำราบ</a>, <b>Example:</b> ผมจะขนาบเขาเอง</td></tr></table><table cellpadding=\"0\" cellspacing=\"0\" class=\"search-result-table\" width=\"100%\"><tr><td style=\"vertical-align:top;\" width=\"150\"><a href=\"search/ขนาบ\" style=\"color: black\"><b>ขนาบ</b></a></td><td style=\"vertical-align:top;\">(ขะหฺนาบ) ก. ประกบเข้าให้แน่น เช่น เอาไม้<b>ขนาบ</b>ทั้งข้างล่างข้างบนหรือ<b>ขนาบ</b>ข้างเป็นต้น, ประชิดเข้าไปทั้ง ๒ ข้าง เช่น กองทัพตี<b>ขนาบ</b>, ติดชิดกันอยู่ทั้ง ๒ ข้าง เช่น ที่ดิน<b>ขนาบ</b>คาบเกี่ยวกัน</td></tr><tr><td style=\"vertical-align:top;\" width=\"150\"><a href=\"search/ขนาบ\" style=\"color: black\"><b>ขนาบ</b></a></td><td style=\"vertical-align:top;\">ดุดันเอา เช่น ถูก<b>ขนาบ</b></td></tr><tr><td style=\"vertical-align:top;\" width=\"150\"><a href=\"search/ขนาบ\" style=\"color: black\"><b>ขนาบ</b></a></td><td style=\"vertical-align:top;\">โดยปริยายหมายความว่า เรื่อยมา, ตลอดมา, เช่น รับของถวายกัน<b>ขนาบ</b>มา (ประพาสมลายู).</td></tr></table><table cellpadding=\"0\" cellspacing=\"0\" class=\"search-result-table\" width=\"100%\"><tr><td bgcolor=\"#ddf7fc\" class=\"tanaka-search-row\" width=\"40%\"><a href=\"?page=popthai&amp;search=Put+your+hands+on+both+sides+of+it.\" target=\"_new\"><font color=\"black\">Put your hands on both sides of it.</font></a></td><td bgcolor=\"#ddf7fc\" class=\"tanaka-search-row\"><a href=\"?page=popthai&amp;search=%E0%B9%80%E0%B8%AD%E0%B8%B2%E0%B8%A1%E0%B8%B7%E0%B8%AD%E0%B8%A7%E0%B8%B2%E0%B8%87%E0%B8%82%E0%B8%99%E0%B8%B2%E0%B8%9A%E0%B8%8B%E0%B8%B4\" target=\"_new\"><font color=\"black\">เอามือวาง<b>ขนาบ</b>ซิ</font></a> <a href=\"https://www.imdb.com/title/tt0071230\" target=\"_new\"><i><font color=\"#999\" size=\"-1\">Blazing Saddles (1974)</font></i></a></td></tr><tr><td bgcolor=\"#ddf7fc\" class=\"tanaka-search-row\" width=\"40%\"><a href=\"?page=popthai&amp;search=Every+time+Anton+tried+to+pull+away+he+found+me+right+beside+him.\" target=\"_new\"><font color=\"black\">Every time Anton tried to pull away he found me right beside him.</font></a></td><td bgcolor=\"#ddf7fc\" class=\"tanaka-search-row\"><a href=\"?page=popthai&amp;search=%E0%B8%81%E0%B9%87%E0%B9%80%E0%B8%88%E0%B8%AD%E0%B8%9C%E0%B8%A1%E0%B8%82%E0%B8%99%E0%B8%B2%E0%B8%9A%E0%B8%82%E0%B9%89%E0%B8%B2%E0%B8%87%E0%B8%AD%E0%B8%A2%E0%B8%B9%E0%B9%88%E0%B8%97%E0%B8%B8%E0%B8%81%E0%B8%84%E0%B8%A3%E0%B8%B1%E0%B9%89%E0%B8%87\" target=\"_new\"><font color=\"black\">ก็เจอผม<b>ขนาบ</b>ข้างอยู่ทุกครั้ง</font></a> <a href=\"https://www.imdb.com/title/tt0119177\" target=\"_new\"><i><font color=\"#999\" size=\"-1\">Gattaca (1997)</font></i></a></td></tr><tr><td bgcolor=\"#ddf7fc\" class=\"tanaka-search-row\" width=\"40%\"><a href=\"?page=popthai&amp;search=ELYSE%3A+Left+flank+hut.\" target=\"_new\"><font color=\"black\">ELYSE: Left flank hut.</font></a></td><td bgcolor=\"#ddf7fc\" class=\"tanaka-search-row\"><a href=\"?page=popthai&amp;search=%E0%B8%82%E0%B8%99%E0%B8%B2%E0%B8%9A%E0%B8%82%E0%B9%89%E0%B8%B2%E0%B8%87%E0%B8%8B%E0%B9%89%E0%B8%B2%E0%B8%A2\" target=\"_new\"><font color=\"black\"><b>ขนาบ</b>ข้างซ้าย</font></a> <a href=\"https://www.imdb.com/title/tt0436058\" target=\"_new\"><i><font color=\"#999\" size=\"-1\">American Pie Presents: Band Camp (2005)</font></i></a></td></tr><tr><td bgcolor=\"#ddf7fc\" class=\"tanaka-search-row\" width=\"40%\"><a href=\"?page=popthai&amp;search=They+are+making+a+two-pronged+attack.\" target=\"_new\"><font color=\"black\">They are making a two-pronged attack.</font></a></td><td bgcolor=\"#ddf7fc\" class=\"tanaka-search-row\"><a href=\"?page=popthai&amp;search=%E0%B8%9E%E0%B8%A7%E0%B8%81%E0%B8%A1%E0%B8%B1%E0%B8%99%E0%B8%81%E0%B8%B3%E0%B8%A5%E0%B8%B1%E0%B8%87%E0%B8%95%E0%B8%B5%E0%B8%82%E0%B8%99%E0%B8%B2%E0%B8%9A+2+%E0%B8%94%E0%B9%89%E0%B8%B2%E0%B8%99%E0%B8%9E%E0%B8%A3%E0%B9%89%E0%B8%AD%E0%B8%A1%E0%B8%81%E0%B8%B1%E0%B8%99\" target=\"_new\"><font color=\"black\">พวกมันกำลังตี<b>ขนาบ</b> 2 ด้านพร้อมกัน</font></a> <a href=\"https://www.imdb.com/title/tt0498380\" target=\"_new\"><i><font color=\"#999\" size=\"-1\">Letters from Iwo Jima (2006)</font></i></a></td></tr><tr><td bgcolor=\"#ddf7fc\" class=\"tanaka-search-row\" width=\"40%\"><a href=\"?page=popthai&amp;search=Now+you+want+to+take+the+inside+edge+off+the+ground+with+your+ankles%2C+like+this.\" target=\"_new\"><font color=\"black\">Now you want to take the inside edge off the ground with your ankles, like this.</font></a></td><td bgcolor=\"#ddf7fc\" class=\"tanaka-search-row\"><a href=\"?page=popthai&amp;search=%E0%B8%97%E0%B8%B5%E0%B9%88%E0%B8%99%E0%B8%B5%E0%B9%88+%E0%B9%80%E0%B8%AD%E0%B8%B2%E0%B8%94%E0%B9%89%E0%B8%B2%E0%B8%99%E0%B8%97%E0%B8%B5%E0%B9%88%E0%B8%AD%E0%B8%A2%E0%B8%B9%E0%B9%88%E0%B8%82%E0%B9%89%E0%B8%B2%E0%B8%87%E0%B9%83%E0%B8%99%E0%B8%82%E0%B8%99%E0%B8%B2%E0%B8%9A%E0%B8%81%E0%B8%A5%E0%B8%AD%E0%B8%87%E0%B9%84%E0%B8%A7%E0%B9%89+%E0%B9%83%E0%B8%8A%E0%B9%89%E0%B8%82%E0%B9%89%E0%B8%AD%E0%B9%80%E0%B8%82%E0%B9%88%E0%B8%B2%E0%B9%81%E0%B8%9A%E0%B8%9A%E0%B8%99%E0%B8%B5%E0%B9%89.\" target=\"_new\"><font color=\"black\">ที่นี่ เอาด้านที่อยู่ข้างใน<b>ขนาบ</b>กลองไว้ ใช้ข้อเข่าแบบนี้.</font></a> <a href=\"https://www.imdb.com/title/tt0857191\" target=\"_new\"><i><font color=\"#999\" size=\"-1\">The Visitor (2007)</font></i></a></td></tr><tr><td bgcolor=\"#ddf7fc\" class=\"tanaka-search-row\" width=\"40%\"><a href=\"?page=popthai&amp;search=Flank+right.\" target=\"_new\"><font color=\"black\">Flank right.</font></a></td><td bgcolor=\"#ddf7fc\" class=\"tanaka-search-row\"><a href=\"?page=popthai&amp;search=%E0%B8%A5%E0%B9%89%E0%B8%AD%E0%B8%A1%E0%B8%81%E0%B8%A3%E0%B8%AD%E0%B8%9A%E0%B8%97%E0%B8%B2%E0%B8%87%E0%B8%8B%E0%B9%89%E0%B8%B2%E0%B8%A2%E0%B9%84%E0%B8%A7%E0%B9%89+%E0%B8%82%E0%B8%99%E0%B8%B2%E0%B8%9A%E0%B9%84%E0%B8%9B%E0%B8%97%E0%B8%B2%E0%B8%87%E0%B8%82%E0%B8%A7%E0%B8%B2\" target=\"_new\"><font color=\"black\">ล้อมกรอบทางซ้ายไว้ <b>ขนาบ</b>ไปทางขวา</font></a> <a href=\"https://www.imdb.com/title/tt1248549\" target=\"_new\"><i><font color=\"#999\" size=\"-1\">The Dreamscape (2008)</font></i></a></td></tr><tr><td bgcolor=\"#ddf7fc\" class=\"tanaka-search-row\" width=\"40%\"><a href=\"?page=popthai&amp;search=He+was+a+little+black+dog+with+long+silky+hair+and+small+black+eyes+that+twinkled+merrily+on+either+side+of+his+funny+wee+nose.%22\" target=\"_new\"><font color=\"black\">He was a little black dog with long silky hair and small black eyes that twinkled merrily on either side of his funny wee nose.\"</font></a></td><td bgcolor=\"#ddf7fc\" class=\"tanaka-search-row\"><a href=\"?page=popthai&amp;search=%E0%B8%A1%E0%B8%B1%E0%B8%99%E0%B9%80%E0%B8%9B%E0%B9%87%E0%B8%99%E0%B8%A5%E0%B8%B9%E0%B8%81%E0%B8%AA%E0%B8%B8%E0%B8%99%E0%B8%B1%E0%B8%82%E0%B8%95%E0%B8%B1%E0%B8%A7%E0%B9%80%E0%B8%A5%E0%B9%87%E0%B8%81%E0%B9%86+%E0%B8%97%E0%B8%B5%E0%B9%88%E0%B8%A1%E0%B8%B5%E0%B8%82%E0%B8%99%E0%B8%A2%E0%B8%B2%E0%B8%A7%E0%B8%AD%E0%B9%88%E0%B8%AD%E0%B8%99%E0%B8%99%E0%B8%B8%E0%B9%88%E0%B8%A1%E0%B8%AA%E0%B8%B5%E0%B8%94%E0%B8%B3+%E0%B8%94%E0%B8%A7%E0%B8%87%E0%B8%95%E0%B8%B2%E0%B8%AA%E0%B8%B5%E0%B8%94%E0%B8%B3%E0%B9%80%E0%B8%A5%E0%B9%87%E0%B8%81%E0%B9%86+%E0%B8%97%E0%B8%B5%E0%B9%88%E0%B8%A1%E0%B8%B5%E0%B8%9B%E0%B8%A3%E0%B8%B0%E0%B8%81%E0%B8%B2%E0%B8%A2%E0%B9%81%E0%B8%AB%E0%B9%88%E0%B8%87%E0%B8%84%E0%B8%A7%E0%B8%B2%E0%B8%A1%E0%B8%AA%E0%B8%B8%E0%B8%82%E0%B8%99%E0%B8%B1%E0%B9%89%E0%B8%99...+%E0%B8%82%E0%B8%99%E0%B8%B2%E0%B8%9A%E0%B8%AD%E0%B8%A2%E0%B8%B9%E0%B9%88%E0%B8%82%E0%B9%89%E0%B8%B2%E0%B8%87%E0%B8%88%E0%B8%A1%E0%B8%B9%E0%B8%81%E0%B9%80%E0%B8%A5%E0%B9%87%E0%B8%81%E0%B9%86+%E0%B8%99%E0%B9%88%E0%B8%B2%E0%B8%A3%E0%B8%B1%E0%B8%81%E0%B8%82%E0%B8%AD%E0%B8%87%E0%B8%A1%E0%B8%B1%E0%B8%99%22\" target=\"_new\"><font color=\"black\">มันเป็นลูกสุนัขตัวเล็กๆ ที่มีขนยาวอ่อนนุ่มสีดำ ดวงตาสีดำเล็กๆ ที่มีประกายแห่งความสุขนั้น... <b>ขนาบ</b>อยู่ข้างจมูกเล็กๆ น่ารักของมัน\"</font></a> <a href=\"https://www.imdb.com/title/tt0494238\" target=\"_new\"><i><font color=\"#999\" size=\"-1\">Inkheart (2008)</font></i></a></td></tr><tr><td bgcolor=\"#ddf7fc\" class=\"tanaka-search-row\" width=\"40%\"><a href=\"?page=popthai&amp;search=Baum%2C+you+drive+around+the+woods.+You+flank+him%21\" target=\"_new\"><font color=\"black\">Baum, you drive around the woods. You flank him!</font></a></td><td bgcolor=\"#ddf7fc\" class=\"tanaka-search-row\"><a href=\"?page=popthai&amp;search=%E0%B8%9A%E0%B8%B2%E0%B8%A1%E0%B8%AA%E0%B9%8C+%E0%B8%99%E0%B8%B2%E0%B8%A2%E0%B8%82%E0%B8%B1%E0%B8%9A%E0%B8%AD%E0%B9%89%E0%B8%AD%E0%B8%A1%E0%B9%84%E0%B8%9B%E0%B8%82%E0%B8%99%E0%B8%B2%E0%B8%9A%E0%B8%9E%E0%B8%A7%E0%B8%81%E0%B8%A1%E0%B8%B1%E0%B8%99%E0%B9%80%E0%B8%AD%E0%B8%B2%E0%B9%84%E0%B8%A7%E0%B9%89\" target=\"_new\"><font color=\"black\">บามส์ นายขับอ้อมไป<b>ขนาบ</b>พวกมันเอาไว้</font></a> <a href=\"https://www.imdb.com/title/tt1152836\" target=\"_new\"><i><font color=\"#999\" size=\"-1\">Public Enemies (2009)</font></i></a></td></tr><tr><td bgcolor=\"#ddf7fc\" class=\"tanaka-search-row\" width=\"40%\"><a href=\"?page=popthai&amp;search=Commander%2C+on+your+order.+Commence+flanking+manoeuvre.\" target=\"_new\"><font color=\"black\">Commander, on your order. Commence flanking manoeuvre.</font></a></td><td bgcolor=\"#ddf7fc\" class=\"tanaka-search-row\"><a href=\"?page=popthai&amp;search=%E0%B8%97%E0%B9%88%E0%B8%B2%E0%B8%99%E0%B8%9C%E0%B8%B9%E0%B9%89%E0%B8%9A%E0%B8%B1%E0%B8%8D%E0%B8%8A%E0%B8%B2%E0%B8%81%E0%B8%B2%E0%B8%A3+%E0%B9%80%E0%B8%A3%E0%B8%B4%E0%B9%88%E0%B8%A1%E0%B8%95%E0%B9%89%E0%B8%99%E0%B9%81%E0%B8%9C%E0%B8%99%E0%B8%81%E0%B8%B2%E0%B8%A3%E0%B8%82%E0%B8%99%E0%B8%B2%E0%B8%9A%E0%B9%82%E0%B8%88%E0%B8%A1%E0%B8%95%E0%B8%B5%E0%B9%84%E0%B8%94%E0%B9%89%E0%B9%80%E0%B8%A5%E0%B8%A2\" target=\"_new\"><font color=\"black\">ท่านผู้บัญชาการ เริ่มต้นแผนการ<b>ขนาบ</b>โจมตีได้เลย</font></a> <a href=\"https://www.imdb.com/title/tt1380664\" target=\"_new\"><i><font color=\"#999\" size=\"-1\">Storm Over Ryloth (2009)</font></i></a></td></tr><tr><td bgcolor=\"#ddf7fc\" class=\"tanaka-search-row\" width=\"40%\"><a href=\"?page=popthai&amp;search=Where+exactly+in+the+interaction+did+the+sucking+lie%3F\" target=\"_new\"><font color=\"black\">Where exactly in the interaction did the sucking lie?</font></a></td><td bgcolor=\"#ddf7fc\" class=\"tanaka-search-row\"><a href=\"?page=popthai&amp;search=The+Cornhusker+Vortex+%E0%B9%82%E0%B8%A7%E0%B9%82%E0%B8%A5%E0%B8%A7%E0%B8%B4%E0%B8%97%E0%B8%8B%E0%B9%8C%E0%B8%9E%E0%B8%A2%E0%B8%B2%E0%B8%A2%E0%B8%B2%E0%B8%A1%E0%B8%95%E0%B8%B5%E0%B8%82%E0%B8%99%E0%B8%B2%E0%B8%9A%E0%B9%80%E0%B8%A3%E0%B8%B2\" target=\"_new\"><font color=\"black\">The Cornhusker Vortex โวโลวิทซ์พยายามตี<b>ขนาบ</b>เรา</font></a> <a href=\"https://www.imdb.com/title/tt1523180\" target=\"_new\"><i><font color=\"#999\" size=\"-1\">The Cornhusker Vortex (2009)</font></i></a></td></tr><tr><td bgcolor=\"#ddf7fc\" class=\"tanaka-search-row\" width=\"40%\"><a href=\"?page=popthai&amp;search=They%27re+playing+right+into+our+hands.\" target=\"_new\"><font color=\"black\">They\\'re playing right into our hands.</font></a></td><td bgcolor=\"#ddf7fc\" class=\"tanaka-search-row\"><a href=\"?page=popthai&amp;search=%E0%B8%9E%E0%B8%A7%E0%B8%81%E0%B9%80%E0%B8%82%E0%B8%B2%E0%B8%84%E0%B8%B4%E0%B8%94%E0%B8%A7%E0%B9%88%E0%B8%B2%E0%B8%95%E0%B8%B5%E0%B8%82%E0%B8%99%E0%B8%B2%E0%B8%9A%E0%B9%80%E0%B8%A3%E0%B8%B2%E0%B9%84%E0%B8%94%E0%B9%89+%E0%B9%82%E0%B8%94%E0%B8%99%E0%B8%AB%E0%B8%A5%E0%B8%AD%E0%B8%81%E0%B8%A1%E0%B8%B2%E0%B8%95%E0%B8%B4%E0%B8%94%E0%B8%81%E0%B8%B1%E0%B8%9A%E0%B9%80%E0%B8%A3%E0%B8%B2%E0%B8%95%E0%B9%88%E0%B8%B2%E0%B8%87%E0%B8%AB%E0%B8%B2%E0%B8%81\" target=\"_new\"><font color=\"black\">พวกเขาคิดว่าตี<b>ขนาบ</b>เราได้ โดนหลอกมาติดกับเราต่างหาก</font></a> <a href=\"https://www.imdb.com/title/tt1523180\" target=\"_new\"><i><font color=\"#999\" size=\"-1\">The Cornhusker Vortex (2009)</font></i></a></td></tr><tr><td bgcolor=\"#ddf7fc\" class=\"tanaka-search-row\" width=\"40%\"><a href=\"?page=popthai&amp;search=Bothos%2C+they%27re+flanking+us.+West+wall%21\" target=\"_new\"><font color=\"black\">Bothos, they\\'re flanking us. West wall!</font></a></td><td bgcolor=\"#ddf7fc\" class=\"tanaka-search-row\"><a href=\"?page=popthai&amp;search=%E0%B9%82%E0%B8%9A%E0%B8%97%E0%B8%AD%E0%B8%AA+%E0%B8%9E%E0%B8%A7%E0%B8%81%E0%B8%A1%E0%B8%B1%E0%B8%99%E0%B8%95%E0%B8%B5%E0%B8%82%E0%B8%99%E0%B8%B2%E0%B8%9A%E0%B8%82%E0%B9%89%E0%B8%B2%E0%B8%87%E0%B9%80%E0%B8%A3%E0%B8%B2+%E0%B8%81%E0%B8%B3%E0%B9%81%E0%B8%9E%E0%B8%87%E0%B8%94%E0%B9%89%E0%B8%B2%E0%B8%99%E0%B8%95%E0%B8%B0%E0%B8%A7%E0%B8%B1%E0%B8%99%E0%B8%95%E0%B8%81\" target=\"_new\"><font color=\"black\">โบทอส พวกมันตี<b>ขนาบ</b>ข้างเรา กำแพงด้านตะวันตก</font></a> <a href=\"https://www.imdb.com/title/tt1020558\" target=\"_new\"><i><font color=\"#999\" size=\"-1\">Centurion (2010)</font></i></a></td></tr></table><table cellpadding=\"0\" cellspacing=\"0\" class=\"search-result-table\" width=\"100%\"><tr><td style=\"vertical-align:top;\" width=\"150\"><a href=\"search/ขนาบ\" style=\"color: black\"><b>ขนาบ</b></a></td><td>[khanāp] (v) <b>EN:</b> brace ; press on two sides ; sandwich ; compress on two opposite sides</td></tr><tr><td style=\"vertical-align:top;\" width=\"150\"><a href=\"search/ขนาบ\" style=\"color: black\"><b>ขนาบ</b></a></td><td>[khanāp] (v) <b>EN:</b> castigate ; reprimand ; blame ; reprove ; condemn ; chastise ; chasten ; rebuke\\xa0\\xa0<b>FR:</b> réprimander ; blâmer ; gronder ; sermonner ; houspiller ; admonester (litt.) ; gourmander (litt.) ; semoncer (litt.) ; tancer (litt.) ; morigéner (litt.)</td></tr></table><table cellpadding=\"0\" cellspacing=\"0\" class=\"search-result-table\" width=\"100%\"><tr><td style=\"vertical-align:top;\" width=\"150\"><a href=\"search/flank\" style=\"color: black\">flank</a></td><td style=\"vertical-align:top;\">(vt) <b>ขนาบ</b>ข้าง</td></tr></table><table cellpadding=\"0\" cellspacing=\"0\" class=\"search-result-table\" width=\"100%\"><tr><td style=\"vertical-align:top;\" width=\"150\"><a href=\"search/strake\" style=\"color: black\">strake</a></td><td style=\"vertical-align:top;\">(สเทรค) n. แผ่นไม้<b>ขนาบ</b>ลำเรือ ดาดฟ้า</td></tr></table><table cellpadding=\"0\" cellspacing=\"0\" class=\"search-result-table\" width=\"100%\"><tr><td style=\"vertical-align:top;\" width=\"150\"><a href=\"search/flank\" style=\"color: black\">flank</a></td><td style=\"vertical-align:top;\">(vt) โจมตีทางปีก, <b>ขนาบ</b>ข้าง, โอบปีก</td></tr><tr><td style=\"vertical-align:top;\" width=\"150\"><a href=\"search/washboard\" style=\"color: black\">washboard</a></td><td style=\"vertical-align:top;\">(n) กระดานซักผ้า, อ่างล้างหน้า, ไม้<b>ขนาบ</b>ผนัง</td></tr></table>'"
      ]
     },
     "execution_count": 54,
     "metadata": {},
     "output_type": "execute_result"
    }
   ],
   "source": [
    "html = ''.join(str(table) for table in tables)\n",
    "html"
   ]
  },
  {
   "cell_type": "code",
   "execution_count": 58,
   "id": "780d62a5-e07a-4085-b04c-25fe301438e8",
   "metadata": {
    "collapsed": true,
    "jupyter": {
     "outputs_hidden": true
    },
    "tags": []
   },
   "outputs": [
    {
     "data": {
      "text/html": [
       "<table cellpadding=\"0\" cellspacing=\"0\" class=\"search-result-table\" width=\"100%\"><tr><td style=\"vertical-align:top;\" width=\"150\"><a href=\"search/ขนาบ\" style=\"color: white\"><b>ขนาบ</b></a></td><td style=\"vertical-align:top;\">(v) brace, <b>See also:</b> <a href=\"search/press on two sides\">press on two sides</a>, <a href=\"search/sandwich\">sandwich</a>, <a href=\"search/compress on two opposite sides\">compress on two opposite sides</a>, <b>Syn.</b> <a href=\"search/ประชิด\">ประชิด</a>, <a href=\"search/ประกบ\">ประกบ</a>, <b>Example:</b> ผมถูกขนาบอยู่ระหว่างคนอ้วนสองคน, <b>Thai Definition:</b> ประกบเข้าให้แน่น, ประชิดเข้าไปทั้ง 2 ข้าง, ติดชิดกันอยู่ทั้ง 2 ข้าง</td></tr><tr><td style=\"vertical-align:top;\" width=\"150\"><a href=\"search/ขนาบ\" style=\"color: white\"><b>ขนาบ</b></a></td><td style=\"vertical-align:top;\">(v) castigate, <b>See also:</b> <a href=\"search/reprimand\">reprimand</a>, <a href=\"search/blame\">blame</a>, <a href=\"search/reprove\">reprove</a>, <a href=\"search/condemn\">condemn</a>, <a href=\"search/chastise\">chastise</a>, <a href=\"search/chasten\">chasten</a>, <b>Syn.</b> <a href=\"search/เล่นงาน\">เล่นงาน</a>, <a href=\"search/ดุ\">ดุ</a>, <a href=\"search/ตำหนิ\">ตำหนิ</a>, <a href=\"search/ตักเตือน\">ตักเตือน</a>, <a href=\"search/ว่ากล่าว\">ว่ากล่าว</a>, <a href=\"search/กำราบ\">กำราบ</a>, <b>Example:</b> ผมจะขนาบเขาเอง</td></tr></table><table cellpadding=\"0\" cellspacing=\"0\" class=\"search-result-table\" width=\"100%\"><tr><td style=\"vertical-align:top;\" width=\"150\"><a href=\"search/ขนาบ\" style=\"color: white\"><b>ขนาบ</b></a></td><td style=\"vertical-align:top;\">(ขะหฺนาบ) ก. ประกบเข้าให้แน่น เช่น เอาไม้<b>ขนาบ</b>ทั้งข้างล่างข้างบนหรือ<b>ขนาบ</b>ข้างเป็นต้น, ประชิดเข้าไปทั้ง ๒ ข้าง เช่น กองทัพตี<b>ขนาบ</b>, ติดชิดกันอยู่ทั้ง ๒ ข้าง เช่น ที่ดิน<b>ขนาบ</b>คาบเกี่ยวกัน</td></tr><tr><td style=\"vertical-align:top;\" width=\"150\"><a href=\"search/ขนาบ\" style=\"color: white\"><b>ขนาบ</b></a></td><td style=\"vertical-align:top;\">ดุดันเอา เช่น ถูก<b>ขนาบ</b></td></tr><tr><td style=\"vertical-align:top;\" width=\"150\"><a href=\"search/ขนาบ\" style=\"color: white\"><b>ขนาบ</b></a></td><td style=\"vertical-align:top;\">โดยปริยายหมายความว่า เรื่อยมา, ตลอดมา, เช่น รับของถวายกัน<b>ขนาบ</b>มา (ประพาสมลายู).</td></tr></table><table cellpadding=\"0\" cellspacing=\"0\" class=\"search-result-table\" width=\"100%\"><tr><td class=\"tanaka-search-row\" width=\"40%\"><a href=\"?page=popthai&amp;search=Put+your+hands+on+both+sides+of+it.\" target=\"_new\"><font color=\"white\">Put your hands on both sides of it.</font></a></td><td class=\"tanaka-search-row\"><a href=\"?page=popthai&amp;search=%E0%B9%80%E0%B8%AD%E0%B8%B2%E0%B8%A1%E0%B8%B7%E0%B8%AD%E0%B8%A7%E0%B8%B2%E0%B8%87%E0%B8%82%E0%B8%99%E0%B8%B2%E0%B8%9A%E0%B8%8B%E0%B8%B4\" target=\"_new\"><font color=\"white\">เอามือวาง<b>ขนาบ</b>ซิ</font></a> <a href=\"https://www.imdb.com/title/tt0071230\" target=\"_new\"><i><font color=\"#999\" size=\"-1\">Blazing Saddles (1974)</font></i></a></td></tr><tr><td class=\"tanaka-search-row\" width=\"40%\"><a href=\"?page=popthai&amp;search=Every+time+Anton+tried+to+pull+away+he+found+me+right+beside+him.\" target=\"_new\"><font color=\"white\">Every time Anton tried to pull away he found me right beside him.</font></a></td><td class=\"tanaka-search-row\"><a href=\"?page=popthai&amp;search=%E0%B8%81%E0%B9%87%E0%B9%80%E0%B8%88%E0%B8%AD%E0%B8%9C%E0%B8%A1%E0%B8%82%E0%B8%99%E0%B8%B2%E0%B8%9A%E0%B8%82%E0%B9%89%E0%B8%B2%E0%B8%87%E0%B8%AD%E0%B8%A2%E0%B8%B9%E0%B9%88%E0%B8%97%E0%B8%B8%E0%B8%81%E0%B8%84%E0%B8%A3%E0%B8%B1%E0%B9%89%E0%B8%87\" target=\"_new\"><font color=\"white\">ก็เจอผม<b>ขนาบ</b>ข้างอยู่ทุกครั้ง</font></a> <a href=\"https://www.imdb.com/title/tt0119177\" target=\"_new\"><i><font color=\"#999\" size=\"-1\">Gattaca (1997)</font></i></a></td></tr><tr><td class=\"tanaka-search-row\" width=\"40%\"><a href=\"?page=popthai&amp;search=ELYSE%3A+Left+flank+hut.\" target=\"_new\"><font color=\"white\">ELYSE: Left flank hut.</font></a></td><td class=\"tanaka-search-row\"><a href=\"?page=popthai&amp;search=%E0%B8%82%E0%B8%99%E0%B8%B2%E0%B8%9A%E0%B8%82%E0%B9%89%E0%B8%B2%E0%B8%87%E0%B8%8B%E0%B9%89%E0%B8%B2%E0%B8%A2\" target=\"_new\"><font color=\"white\"><b>ขนาบ</b>ข้างซ้าย</font></a> <a href=\"https://www.imdb.com/title/tt0436058\" target=\"_new\"><i><font color=\"#999\" size=\"-1\">American Pie Presents: Band Camp (2005)</font></i></a></td></tr><tr><td class=\"tanaka-search-row\" width=\"40%\"><a href=\"?page=popthai&amp;search=They+are+making+a+two-pronged+attack.\" target=\"_new\"><font color=\"white\">They are making a two-pronged attack.</font></a></td><td class=\"tanaka-search-row\"><a href=\"?page=popthai&amp;search=%E0%B8%9E%E0%B8%A7%E0%B8%81%E0%B8%A1%E0%B8%B1%E0%B8%99%E0%B8%81%E0%B8%B3%E0%B8%A5%E0%B8%B1%E0%B8%87%E0%B8%95%E0%B8%B5%E0%B8%82%E0%B8%99%E0%B8%B2%E0%B8%9A+2+%E0%B8%94%E0%B9%89%E0%B8%B2%E0%B8%99%E0%B8%9E%E0%B8%A3%E0%B9%89%E0%B8%AD%E0%B8%A1%E0%B8%81%E0%B8%B1%E0%B8%99\" target=\"_new\"><font color=\"white\">พวกมันกำลังตี<b>ขนาบ</b> 2 ด้านพร้อมกัน</font></a> <a href=\"https://www.imdb.com/title/tt0498380\" target=\"_new\"><i><font color=\"#999\" size=\"-1\">Letters from Iwo Jima (2006)</font></i></a></td></tr><tr><td class=\"tanaka-search-row\" width=\"40%\"><a href=\"?page=popthai&amp;search=Now+you+want+to+take+the+inside+edge+off+the+ground+with+your+ankles%2C+like+this.\" target=\"_new\"><font color=\"white\">Now you want to take the inside edge off the ground with your ankles, like this.</font></a></td><td class=\"tanaka-search-row\"><a href=\"?page=popthai&amp;search=%E0%B8%97%E0%B8%B5%E0%B9%88%E0%B8%99%E0%B8%B5%E0%B9%88+%E0%B9%80%E0%B8%AD%E0%B8%B2%E0%B8%94%E0%B9%89%E0%B8%B2%E0%B8%99%E0%B8%97%E0%B8%B5%E0%B9%88%E0%B8%AD%E0%B8%A2%E0%B8%B9%E0%B9%88%E0%B8%82%E0%B9%89%E0%B8%B2%E0%B8%87%E0%B9%83%E0%B8%99%E0%B8%82%E0%B8%99%E0%B8%B2%E0%B8%9A%E0%B8%81%E0%B8%A5%E0%B8%AD%E0%B8%87%E0%B9%84%E0%B8%A7%E0%B9%89+%E0%B9%83%E0%B8%8A%E0%B9%89%E0%B8%82%E0%B9%89%E0%B8%AD%E0%B9%80%E0%B8%82%E0%B9%88%E0%B8%B2%E0%B9%81%E0%B8%9A%E0%B8%9A%E0%B8%99%E0%B8%B5%E0%B9%89.\" target=\"_new\"><font color=\"white\">ที่นี่ เอาด้านที่อยู่ข้างใน<b>ขนาบ</b>กลองไว้ ใช้ข้อเข่าแบบนี้.</font></a> <a href=\"https://www.imdb.com/title/tt0857191\" target=\"_new\"><i><font color=\"#999\" size=\"-1\">The Visitor (2007)</font></i></a></td></tr><tr><td class=\"tanaka-search-row\" width=\"40%\"><a href=\"?page=popthai&amp;search=Flank+right.\" target=\"_new\"><font color=\"white\">Flank right.</font></a></td><td class=\"tanaka-search-row\"><a href=\"?page=popthai&amp;search=%E0%B8%A5%E0%B9%89%E0%B8%AD%E0%B8%A1%E0%B8%81%E0%B8%A3%E0%B8%AD%E0%B8%9A%E0%B8%97%E0%B8%B2%E0%B8%87%E0%B8%8B%E0%B9%89%E0%B8%B2%E0%B8%A2%E0%B9%84%E0%B8%A7%E0%B9%89+%E0%B8%82%E0%B8%99%E0%B8%B2%E0%B8%9A%E0%B9%84%E0%B8%9B%E0%B8%97%E0%B8%B2%E0%B8%87%E0%B8%82%E0%B8%A7%E0%B8%B2\" target=\"_new\"><font color=\"white\">ล้อมกรอบทางซ้ายไว้ <b>ขนาบ</b>ไปทางขวา</font></a> <a href=\"https://www.imdb.com/title/tt1248549\" target=\"_new\"><i><font color=\"#999\" size=\"-1\">The Dreamscape (2008)</font></i></a></td></tr><tr><td class=\"tanaka-search-row\" width=\"40%\"><a href=\"?page=popthai&amp;search=He+was+a+little+white+dog+with+long+silky+hair+and+small+white+eyes+that+twinkled+merrily+on+either+side+of+his+funny+wee+nose.%22\" target=\"_new\"><font color=\"white\">He was a little white dog with long silky hair and small white eyes that twinkled merrily on either side of his funny wee nose.\"</font></a></td><td class=\"tanaka-search-row\"><a href=\"?page=popthai&amp;search=%E0%B8%A1%E0%B8%B1%E0%B8%99%E0%B9%80%E0%B8%9B%E0%B9%87%E0%B8%99%E0%B8%A5%E0%B8%B9%E0%B8%81%E0%B8%AA%E0%B8%B8%E0%B8%99%E0%B8%B1%E0%B8%82%E0%B8%95%E0%B8%B1%E0%B8%A7%E0%B9%80%E0%B8%A5%E0%B9%87%E0%B8%81%E0%B9%86+%E0%B8%97%E0%B8%B5%E0%B9%88%E0%B8%A1%E0%B8%B5%E0%B8%82%E0%B8%99%E0%B8%A2%E0%B8%B2%E0%B8%A7%E0%B8%AD%E0%B9%88%E0%B8%AD%E0%B8%99%E0%B8%99%E0%B8%B8%E0%B9%88%E0%B8%A1%E0%B8%AA%E0%B8%B5%E0%B8%94%E0%B8%B3+%E0%B8%94%E0%B8%A7%E0%B8%87%E0%B8%95%E0%B8%B2%E0%B8%AA%E0%B8%B5%E0%B8%94%E0%B8%B3%E0%B9%80%E0%B8%A5%E0%B9%87%E0%B8%81%E0%B9%86+%E0%B8%97%E0%B8%B5%E0%B9%88%E0%B8%A1%E0%B8%B5%E0%B8%9B%E0%B8%A3%E0%B8%B0%E0%B8%81%E0%B8%B2%E0%B8%A2%E0%B9%81%E0%B8%AB%E0%B9%88%E0%B8%87%E0%B8%84%E0%B8%A7%E0%B8%B2%E0%B8%A1%E0%B8%AA%E0%B8%B8%E0%B8%82%E0%B8%99%E0%B8%B1%E0%B9%89%E0%B8%99...+%E0%B8%82%E0%B8%99%E0%B8%B2%E0%B8%9A%E0%B8%AD%E0%B8%A2%E0%B8%B9%E0%B9%88%E0%B8%82%E0%B9%89%E0%B8%B2%E0%B8%87%E0%B8%88%E0%B8%A1%E0%B8%B9%E0%B8%81%E0%B9%80%E0%B8%A5%E0%B9%87%E0%B8%81%E0%B9%86+%E0%B8%99%E0%B9%88%E0%B8%B2%E0%B8%A3%E0%B8%B1%E0%B8%81%E0%B8%82%E0%B8%AD%E0%B8%87%E0%B8%A1%E0%B8%B1%E0%B8%99%22\" target=\"_new\"><font color=\"white\">มันเป็นลูกสุนัขตัวเล็กๆ ที่มีขนยาวอ่อนนุ่มสีดำ ดวงตาสีดำเล็กๆ ที่มีประกายแห่งความสุขนั้น... <b>ขนาบ</b>อยู่ข้างจมูกเล็กๆ น่ารักของมัน\"</font></a> <a href=\"https://www.imdb.com/title/tt0494238\" target=\"_new\"><i><font color=\"#999\" size=\"-1\">Inkheart (2008)</font></i></a></td></tr><tr><td class=\"tanaka-search-row\" width=\"40%\"><a href=\"?page=popthai&amp;search=Baum%2C+you+drive+around+the+woods.+You+flank+him%21\" target=\"_new\"><font color=\"white\">Baum, you drive around the woods. You flank him!</font></a></td><td class=\"tanaka-search-row\"><a href=\"?page=popthai&amp;search=%E0%B8%9A%E0%B8%B2%E0%B8%A1%E0%B8%AA%E0%B9%8C+%E0%B8%99%E0%B8%B2%E0%B8%A2%E0%B8%82%E0%B8%B1%E0%B8%9A%E0%B8%AD%E0%B9%89%E0%B8%AD%E0%B8%A1%E0%B9%84%E0%B8%9B%E0%B8%82%E0%B8%99%E0%B8%B2%E0%B8%9A%E0%B8%9E%E0%B8%A7%E0%B8%81%E0%B8%A1%E0%B8%B1%E0%B8%99%E0%B9%80%E0%B8%AD%E0%B8%B2%E0%B9%84%E0%B8%A7%E0%B9%89\" target=\"_new\"><font color=\"white\">บามส์ นายขับอ้อมไป<b>ขนาบ</b>พวกมันเอาไว้</font></a> <a href=\"https://www.imdb.com/title/tt1152836\" target=\"_new\"><i><font color=\"#999\" size=\"-1\">Public Enemies (2009)</font></i></a></td></tr><tr><td class=\"tanaka-search-row\" width=\"40%\"><a href=\"?page=popthai&amp;search=Commander%2C+on+your+order.+Commence+flanking+manoeuvre.\" target=\"_new\"><font color=\"white\">Commander, on your order. Commence flanking manoeuvre.</font></a></td><td class=\"tanaka-search-row\"><a href=\"?page=popthai&amp;search=%E0%B8%97%E0%B9%88%E0%B8%B2%E0%B8%99%E0%B8%9C%E0%B8%B9%E0%B9%89%E0%B8%9A%E0%B8%B1%E0%B8%8D%E0%B8%8A%E0%B8%B2%E0%B8%81%E0%B8%B2%E0%B8%A3+%E0%B9%80%E0%B8%A3%E0%B8%B4%E0%B9%88%E0%B8%A1%E0%B8%95%E0%B9%89%E0%B8%99%E0%B9%81%E0%B8%9C%E0%B8%99%E0%B8%81%E0%B8%B2%E0%B8%A3%E0%B8%82%E0%B8%99%E0%B8%B2%E0%B8%9A%E0%B9%82%E0%B8%88%E0%B8%A1%E0%B8%95%E0%B8%B5%E0%B9%84%E0%B8%94%E0%B9%89%E0%B9%80%E0%B8%A5%E0%B8%A2\" target=\"_new\"><font color=\"white\">ท่านผู้บัญชาการ เริ่มต้นแผนการ<b>ขนาบ</b>โจมตีได้เลย</font></a> <a href=\"https://www.imdb.com/title/tt1380664\" target=\"_new\"><i><font color=\"#999\" size=\"-1\">Storm Over Ryloth (2009)</font></i></a></td></tr><tr><td class=\"tanaka-search-row\" width=\"40%\"><a href=\"?page=popthai&amp;search=Where+exactly+in+the+interaction+did+the+sucking+lie%3F\" target=\"_new\"><font color=\"white\">Where exactly in the interaction did the sucking lie?</font></a></td><td class=\"tanaka-search-row\"><a href=\"?page=popthai&amp;search=The+Cornhusker+Vortex+%E0%B9%82%E0%B8%A7%E0%B9%82%E0%B8%A5%E0%B8%A7%E0%B8%B4%E0%B8%97%E0%B8%8B%E0%B9%8C%E0%B8%9E%E0%B8%A2%E0%B8%B2%E0%B8%A2%E0%B8%B2%E0%B8%A1%E0%B8%95%E0%B8%B5%E0%B8%82%E0%B8%99%E0%B8%B2%E0%B8%9A%E0%B9%80%E0%B8%A3%E0%B8%B2\" target=\"_new\"><font color=\"white\">The Cornhusker Vortex โวโลวิทซ์พยายามตี<b>ขนาบ</b>เรา</font></a> <a href=\"https://www.imdb.com/title/tt1523180\" target=\"_new\"><i><font color=\"#999\" size=\"-1\">The Cornhusker Vortex (2009)</font></i></a></td></tr><tr><td class=\"tanaka-search-row\" width=\"40%\"><a href=\"?page=popthai&amp;search=They%27re+playing+right+into+our+hands.\" target=\"_new\"><font color=\"white\">They're playing right into our hands.</font></a></td><td class=\"tanaka-search-row\"><a href=\"?page=popthai&amp;search=%E0%B8%9E%E0%B8%A7%E0%B8%81%E0%B9%80%E0%B8%82%E0%B8%B2%E0%B8%84%E0%B8%B4%E0%B8%94%E0%B8%A7%E0%B9%88%E0%B8%B2%E0%B8%95%E0%B8%B5%E0%B8%82%E0%B8%99%E0%B8%B2%E0%B8%9A%E0%B9%80%E0%B8%A3%E0%B8%B2%E0%B9%84%E0%B8%94%E0%B9%89+%E0%B9%82%E0%B8%94%E0%B8%99%E0%B8%AB%E0%B8%A5%E0%B8%AD%E0%B8%81%E0%B8%A1%E0%B8%B2%E0%B8%95%E0%B8%B4%E0%B8%94%E0%B8%81%E0%B8%B1%E0%B8%9A%E0%B9%80%E0%B8%A3%E0%B8%B2%E0%B8%95%E0%B9%88%E0%B8%B2%E0%B8%87%E0%B8%AB%E0%B8%B2%E0%B8%81\" target=\"_new\"><font color=\"white\">พวกเขาคิดว่าตี<b>ขนาบ</b>เราได้ โดนหลอกมาติดกับเราต่างหาก</font></a> <a href=\"https://www.imdb.com/title/tt1523180\" target=\"_new\"><i><font color=\"#999\" size=\"-1\">The Cornhusker Vortex (2009)</font></i></a></td></tr><tr><td class=\"tanaka-search-row\" width=\"40%\"><a href=\"?page=popthai&amp;search=Bothos%2C+they%27re+flanking+us.+West+wall%21\" target=\"_new\"><font color=\"white\">Bothos, they're flanking us. West wall!</font></a></td><td class=\"tanaka-search-row\"><a href=\"?page=popthai&amp;search=%E0%B9%82%E0%B8%9A%E0%B8%97%E0%B8%AD%E0%B8%AA+%E0%B8%9E%E0%B8%A7%E0%B8%81%E0%B8%A1%E0%B8%B1%E0%B8%99%E0%B8%95%E0%B8%B5%E0%B8%82%E0%B8%99%E0%B8%B2%E0%B8%9A%E0%B8%82%E0%B9%89%E0%B8%B2%E0%B8%87%E0%B9%80%E0%B8%A3%E0%B8%B2+%E0%B8%81%E0%B8%B3%E0%B9%81%E0%B8%9E%E0%B8%87%E0%B8%94%E0%B9%89%E0%B8%B2%E0%B8%99%E0%B8%95%E0%B8%B0%E0%B8%A7%E0%B8%B1%E0%B8%99%E0%B8%95%E0%B8%81\" target=\"_new\"><font color=\"white\">โบทอส พวกมันตี<b>ขนาบ</b>ข้างเรา กำแพงด้านตะวันตก</font></a> <a href=\"https://www.imdb.com/title/tt1020558\" target=\"_new\"><i><font color=\"#999\" size=\"-1\">Centurion (2010)</font></i></a></td></tr></table><table cellpadding=\"0\" cellspacing=\"0\" class=\"search-result-table\" width=\"100%\"><tr><td style=\"vertical-align:top;\" width=\"150\"><a href=\"search/ขนาบ\" style=\"color: white\"><b>ขนาบ</b></a></td><td>[khanāp] (v) <b>EN:</b> brace ; press on two sides ; sandwich ; compress on two opposite sides</td></tr><tr><td style=\"vertical-align:top;\" width=\"150\"><a href=\"search/ขนาบ\" style=\"color: white\"><b>ขนาบ</b></a></td><td>[khanāp] (v) <b>EN:</b> castigate ; reprimand ; blame ; reprove ; condemn ; chastise ; chasten ; rebuke  <b>FR:</b> réprimander ; blâmer ; gronder ; sermonner ; houspiller ; admonester (litt.) ; gourmander (litt.) ; semoncer (litt.) ; tancer (litt.) ; morigéner (litt.)</td></tr></table><table cellpadding=\"0\" cellspacing=\"0\" class=\"search-result-table\" width=\"100%\"><tr><td style=\"vertical-align:top;\" width=\"150\"><a href=\"search/flank\" style=\"color: white\">flank</a></td><td style=\"vertical-align:top;\">(vt) <b>ขนาบ</b>ข้าง</td></tr></table><table cellpadding=\"0\" cellspacing=\"0\" class=\"search-result-table\" width=\"100%\"><tr><td style=\"vertical-align:top;\" width=\"150\"><a href=\"search/strake\" style=\"color: white\">strake</a></td><td style=\"vertical-align:top;\">(สเทรค) n. แผ่นไม้<b>ขนาบ</b>ลำเรือ ดาดฟ้า</td></tr></table><table cellpadding=\"0\" cellspacing=\"0\" class=\"search-result-table\" width=\"100%\"><tr><td style=\"vertical-align:top;\" width=\"150\"><a href=\"search/flank\" style=\"color: white\">flank</a></td><td style=\"vertical-align:top;\">(vt) โจมตีทางปีก, <b>ขนาบ</b>ข้าง, โอบปีก</td></tr><tr><td style=\"vertical-align:top;\" width=\"150\"><a href=\"search/washboard\" style=\"color: white\">washboard</a></td><td style=\"vertical-align:top;\">(n) กระดานซักผ้า, อ่างล้างหน้า, ไม้<b>ขนาบ</b>ผนัง</td></tr></table>"
      ],
      "text/plain": [
       "<IPython.core.display.HTML object>"
      ]
     },
     "execution_count": 58,
     "metadata": {},
     "output_type": "execute_result"
    }
   ],
   "source": [
    "HTML(html.replace(\"black\", \"white\").replace(' bgcolor=\"#ddf7fc\"', ''))"
   ]
  },
  {
   "cell_type": "code",
   "execution_count": 61,
   "id": "995724a9-9838-4b8b-b672-b4a551fd1fdd",
   "metadata": {
    "tags": []
   },
   "outputs": [
    {
     "data": {
      "text/html": [
       "<td class=\"search-table-header\"><b>Thai-English: <a href=\"https://www.nectec.or.th/\" target=\"_blank\">NECTEC's</a> <a href=\"https://lexitron.nectec.or.th/\">Lexitron-2</a> Dictionary [with local updates]</b></td>"
      ],
      "text/plain": [
       "<IPython.core.display.HTML object>"
      ]
     },
     "execution_count": 61,
     "metadata": {},
     "output_type": "execute_result"
    }
   ],
   "source": [
    "HTML(str(headers[0]))"
   ]
  },
  {
   "cell_type": "code",
   "execution_count": 64,
   "id": "811b83a7-7396-4389-8a76-44793879a1f5",
   "metadata": {
    "tags": []
   },
   "outputs": [
    {
     "data": {
      "text/html": [
       "<p><b>Thai-English: NECTEC's Lexitron-2 Dictionary [with local updates]</b></p>"
      ],
      "text/plain": [
       "<IPython.core.display.HTML object>"
      ]
     },
     "execution_count": 64,
     "metadata": {},
     "output_type": "execute_result"
    }
   ],
   "source": [
    "HTML(f'<p><b>{headers[0].text}</b></p>')"
   ]
  },
  {
   "cell_type": "code",
   "execution_count": 62,
   "id": "eff01429-3d2b-4f0b-b00d-b3f12f887484",
   "metadata": {
    "tags": []
   },
   "outputs": [
    {
     "data": {
      "text/plain": [
       "<td class=\"search-table-header\"><b>Thai-English: <a href=\"https://www.nectec.or.th/\" target=\"_blank\">NECTEC's</a> <a href=\"https://lexitron.nectec.or.th/\">Lexitron-2</a> Dictionary [with local updates]</b></td>"
      ]
     },
     "execution_count": 62,
     "metadata": {},
     "output_type": "execute_result"
    }
   ],
   "source": [
    "headers[0]"
   ]
  },
  {
   "cell_type": "code",
   "execution_count": 160,
   "id": "1c34b366-db6c-4fb1-92b0-4c9549a58813",
   "metadata": {
    "tags": []
   },
   "outputs": [
    {
     "data": {
      "text/html": [
       "\n",
       "<style>\n",
       "    table {width: 60%;} \n",
       "</style><h5>Thai-English: NECTEC's Lexitron-2 Dictionary [with local updates]<h5><table cellpadding=\"0\" cellspacing=\"0\" class=\"search-result-table\" width=\"100%\"><tr><td style=\"vertical-align:top;\" width=\"150\"><a href=\"search/ขนาบ\" style=\"color: white\"><b>ขนาบ</b></a></td><td style=\"vertical-align:top;\">(v) brace, <b>See also:</b> <a href=\"search/press on two sides\">press on two sides</a>, <a href=\"search/sandwich\">sandwich</a>, <a href=\"search/compress on two opposite sides\">compress on two opposite sides</a>, <b>Syn.</b> <a href=\"search/ประชิด\">ประชิด</a>, <a href=\"search/ประกบ\">ประกบ</a>, <b>Example:</b> ผมถูกขนาบอยู่ระหว่างคนอ้วนสองคน, <b>Thai Definition:</b> ประกบเข้าให้แน่น, ประชิดเข้าไปทั้ง 2 ข้าง, ติดชิดกันอยู่ทั้ง 2 ข้าง</td></tr><tr><td style=\"vertical-align:top;\" width=\"150\"><a href=\"search/ขนาบ\" style=\"color: white\"><b>ขนาบ</b></a></td><td style=\"vertical-align:top;\">(v) castigate, <b>See also:</b> <a href=\"search/reprimand\">reprimand</a>, <a href=\"search/blame\">blame</a>, <a href=\"search/reprove\">reprove</a>, <a href=\"search/condemn\">condemn</a>, <a href=\"search/chastise\">chastise</a>, <a href=\"search/chasten\">chasten</a>, <b>Syn.</b> <a href=\"search/เล่นงาน\">เล่นงาน</a>, <a href=\"search/ดุ\">ดุ</a>, <a href=\"search/ตำหนิ\">ตำหนิ</a>, <a href=\"search/ตักเตือน\">ตักเตือน</a>, <a href=\"search/ว่ากล่าว\">ว่ากล่าว</a>, <a href=\"search/กำราบ\">กำราบ</a>, <b>Example:</b> ผมจะขนาบเขาเอง</td></tr></table><h5>ไทย-ไทย: พจนานุกรมฉบับราชบัณฑิตยสถาน พ.ศ. ๒๕๕๔<h5><table cellpadding=\"0\" cellspacing=\"0\" class=\"search-result-table\" width=\"100%\"><tr><td style=\"vertical-align:top;\" width=\"150\"><a href=\"search/ขนาบ\" style=\"color: white\"><b>ขนาบ</b></a></td><td style=\"vertical-align:top;\">(ขะหฺนาบ) ก. ประกบเข้าให้แน่น เช่น เอาไม้<b>ขนาบ</b>ทั้งข้างล่างข้างบนหรือ<b>ขนาบ</b>ข้างเป็นต้น, ประชิดเข้าไปทั้ง ๒ ข้าง เช่น กองทัพตี<b>ขนาบ</b>, ติดชิดกันอยู่ทั้ง ๒ ข้าง เช่น ที่ดิน<b>ขนาบ</b>คาบเกี่ยวกัน</td></tr><tr><td style=\"vertical-align:top;\" width=\"150\"><a href=\"search/ขนาบ\" style=\"color: white\"><b>ขนาบ</b></a></td><td style=\"vertical-align:top;\">ดุดันเอา เช่น ถูก<b>ขนาบ</b></td></tr><tr><td style=\"vertical-align:top;\" width=\"150\"><a href=\"search/ขนาบ\" style=\"color: white\"><b>ขนาบ</b></a></td><td style=\"vertical-align:top;\">โดยปริยายหมายความว่า เรื่อยมา, ตลอดมา, เช่น รับของถวายกัน<b>ขนาบ</b>มา (ประพาสมลายู).</td></tr></table><h5>Thai-English-French: Volubilis Dictionary 1.0<h5><table cellpadding=\"0\" cellspacing=\"0\" class=\"search-result-table\" width=\"100%\"><tr><td style=\"vertical-align:top;\" width=\"150\"><a href=\"search/ขนาบ\" style=\"color: white\"><b>ขนาบ</b></a></td><td>[khanāp] (v) <b>EN:</b> brace ; press on two sides ; sandwich ; compress on two opposite sides</td></tr><tr><td style=\"vertical-align:top;\" width=\"150\"><a href=\"search/ขนาบ\" style=\"color: white\"><b>ขนาบ</b></a></td><td>[khanāp] (v) <b>EN:</b> castigate ; reprimand ; blame ; reprove ; condemn ; chastise ; chasten ; rebuke  <b>FR:</b> réprimander ; blâmer ; gronder ; sermonner ; houspiller ; admonester (litt.) ; gourmander (litt.) ; semoncer (litt.) ; tancer (litt.) ; morigéner (litt.)</td></tr></table><h5>English-Thai: NECTEC's Lexitron-2 Dictionary [with local updates]<h5><table cellpadding=\"0\" cellspacing=\"0\" class=\"search-result-table\" width=\"100%\"><tr><td style=\"vertical-align:top;\" width=\"150\"><a href=\"search/flank\" style=\"color: white\">flank</a></td><td style=\"vertical-align:top;\">(vt) <b>ขนาบ</b>ข้าง</td></tr></table><h5>English-Thai: HOPE Dictionary [with local updates]<h5><table cellpadding=\"0\" cellspacing=\"0\" class=\"search-result-table\" width=\"100%\"><tr><td style=\"vertical-align:top;\" width=\"150\"><a href=\"search/strake\" style=\"color: white\">strake</a></td><td style=\"vertical-align:top;\">(สเทรค) n. แผ่นไม้<b>ขนาบ</b>ลำเรือ ดาดฟ้า</td></tr></table><h5>English-Thai: Nontri Dictionary<h5><table cellpadding=\"0\" cellspacing=\"0\" class=\"search-result-table\" width=\"100%\"><tr><td style=\"vertical-align:top;\" width=\"150\"><a href=\"search/flank\" style=\"color: white\">flank</a></td><td style=\"vertical-align:top;\">(vt) โจมตีทางปีก, <b>ขนาบ</b>ข้าง, โอบปีก</td></tr><tr><td style=\"vertical-align:top;\" width=\"150\"><a href=\"search/washboard\" style=\"color: white\">washboard</a></td><td style=\"vertical-align:top;\">(n) กระดานซักผ้า, อ่างล้างหน้า, ไม้<b>ขนาบ</b>ผนัง</td></tr></table>"
      ],
      "text/plain": [
       "<IPython.core.display.HTML object>"
      ]
     },
     "metadata": {},
     "output_type": "display_data"
    }
   ],
   "source": [
    "html='''\n",
    "<style>\n",
    "    table {width: 60%;} \n",
    "</style>'''\n",
    "for header, table in zip(headers, tables):\n",
    "    if 'Subtitles' not in header.text:\n",
    "        html += f'<h5>{header.text}<h5>'\n",
    "        html += str(table).replace(\"black\", \"white\")\n",
    "        \n",
    "display(HTML(html))"
   ]
  },
  {
   "cell_type": "code",
   "execution_count": null,
   "id": "475197e8-b7b3-41c9-84ec-13db46f36b7d",
   "metadata": {},
   "outputs": [],
   "source": []
  },
  {
   "cell_type": "code",
   "execution_count": null,
   "id": "c1767370-3f2d-44cd-b092-cb9d5f6adf27",
   "metadata": {},
   "outputs": [],
   "source": []
  },
  {
   "cell_type": "code",
   "execution_count": null,
   "id": "2e8e4f80-d944-44f8-9734-aa8bdb53b9c2",
   "metadata": {},
   "outputs": [],
   "source": []
  },
  {
   "cell_type": "code",
   "execution_count": null,
   "id": "68f49ce5-9f0c-4999-b086-ae3d10035787",
   "metadata": {},
   "outputs": [],
   "source": []
  },
  {
   "cell_type": "code",
   "execution_count": null,
   "id": "a52eb841-1749-4889-bdc3-7aeed2083cd3",
   "metadata": {},
   "outputs": [],
   "source": []
  },
  {
   "cell_type": "code",
   "execution_count": null,
   "id": "a4e28121-8930-4984-a268-791f1e050446",
   "metadata": {},
   "outputs": [],
   "source": []
  },
  {
   "cell_type": "code",
   "execution_count": 4,
   "id": "2f4cf5e7-aad4-4834-bbd3-f664195475e8",
   "metadata": {},
   "outputs": [],
   "source": [
    "def clipImg2Text(lang, skew=1, config='--psm 7'):\n",
    "    img = ImageGrab.grabclipboard().convert(\"L\")\n",
    "    binarize(img, skew)\n",
    "    return pytesseract.image_to_string(img, config=config, lang=lang).strip()\n",
    "\n",
    "def binarize(im, skew=1):\n",
    "    threshold = sum(im.getextrema())/2 * skew\n",
    "    xs, ys = im.size\n",
    "    for x in range(xs):\n",
    "        for y in range(ys):\n",
    "            if im.getpixel((x, y)) > threshold:\n",
    "                px = 255\n",
    "            else:\n",
    "                px = 0\n",
    "            im.putpixel((x, y), px)"
   ]
  },
  {
   "cell_type": "code",
   "execution_count": 25,
   "id": "ac2b0698-71d5-4b17-bb23-f040481a76e6",
   "metadata": {},
   "outputs": [
    {
     "name": "stdout",
     "output_type": "stream",
     "text": [
      "ขนาบ\n"
     ]
    }
   ],
   "source": [
    "skew = .9\n",
    "text = clipImg2Text('tha', skew, '--psm 8')\n",
    "\n",
    "print(text)"
   ]
  },
  {
   "cell_type": "code",
   "execution_count": 44,
   "id": "95364b32-b232-4aa2-b1d5-2ff6356a9074",
   "metadata": {},
   "outputs": [
    {
     "ename": "AttributeError",
     "evalue": "'NoneType' object has no attribute 'convert'",
     "output_type": "error",
     "traceback": [
      "\u001b[1;31m---------------------------------------------------------------------------\u001b[0m",
      "\u001b[1;31mAttributeError\u001b[0m                            Traceback (most recent call last)",
      "Cell \u001b[1;32mIn[44], line 1\u001b[0m\n\u001b[1;32m----> 1\u001b[0m img \u001b[38;5;241m=\u001b[39m ImageGrab\u001b[38;5;241m.\u001b[39mgrabclipboard()\u001b[38;5;241m.\u001b[39mconvert(\u001b[38;5;124m\"\u001b[39m\u001b[38;5;124mL\u001b[39m\u001b[38;5;124m\"\u001b[39m)\n\u001b[0;32m      2\u001b[0m img\n",
      "\u001b[1;31mAttributeError\u001b[0m: 'NoneType' object has no attribute 'convert'"
     ]
    }
   ],
   "source": [
    "img = ImageGrab.grabclipboard().convert(\"L\")\n",
    "img"
   ]
  },
  {
   "cell_type": "code",
   "execution_count": 26,
   "id": "8b1332a6-ca97-4337-b901-141ac0ce3120",
   "metadata": {},
   "outputs": [
    {
     "data": {
      "image/jpeg": "[encoded data removed]",
      "image/png": "[encoded data removed]",
      "text/plain": [
       "<PIL.Image.Image image mode=L size=79x43>"
      ]
     },
     "execution_count": 26,
     "metadata": {},
     "output_type": "execute_result"
    }
   ],
   "source": [
    "binarize(img, .9)\n",
    "img"
   ]
  },
  {
   "cell_type": "code",
   "execution_count": 51,
   "id": "15b4109e-e5cb-4623-8254-fee5255881d8",
   "metadata": {
    "tags": []
   },
   "outputs": [
    {
     "name": "stdout",
     "output_type": "stream",
     "text": [
      "Help on function image_to_boxes in module pytesseract.pytesseract:\n",
      "\n",
      "image_to_boxes(image, lang=None, config='', nice=0, output_type='string', timeout=0)\n",
      "    Returns string containing recognized characters and their box boundaries\n",
      "\n"
     ]
    }
   ],
   "source": [
    "help(pytesseract.image_to_boxes)"
   ]
  },
  {
   "cell_type": "code",
   "execution_count": null,
   "id": "32f9be99-c59b-4478-8ccc-aee2ac2b8a21",
   "metadata": {},
   "outputs": [],
   "source": []
  },
  {
   "cell_type": "code",
   "execution_count": null,
   "id": "610b0260-387e-4a2f-9623-5878a8cfba93",
   "metadata": {},
   "outputs": [],
   "source": []
  },
  {
   "cell_type": "code",
   "execution_count": null,
   "id": "f35c16a1-0d2a-4133-abf7-4e6815230c38",
   "metadata": {},
   "outputs": [],
   "source": []
  },
  {
   "cell_type": "code",
   "execution_count": null,
   "id": "8adf8eba-7d6d-4d3e-91da-e4ace34fca8d",
   "metadata": {},
   "outputs": [],
   "source": []
  },
  {
   "cell_type": "code",
   "execution_count": null,
   "id": "1754310a-97d6-40e9-9b62-cee7879c767b",
   "metadata": {},
   "outputs": [],
   "source": []
  },
  {
   "cell_type": "code",
   "execution_count": null,
   "id": "f0bd2b97-d3aa-4077-9228-d75154a2449e",
   "metadata": {},
   "outputs": [],
   "source": []
  },
  {
   "cell_type": "markdown",
   "id": "aa9726d5-c4ab-4884-ac40-bb6473bb179d",
   "metadata": {},
   "source": [
    "# MISCELLANEOUS EXPERIMENTS"
   ]
  },
  {
   "cell_type": "code",
   "execution_count": null,
   "id": "ddd2d212-953d-4882-8566-8dab451b1017",
   "metadata": {},
   "outputs": [],
   "source": [
    "img = Image.open('karine.jpeg')\n",
    "img"
   ]
  },
  {
   "cell_type": "code",
   "execution_count": null,
   "id": "2610de80-bba1-4ac7-8b2a-bda9810e1d03",
   "metadata": {},
   "outputs": [],
   "source": [
    "img.getextrema()"
   ]
  },
  {
   "cell_type": "code",
   "execution_count": null,
   "id": "ca5160d0-80e7-4f49-959e-17355ff1f4eb",
   "metadata": {},
   "outputs": [],
   "source": [
    "img_bin = img.convert('L')\n",
    "binarize(img_bin, skew=1.1)\n",
    "img_bin"
   ]
  },
  {
   "cell_type": "code",
   "execution_count": null,
   "id": "5687c329-a554-4620-92d7-89feaff22abe",
   "metadata": {},
   "outputs": [],
   "source": [
    "print(pytesseract.image_to_string(img, lang='tha+eng'))"
   ]
  },
  {
   "cell_type": "code",
   "execution_count": null,
   "id": "989f1a52-ba58-434b-bd0e-cda3f51ee730",
   "metadata": {},
   "outputs": [],
   "source": [
    "print(pytesseract.image_to_string(img_bin, lang='tha+eng'))"
   ]
  },
  {
   "cell_type": "code",
   "execution_count": null,
   "id": "4e96bd02-eb29-442f-971a-6c44b1690bbf",
   "metadata": {},
   "outputs": [],
   "source": [
    "print(pytesseract.image_to_string(img.convert('L'), lang='tha+eng'))"
   ]
  },
  {
   "cell_type": "code",
   "execution_count": null,
   "id": "aa778c2d-ff5a-46c1-b72e-83c1e66b4c0a",
   "metadata": {},
   "outputs": [],
   "source": [
    "print(pytesseract.image_to_string(img.convert('L'), lang='tha+eng', config='--psm 1'))"
   ]
  },
  {
   "cell_type": "code",
   "execution_count": null,
   "id": "90456ae9-8f63-4c8d-95eb-e915b2db977c",
   "metadata": {},
   "outputs": [],
   "source": [
    "print(pytesseract.image_to_osd(img))"
   ]
  },
  {
   "cell_type": "code",
   "execution_count": null,
   "id": "77e888cd-f8c9-4d59-8c75-84e4ff9a6305",
   "metadata": {
    "scrolled": true
   },
   "outputs": [],
   "source": [
    "print(pytesseract.image_to_boxes(img, lang='tha+eng'))"
   ]
  },
  {
   "cell_type": "code",
   "execution_count": null,
   "id": "a06efe58-05c7-4a92-a970-1fda732e33cd",
   "metadata": {},
   "outputs": [],
   "source": [
    "help(pytesseract.image_to_boxes)"
   ]
  },
  {
   "cell_type": "code",
   "execution_count": null,
   "id": "d0a7bc27-b6b3-43ce-9f5f-9c0c76ead51a",
   "metadata": {},
   "outputs": [],
   "source": [
    "help(pytesseract.image_to_osd)"
   ]
  },
  {
   "cell_type": "code",
   "execution_count": null,
   "id": "b2b2e2f7-47aa-475d-b7b8-848702b8b399",
   "metadata": {},
   "outputs": [],
   "source": [
    "pytesseract."
   ]
  },
  {
   "cell_type": "code",
   "execution_count": null,
   "id": "f60e4734-d460-4ab8-907e-54ac9422c98c",
   "metadata": {},
   "outputs": [],
   "source": [
    "abc"
   ]
  },
  {
   "cell_type": "code",
   "execution_count": null,
   "id": "56d69004-d5cc-49b5-8419-d9ed46bf872c",
   "metadata": {},
   "outputs": [],
   "source": [
    "shift = 13\n",
    "for char in text.lower():\n",
    "    if char in abc:\n",
    "        new_index = abc.index(char.lower()) - (shift + 1)\n",
    "        if new_index < 0:\n",
    "            new_index += 1\n",
    "        print(abc[new_index], end='')\n",
    "    else:\n",
    "        print(char, end='')\n",
    "    "
   ]
  },
  {
   "cell_type": "code",
   "execution_count": null,
   "id": "f1f8869d-449c-4c00-bc6e-649bf963eca6",
   "metadata": {},
   "outputs": [],
   "source": []
  },
  {
   "cell_type": "code",
   "execution_count": null,
   "id": "e230bd46-baa8-4ab9-b21d-84578653d283",
   "metadata": {},
   "outputs": [],
   "source": [
    "text.replace(' ', '')"
   ]
  },
  {
   "cell_type": "code",
   "execution_count": null,
   "id": "bcbbd022-f7c4-4f42-8b1b-bf0bbdd2a12e",
   "metadata": {},
   "outputs": [],
   "source": [
    "abc = 'ABCDEFGHIJKLMHNOPQRSTUVWXYZ'.lower()\n",
    "abc"
   ]
  },
  {
   "cell_type": "code",
   "execution_count": null,
   "id": "730dc7a4-0d84-4347-9e3c-0dee1b24f58e",
   "metadata": {},
   "outputs": [],
   "source": [
    "len(abc.strip())"
   ]
  },
  {
   "cell_type": "code",
   "execution_count": null,
   "id": "b6d4206c-51f6-4866-80ed-8f93b2989c13",
   "metadata": {},
   "outputs": [],
   "source": [
    "text = 'upbtu'"
   ]
  },
  {
   "cell_type": "code",
   "execution_count": null,
   "id": "683212e0-1000-4b6f-95c1-89b26c502938",
   "metadata": {},
   "outputs": [],
   "source": [
    "for i in range(len(abc)):\n",
    "    # print(i, ':', end=' ')\n",
    "    decoded = ''\n",
    "    for char in text:\n",
    "        new_index = abc.index(char) - i\n",
    "        decoded += abc[new_index]\n",
    "    if decoded in cmudict.words():\n",
    "        print(i, ':', decoded)"
   ]
  },
  {
   "cell_type": "code",
   "execution_count": null,
   "id": "28bfc6b3-cbcb-42f8-a32a-272650faea1d",
   "metadata": {},
   "outputs": [],
   "source": [
    "import nltk"
   ]
  },
  {
   "cell_type": "code",
   "execution_count": null,
   "id": "bee87650-7e75-462c-b4bb-3effc45b3eb6",
   "metadata": {},
   "outputs": [],
   "source": [
    "nltk.download('popular')"
   ]
  },
  {
   "cell_type": "code",
   "execution_count": null,
   "id": "2f5788ac-e800-4e79-8b6e-69ee97a59974",
   "metadata": {},
   "outputs": [],
   "source": [
    "from nltk.corpus import cmudict"
   ]
  },
  {
   "cell_type": "code",
   "execution_count": null,
   "id": "d0c19e93-2942-423c-ab73-7168a232a0a5",
   "metadata": {},
   "outputs": [],
   "source": [
    "len(cmudict.words())"
   ]
  },
  {
   "cell_type": "code",
   "execution_count": null,
   "id": "c2749ec1-a58c-4aea-aed2-d129fe62c888",
   "metadata": {},
   "outputs": [],
   "source": [
    "decoded"
   ]
  },
  {
   "cell_type": "code",
   "execution_count": null,
   "id": "a79f6234-a4fd-4ae3-a823-93dd9239d8a9",
   "metadata": {},
   "outputs": [],
   "source": [
    "decoded.lower() in cmudict.words()"
   ]
  },
  {
   "cell_type": "code",
   "execution_count": null,
   "id": "6aeb1f71-6342-4c2e-b6e2-88ad4b1c3d61",
   "metadata": {},
   "outputs": [],
   "source": [
    "print(cmudict.readme())"
   ]
  },
  {
   "cell_type": "code",
   "execution_count": null,
   "id": "6e2cd553-dd5f-4960-b677-536853de153e",
   "metadata": {},
   "outputs": [],
   "source": [
    "cmudict.words()[:7]"
   ]
  },
  {
   "cell_type": "code",
   "execution_count": null,
   "id": "82726236-9a35-412a-92cd-1d7a942ded9d",
   "metadata": {},
   "outputs": [],
   "source": [
    "from tqdm import trange"
   ]
  },
  {
   "cell_type": "code",
   "execution_count": null,
   "id": "a2443a4e-f17f-4e53-b80a-11012c7c0b0c",
   "metadata": {},
   "outputs": [],
   "source": [
    "n = int(text.replace(',', ''))\n",
    "n"
   ]
  },
  {
   "cell_type": "code",
   "execution_count": null,
   "id": "a5032697-a245-412d-9000-c9700a96f7fc",
   "metadata": {},
   "outputs": [],
   "source": [
    "factors = []\n",
    "for i in trange(2, n//2+1):\n",
    "    if n % i == 0:\n",
    "        factors.append(i)\n",
    "\n",
    "factors"
   ]
  },
  {
   "cell_type": "code",
   "execution_count": null,
   "id": "50e5d73b-5115-4ddb-938f-5c8e8bb615e8",
   "metadata": {},
   "outputs": [],
   "source": [
    "factors[0] * factors[1]"
   ]
  },
  {
   "cell_type": "code",
   "execution_count": null,
   "id": "9cc4dadc-8916-45ae-827d-981c2d0f87e8",
   "metadata": {},
   "outputs": [],
   "source": []
  }
 ],
 "metadata": {
  "kernelspec": {
   "display_name": "Python 3 (ipykernel)",
   "language": "python",
   "name": "python3"
  },
  "language_info": {
   "codemirror_mode": {
    "name": "ipython",
    "version": 3
   },
   "file_extension": ".py",
   "mimetype": "text/x-python",
   "name": "python",
   "nbconvert_exporter": "python",
   "pygments_lexer": "ipython3",
   "version": "3.11.5"
  }
 },
 "nbformat": 4,
 "nbformat_minor": 5
}
