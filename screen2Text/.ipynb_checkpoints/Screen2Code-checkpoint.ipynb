{
 "cells": [
  {
   "cell_type": "markdown",
   "id": "198c1855-8aaa-446b-91a4-0c5bce8fb115",
   "metadata": {},
   "source": [
    "# Recognize a Word and Lookup in Dictionary"
   ]
  },
  {
   "cell_type": "code",
   "execution_count": 1,
   "id": "cc111204-cef8-40c2-88fc-a9aa235fe34a",
   "metadata": {
    "tags": []
   },
   "outputs": [
    {
     "name": "stdout",
     "output_type": "stream",
     "text": [
      ">>> Likely imported.\n"
     ]
    }
   ],
   "source": [
    "from screen2text import *\n",
    "\n",
    "def lookup(text):\n",
    "    dic_url = 'https://dict.longdo.com/search/'\n",
    "    response = rq.get(dic_url + text, timeout=180)\n",
    "    if not response.status_code == 200:\n",
    "        print(\"Couldn't fetch.\")\n",
    "        return\n",
    "    response.encoding = 'utf-8'\n",
    "    soup = bs(response.text)\n",
    "    headers = soup.find_all('td',  attrs={'class': 'search-table-header'})\n",
    "    tables = soup.find_all('table', attrs={'class': 'search-result-table'})\n",
    "    html='''<style>table {width: 60%;} </style>'''\n",
    "    for header, table in zip(headers, tables):\n",
    "        contents = header.text\n",
    "        if not ('Subtitles' in contents or 'German-Thai:' in contents or 'French-Thai:' in contents):\n",
    "            html += f'<h5>{header.text}<h5>'\n",
    "            html += str(table).replace(\"black\", \"white\")\n",
    "    display(HTML(html))"
   ]
  },
  {
   "cell_type": "code",
   "execution_count": 2,
   "id": "9387ce15-92f1-4784-b500-06d9a681ae12",
   "metadata": {
    "tags": []
   },
   "outputs": [],
   "source": [
    "ex = ClipImg2Text()"
   ]
  },
  {
   "cell_type": "code",
   "execution_count": 57,
   "id": "9ddb2551-b42c-4b34-a864-02ab72cad158",
   "metadata": {
    "tags": []
   },
   "outputs": [
    {
     "data": {
      "image/png": "[encoded data removed]",
      "text/plain": [
       "<PIL.PngImagePlugin.PngImageFile image mode=RGBA size=38x51>"
      ]
     },
     "execution_count": 57,
     "metadata": {},
     "output_type": "execute_result"
    }
   ],
   "source": [
    "ex.grab()\n",
    "ex.im"
   ]
  },
  {
   "cell_type": "code",
   "execution_count": 58,
   "id": "a5f5c353-54a1-4bb4-a260-6aa1f7fa0e76",
   "metadata": {
    "tags": []
   },
   "outputs": [
    {
     "name": "stdout",
     "output_type": "stream",
     "text": [
      "191\n",
      "205\n",
      "210\n",
      "212\n",
      "213\n",
      "214\n",
      "216\n",
      "217\n",
      "218\n",
      "224\n",
      "251\n",
      "252\n",
      "Done in 0:00:02.941000\n"
     ]
    }
   ],
   "source": [
    "start = dt.now()\n",
    "ex.threads_recognize('tha')\n",
    "print(f'Done in {dt.now() - start}')"
   ]
  },
  {
   "cell_type": "code",
   "execution_count": 47,
   "id": "24dd3a53-171a-4012-b869-1b48861e4756",
   "metadata": {
    "tags": []
   },
   "outputs": [
    {
     "data": {
      "text/plain": [
       "(12145, '')"
      ]
     },
     "execution_count": 47,
     "metadata": {},
     "output_type": "execute_result"
    }
   ],
   "source": [
    "list(ex.out_texts.items())[-1]"
   ]
  },
  {
   "cell_type": "code",
   "execution_count": 10,
   "id": "cededafb-fb06-4380-a759-ea164728c3b5",
   "metadata": {
    "collapsed": true,
    "jupyter": {
     "outputs_hidden": true,
     "source_hidden": true
    },
    "tags": []
   },
   "outputs": [
    {
     "data": {
      "text/plain": [
       "{'แผ้ว': 0.79, 'แนว': 0.11, 'แบ่ง': 0.11}"
      ]
     },
     "execution_count": 10,
     "metadata": {},
     "output_type": "execute_result"
    }
   ],
   "source": [
    "suggestions = ex.validate_words()\n",
    "suggestions"
   ]
  },
  {
   "cell_type": "code",
   "execution_count": 59,
   "id": "7049517d-006a-4662-89bd-fdc97e7d60f1",
   "metadata": {
    "tags": []
   },
   "outputs": [
    {
     "name": "stdout",
     "output_type": "stream",
     "text": [
      "The best guess is \"งา\" rated 0.8 out of 102\n",
      "Others:\n",
      "1 - งง (0.13)\t2 - จง (0.06)\t3 - เซ (0.01)\t"
     ]
    },
    {
     "name": "stdin",
     "output_type": "stream",
     "text": [
      "Enter to proceed with top-rated suggestion or number for other or any different word: \n"
     ]
    },
    {
     "data": {
      "text/html": [
       "<style>table {width: 60%;} </style><h5>Longdo Dictionary ภาษา ไทย (TH) - อังกฤษ (EN) (UNAPPROVED version -- use with care )   **ระวัง คำแปลอาจมีข้อผิดพลาด**<h5><table cellpadding=\"0\" cellspacing=\"0\" class=\"search-result-table\" width=\"100%\"><tr><td style=\"vertical-align:top;\" width=\"150\"><a href=\"search/กระจกหลัง (กระจกเงาใช้ส่องดูภาพข้างหลังรถ)\" style=\"color: white\">กระจกหลัง (กระจกเ<b>งา</b>ใช้ส่องดูภาพข้างหลังรถ)</a></td><td style=\"vertical-align:top;\">(n) rear-view mirror</td></tr><tr><td style=\"vertical-align:top;\" width=\"150\"><a href=\"search/งานงอก\" style=\"color: white\"><b>งา</b>นงอก</a></td><td style=\"vertical-align:top;\">(vi, slang, colloq) to be in trouble, <b>See also:</b> S. งานเข้า</td></tr><tr><td style=\"vertical-align:top;\" width=\"150\"><a href=\"search/งานเข้า\" style=\"color: white\"><b>งา</b>นเข้า</a></td><td style=\"vertical-align:top;\">(colloq) to be in trouble., <b>See also:</b> R. ซวย</td></tr><tr><td style=\"vertical-align:top;\" width=\"150\"><a href=\"search/งามไส้\" style=\"color: white\"><b>งา</b>มไส้</a></td><td style=\"vertical-align:top;\">(adv, slang, colloq) ิbe shameful, <b>See also:</b> S. งามหน้า</td></tr><tr><td style=\"vertical-align:top;\" width=\"150\"><a href=\"search/ชำนาญงาน\" style=\"color: white\">ชำนาญ<b>งา</b>น</a></td><td style=\"vertical-align:top;\">(n, phrase) Experienced Level</td></tr><tr><td style=\"vertical-align:top;\" width=\"150\"><a href=\"search/พนักงานมหาวิทยาลัย(ชื่อส่วนงาน) (พศ.))\" style=\"color: white\">พนัก<b>งา</b>นมหาวิทยาลัย(ชื่อส่วน<b>งา</b>น) (พศ.))</a></td><td style=\"vertical-align:top;\">(n) University staff (Faculty Section)</td></tr></table><h5>Longdo Dictionary ภาษา ญี่ปุ่น (JP) - ญี่ปุ่น (JP) (UNAPPROVED version -- use with care ) **ระวัง คำแปลอาจมีข้อผิดพลาด**<h5><table cellpadding=\"0\" cellspacing=\"0\" class=\"search-result-table\" width=\"100%\"><tr><td style=\"vertical-align:top;\" width=\"150\"><a href=\"search/การทำงาน\" style=\"color: white\">การทำ<b>งา</b>น</a></td><td style=\"vertical-align:top;\">การทำ<b>งา</b>น</td></tr></table><h5>Longdo Dictionary ภาษา ไทยภาคเหนือ (TH-NORTH) - ไทยภาคเหนือ (TH-NORTH) (UNAPPROVED version -- use with care ) **ระวัง คำแปลอาจมีข้อผิดพลาด**<h5><table cellpadding=\"0\" cellspacing=\"0\" class=\"search-result-table\" width=\"100%\"><tr><td style=\"vertical-align:top;\" width=\"150\"><a href=\"search/ข้าวงาย\" style=\"color: white\">ข้าว<b>งา</b>ย</a></td><td style=\"vertical-align:top;\">[ข้าว-งาย] (n) อาหารเช้า, มือเช้า</td></tr></table><h5>Longdo Dictionary ภาษา ไทย (TH) - ญี่ปุ่น (JP) (UNAPPROVED version -- use with care )   **ระวัง คำแปลอาจมีข้อผิดพลาด**<h5><table cellpadding=\"0\" cellspacing=\"0\" class=\"search-result-table\" width=\"100%\"><tr><td style=\"vertical-align:top;\" width=\"150\"><a href=\"search/งานวัด\" style=\"color: white\"><b>งา</b>นวัด</a></td><td style=\"vertical-align:top;\">(n) (n.) 縁日 [ えんにち ]<br/><b>Image:</b> <a href=\"/cache/pictures-unapproved/129672937120776.jpeg\" target=\"picture\"><img border=\"0\" src=\"/cache/pictures-unapproved/129672937120776.jpeg\" style=\"max-width:300px\"/></a> </td></tr><tr><td style=\"vertical-align:top;\" width=\"150\"><a href=\"search/งานเทศกาล\" style=\"color: white\"><b>งา</b>นเทศกาล</a></td><td style=\"vertical-align:top;\">(n) (n.) お祭り[ おまつり<br/><b>Image:</b> <a href=\"/cache/pictures-unapproved/129672948463301.jpeg\" target=\"picture\"><img border=\"0\" src=\"/cache/pictures-unapproved/129672948463301.jpeg\" style=\"max-width:300px\"/></a> </td></tr></table><h5>Thai-English: NECTEC's Lexitron-2 Dictionary [with local updates]<h5><table cellpadding=\"0\" cellspacing=\"0\" class=\"search-result-table\" width=\"100%\"><tr><td style=\"vertical-align:top;\" width=\"150\"><a href=\"search/งา\" style=\"color: white\"><b>งา</b></a></td><td style=\"vertical-align:top;\">(n) sesame, <b>See also:</b> <a href=\"search/benne\">benne</a>, <a href=\"search/benny\">benny</a>, <a href=\"search/bene\">bene</a>, <a href=\"search/Sesamum indicum\">Sesamum indicum</a>, <b>Example:</b> ฉันชอบรับประทานขนมครองแครงน้ำกะทิใส่งา, <b>Count Unit:</b> เมล็ด, <b>Thai Definition:</b> ชื่อไม้ล้มลุกชนิดหนึ่ง ผลเป็นฝัก มีเมล็ดเล็กๆ สีขาวหรือดำ ใช้ประกอบอาหารหรือสกัดน้ำมัน</td></tr><tr><td style=\"vertical-align:top;\" width=\"150\"><a href=\"search/งา\" style=\"color: white\"><b>งา</b></a></td><td style=\"vertical-align:top;\">(n) ivory, <b>See also:</b> <a href=\"search/tusk\">tusk</a>, <b>Example:</b> ช่างน่าสงสารช้างที่ถูกตัดงาเสียจริง, <b>Count Unit:</b> กิ่ง, <b>Thai Definition:</b> ฟันที่ออกจากปากช้างพลาย</td></tr><tr><td style=\"vertical-align:top;\" width=\"150\"><a href=\"search/งาน\" style=\"color: white\"><b>งา</b>น</a></td><td style=\"vertical-align:top;\">(n) festivity, <b>See also:</b> <a href=\"search/party\">party</a>, <a href=\"search/celebration\">celebration</a>, <a href=\"search/feast\">feast</a>, <b>Syn.</b> <a href=\"search/งานฉลอง\">งานฉลอง</a>, <a href=\"search/งานเลี้ยง\">งานเลี้ยง</a>, <a href=\"search/งานพิธี\">งานพิธี</a>, <a href=\"search/งานรื่นเริง\">งานรื่นเริง</a>, <b>Example:</b> เย็นนี้จะมีงานแต่งงานที่โรงแรมรีเจนท์ อย่าพยายามไปแถวนั้นเด็ดขาดรถติดแน่นอน, <b>Count Unit:</b> งาน, <b>Thai Definition:</b> การพิธีหรือการรื่นเริงที่คนมาชุมนุมกัน</td></tr><tr><td style=\"vertical-align:top;\" width=\"150\"><a href=\"search/งาน\" style=\"color: white\"><b>งา</b>น</a></td><td style=\"vertical-align:top;\">(n) task, <b>See also:</b> <a href=\"search/work\">work</a>, <a href=\"search/job\">job</a>, <b>Syn.</b> <a href=\"search/เรื่อง\">เรื่อง</a>, <a href=\"search/ผลงาน\">ผลงาน</a>, <a href=\"search/ชิ้นงาน\">ชิ้นงาน</a>, <b>Example:</b> เขาได้เขียนงานออกมาโดยได้รับความต้อนรับอย่างดีจากจิตแพทย์และนักจิตวิทยาทั่วไป, <b>Count Unit:</b> เรื่อง, ชิ้น, อัน, <b>Thai Definition:</b> สิ่งหรือเรื่องที่ทำ</td></tr><tr><td style=\"vertical-align:top;\" width=\"150\"><a href=\"search/งาบ\" style=\"color: white\"><b>งา</b>บ</a></td><td style=\"vertical-align:top;\">(v) snap, <b>See also:</b> <a href=\"search/catch something in one's mouth\">catch something in one's mouth</a>, <b>Syn.</b> <a href=\"search/งับ\">งับ</a>, <b>Thai Definition:</b> อาการที่อ้าปากคาบหรืองับ แล้วหุบปาก</td></tr><tr><td style=\"vertical-align:top;\" width=\"150\"><a href=\"search/งาบ\" style=\"color: white\"><b>งา</b>บ</a></td><td style=\"vertical-align:top;\">(v) filch, <b>See also:</b> <a href=\"search/pilfer\">pilfer</a>, <a href=\"search/swipe\">swipe</a>, <a href=\"search/pinch\">pinch</a>, <b>Example:</b> มีข่าวว่าผู้ตรวจฯ สมคบกับพวก งาบตึกงาบถนนหลายครั้งหลายหนจนจับได้, <b>Thai Definition:</b> เอาเป็นของตนเอง, ถือสิทธิ์เป็นเจ้าของ (มักใช้ในทางลบ)</td></tr><tr><td style=\"vertical-align:top;\" width=\"150\"><a href=\"search/งาบ\" style=\"color: white\"><b>งา</b>บ</a></td><td style=\"vertical-align:top;\">(v) snap, <b>See also:</b> <a href=\"search/catch something in one's mouth\">catch something in one's mouth</a>, <b>Syn.</b> <a href=\"search/งับ\">งับ</a>, <b>Thai Definition:</b> อาการที่อ้าปากคาบหรืองับ แล้วหุบปาก</td></tr><tr><td style=\"vertical-align:top;\" width=\"150\"><a href=\"search/งาบ\" style=\"color: white\"><b>งา</b>บ</a></td><td style=\"vertical-align:top;\">(v) filch, <b>See also:</b> <a href=\"search/pilfer\">pilfer</a>, <a href=\"search/swipe\">swipe</a>, <a href=\"search/pinch\">pinch</a>, <b>Example:</b> มีข่าวว่าผู้ตรวจฯ สมคบกับพวก งาบตึกงาบถนนหลายครั้งหลายหนจนจับได้, <b>Thai Definition:</b> เอาเป็นของตนเอง, ถือสิทธิ์เป็นเจ้าของ (มักใช้ในทางลบ)</td></tr><tr><td style=\"vertical-align:top;\" width=\"150\"><a href=\"search/งาบ\" style=\"color: white\"><b>งา</b>บ</a></td><td style=\"vertical-align:top;\">(v) filch, <b>See also:</b> <a href=\"search/pilfer\">pilfer</a>, <a href=\"search/swipe\">swipe</a>, <a href=\"search/pinch\">pinch</a>, <b>Example:</b> มีข่าวว่าผู้ตรวจฯ สมคบกับพวก งาบตึกงาบถนนหลายครั้งหลายหนจนจับได้, <b>Thai Definition:</b> เอาเป็นของตนเอง, ถือสิทธิ์เป็นเจ้าของ (มักใช้ในทางลบ)</td></tr><tr><td style=\"vertical-align:top;\" width=\"150\"><a href=\"search/งาบ\" style=\"color: white\"><b>งา</b>บ</a></td><td style=\"vertical-align:top;\">(v) snap, <b>See also:</b> <a href=\"search/catch something in one's mouth\">catch something in one's mouth</a>, <b>Syn.</b> <a href=\"search/งับ\">งับ</a>, <b>Thai Definition:</b> อาการที่อ้าปากคาบหรืองับ แล้วหุบปาก</td></tr></table><h5>ไทย-ไทย: พจนานุกรมฉบับราชบัณฑิตยสถาน พ.ศ. ๒๕๕๔<h5><table cellpadding=\"0\" cellspacing=\"0\" class=\"search-result-table\" width=\"100%\"><tr><td style=\"vertical-align:top;\" width=\"150\"><a href=\"search/งา ๑\" style=\"color: white\"><b>งา</b> ๑</a></td><td style=\"vertical-align:top;\">น. ชื่อไม้ล้มลุกชนิด &lt;i&gt; Sesamum orientale&lt;/i&gt; L. ในวงศ์ Pedaliaceae ผลเป็นฝัก มีเมล็ดเล็ก ๆ สีขาวหรือดำ ใช้ประกอบอาหารหรือสกัดนํ้ามัน.</td></tr><tr><td style=\"vertical-align:top;\" width=\"150\"><a href=\"search/งา ๒\" style=\"color: white\"><b>งา</b> ๒</a></td><td style=\"vertical-align:top;\">น. ฟันตัดแถวบนที่งอกออกจากปากช้าง, ลักษณนามเรียก กิ่ง.</td></tr><tr><td style=\"vertical-align:top;\" width=\"150\"><a href=\"search/งา ๓\" style=\"color: white\"><b>งา</b> ๓</a></td><td style=\"vertical-align:top;\">น. ส่วนหนึ่งของเครื่องดักสัตว์เช่นลอบหรือไซ ทำเป็นซี่ ๆ ปลายสอบเข้าหากันเพื่อไม่ให้ปลาที่เข้าไปแล้วออกมาได้.</td></tr><tr><td style=\"vertical-align:top;\" width=\"150\"><a href=\"search/งา ๔\" style=\"color: white\"><b>งา</b> ๔</a></td><td style=\"vertical-align:top;\">น. ชื่อปลานํ้ากร่อยหรือทะเลขนาดเล็กชนิด &lt;i&gt; Thryssa setirostris&lt;/i&gt; (Broussonet) ในวงศ์ Engraulidae กระดูกขากรรไกรบนโค้งยื่นยาวเป็นเส้นจดครีบท้องหรือครีบก้น ลำตัวยาว แบนข้าง ปากกว้าง เกล็ดที่สันท้องเป็นเหลี่ยมคมเรียงต่อกันคล้ายฟันเลื่อย พื้นลำตัวสีเงินอมเหลืองส้ม ขนาดยาวได้ถึง ๑๕ เซนติเมตร.</td></tr><tr><td style=\"vertical-align:top;\" width=\"150\"><a href=\"search/งากำจาย\" style=\"color: white\"><b>งา</b>กำจาย</a></td><td style=\"vertical-align:top;\">น. <b>งา</b>ช้างที่หักติดอยู่ในไม้หรือสิ่งอื่น ๆ.</td></tr><tr><td style=\"vertical-align:top;\" width=\"150\"><a href=\"search/งาช้าง ๑\" style=\"color: white\"><b>งา</b>ช้าง ๑</a></td><td style=\"vertical-align:top;\">น. ชื่อนํ้าเต้าพันธุ์หนึ่ง ผลยาวคล้าย<b>งา</b>ช้าง. &lt;i&gt; [ ดู นํ้าเต้า (๑) ]&lt;/i&gt;.</td></tr><tr><td style=\"vertical-align:top;\" width=\"150\"><a href=\"search/งาช้าง ๑\" style=\"color: white\"><b>งา</b>ช้าง ๑</a></td><td style=\"vertical-align:top;\">ชื่อไม้ล้มลุกชนิด &lt;i&gt; Sansevieria&lt;/i&gt;&lt;i&gt; cylindrica&lt;/i&gt; Bojer ในวงศ์ Dracaenaceae ใบกลมเป็นแท่ง สีเขียวเข้ม ใช้เป็นยาทำให้อาเจียน, ว่าน<b>งา</b>ช้าง ก็เรียก.</td></tr><tr><td style=\"vertical-align:top;\" width=\"150\"><a href=\"search/งาช้าง ๒\" style=\"color: white\"><b>งา</b>ช้าง ๒</a></td><td style=\"vertical-align:top;\">น. ชื่อหอยทะเลหลายชนิดในชั้น Scaphopoda เปลือกลักษณะคล้าย<b>งา</b>ช้าง ส่วนมากสีขาว เช่น ชนิด &lt;i&gt; Dentalium aprinum&lt;/i&gt;Linn&lt;i&gt; ., D. longitrorsum&lt;/i&gt;Reeve, ฟันช้าง ก็เรียก.</td></tr><tr><td style=\"vertical-align:top;\" width=\"150\"><a href=\"search/งาช้าง ๓\" style=\"color: white\"><b>งา</b>ช้าง ๓</a></td><td style=\"vertical-align:top;\">น. ชื่อหนึ่งของดาวฤกษ์เชษฐา มี ๑๔ ดวง, ดาวช้างใหญ่ ดาวคอนาค ดาวแพะ หรือ ดาวเชษฐะ ก็เรียก.</td></tr><tr><td style=\"vertical-align:top;\" width=\"150\"><a href=\"search/งาตัด\" style=\"color: white\"><b>งา</b>ตัด</a></td><td style=\"vertical-align:top;\">น. ชื่อขนมชนิดหนึ่ง ทำด้วย<b>งา</b>กวนกับนํ้าตาลแล้วตัดเป็นชิ้นสี่เหลี่ยมคล้ายข้าวพองในเครื่องจันอับ.</td></tr></table><h5>อังกฤษ-ไทย: ศัพท์บัญญัติราชบัณฑิตยสถาน [เชื่อมโยงจาก orst.go.th แบบอัตโนมัติและผ่านการปรับแก้]<h5><table cellpadding=\"0\" cellspacing=\"0\" class=\"search-result-table\" width=\"100%\"><tr><td style=\"vertical-align:top;\" width=\"150\"><a href=\"search/job\" style=\"color: white\">job</a></td><td style=\"vertical-align:top;\"><b>งา</b>น <font color=\"gray\">[คอมพิวเตอร์ ๑๙ มิ.ย. ๒๕๔๔]</font></td></tr><tr><td style=\"vertical-align:top;\" width=\"150\"><a href=\"search/job\" style=\"color: white\">job</a></td><td style=\"vertical-align:top;\"><b>งา</b>น <font color=\"gray\">[เทคโนโลยีสารสนเทศ ๑๑ มี.ค. ๒๕๔๕]</font></td></tr><tr><td style=\"vertical-align:top;\" width=\"150\"><a href=\"search/work\" style=\"color: white\">work</a></td><td style=\"vertical-align:top;\"><b>งา</b>น <font color=\"gray\">[นิติศาสตร์ ๑๑ มี.ค. ๒๕๔๕]</font></td></tr><tr><td style=\"vertical-align:top;\" width=\"150\"><a href=\"search/stained glass\" style=\"color: white\">stained glass</a></td><td style=\"vertical-align:top;\"><b>งา</b>นกระจกสี <font color=\"gray\">[ศิลปะ ๑๑ มี.ค. ๒๕๔๕]</font></td></tr><tr><td style=\"vertical-align:top;\" width=\"150\"><a href=\"search/glass craft\" style=\"color: white\">glass craft</a></td><td style=\"vertical-align:top;\"><b>งา</b>นช่างแก้วและกระจก <font color=\"gray\">[ศิลปะ ๑๑ มี.ค. ๒๕๔๕]</font></td></tr><tr><td style=\"vertical-align:top;\" width=\"150\"><a href=\"search/outside plant\" style=\"color: white\">outside plant</a></td><td style=\"vertical-align:top;\"><b>งา</b>นตอนนอก <font color=\"gray\">[เทคโนโลยีสารสนเทศ ๑๑ มี.ค. ๒๕๔๕]</font></td></tr><tr><td style=\"vertical-align:top;\" width=\"150\"><a href=\"search/work of necessity\" style=\"color: white\">work of necessity</a></td><td style=\"vertical-align:top;\"><b>งา</b>นที่จำเป็น <font color=\"gray\">[นิติศาสตร์ ๑๑ มี.ค. ๒๕๔๕]</font></td></tr><tr><td style=\"vertical-align:top;\" width=\"150\"><a href=\"search/ductwork\" style=\"color: white\">ductwork</a></td><td style=\"vertical-align:top;\"><b>งา</b>นท่อลม <font color=\"gray\">[ปรับอากาศ ๗ มี.ค. ๒๕๔๕]</font></td></tr><tr><td style=\"vertical-align:top;\" width=\"150\"><a href=\"search/post-painterly abstraction\" style=\"color: white\">post-painterly abstraction</a></td><td style=\"vertical-align:top;\"><b>งา</b>นนามธรรมเชิงฝีแปรงยุคหลัง <font color=\"gray\">[ศิลปะ ๑๑ มี.ค. ๒๕๔๕]</font></td></tr><tr><td style=\"vertical-align:top;\" width=\"150\"><a href=\"search/fake\" style=\"color: white\">fake</a></td><td style=\"vertical-align:top;\"><b>งา</b>นปลอม <font color=\"gray\">[ศิลปะ ๑๑ มี.ค. ๒๕๔๕]</font></td></tr></table><h5>อังกฤษ-ไทย: คลังศัพท์ไทย โดย สวทช.<h5><table cellpadding=\"0\" cellspacing=\"0\" class=\"search-result-table\" width=\"100%\"><tr><td style=\"vertical-align:top;\" width=\"150\"><a href=\"search/Anonymous classic\" style=\"color: white\">Anonymous classic</a></td><td style=\"vertical-align:top;\"><b>งา</b>นที่ไม่ปรากฏชื่อผู้แต่ง, หนังสือแบบฉบับที่ไม่มีชื่อผู้แต่ง <font color=\"gray\">[บรรณารักษ์และสารสนเทศศาสตร์]</font></td></tr><tr><td style=\"vertical-align:top;\" width=\"150\"><a href=\"search/Book fair\" style=\"color: white\">Book fair</a></td><td style=\"vertical-align:top;\"><b>งา</b>นแสดงหนังสือ, <b>งา</b>นนิทรรศการหนังสือ, <b>Example:</b> Book fair    หมายถึง   งานแสดงหนังสือ  หรือ  งานนิทรรศการหนังสือที่จัดขึ้นในโรงเรียนหรือสถาบันการศึกษาชั้นสูง  หรือในสถานที่ที่ทีประชาชนสามารถไปร่วมงานได้โดยสะดวก &lt;p&gt; ความมุ่งหมายของงานนิทรรศการหนังสือเพื่อแสดงหนังสือใหม่ เพื่อเร้าใจให้ผู้ชมเกิดความสนใจในหนังสือได้รู้จักหนังสือใหม่ และอยากอ่านหนังสือต่างๆ มากยิ่งขึ้น อันจะเป็นการสร้างนิสัยรักการอ่านและการเรียนรู้ต่อเนื่องให้เกิดกับผู้ชมต่อไป นอกจากนั้นในงานอาจมีการจำหน่ายหนังสือใหม่ และมีกิจกรรมอื่น ๆ ประกอบ   เช่น การสนทนา การอภิปราย การโต้วาที การสาธิต การแสดงละคร   การเล่าเรื่องหนังสือ   เกมและการแข่งขันต่าง ๆ การทายปัญหา ฯลฯ นอกจากนั้นยังมีงานนิทรรศการหนังสือที่จัดขึ้นเป็นประจำทุกปีโดยสำนักพิมพ์  ผู้ผลิตหนังสือ    และร้านหนังสือร่วมออกร้านเป็นจำนวนมาก  เช่น งานสัปดาห์หนังสือแห่งชาติ งานนิทรรศการหนังสือแฟรงค์เฟิร์ต   ที่เป็นแหล่งตลาดสำคัญสำหรับสำนักพิมพ์ที่ต้องการซื้อและขายลิขสิทธิ์ในทรัพย์สินทางปัญญา   สิทธิในการแปลและเอกสิทธิ์อื่น ๆ ให้กับต่างประเทศ      <font color=\"gray\">[บรรณารักษ์และสารสนเทศศาสตร์]</font></td></tr><tr><td style=\"vertical-align:top;\" width=\"150\"><a href=\"search/Processing (Libraries)\" style=\"color: white\">Processing (Libraries)</a></td><td style=\"vertical-align:top;\"><b>งา</b>นเทคนิค (ห้องสมุด) <font color=\"gray\">[บรรณารักษ์และสารสนเทศศาสตร์]</font></td></tr><tr><td style=\"vertical-align:top;\" width=\"150\"><a href=\"search/พระราชกรณียกิจ\" style=\"color: white\">พระราชกรณียกิจ</a></td><td style=\"vertical-align:top;\"><b>งา</b>นที่พระเจ้าแผ่นดินทรงกระทำ <font color=\"gray\">[ศัพท์พระราชพิธี]</font></td></tr><tr><td style=\"vertical-align:top;\" width=\"150\"><a href=\"search/Assembly line work\" style=\"color: white\">Assembly line work</a></td><td style=\"vertical-align:top;\"><b>งา</b>นผลิตแบบสายการประกอบ <font color=\"gray\">[เศรษฐศาสตร์]</font></td></tr><tr><td style=\"vertical-align:top;\" width=\"150\"><a href=\"search/Application\" style=\"color: white\">Application</a></td><td style=\"vertical-align:top;\"><b>งา</b>นประยุกต์, <b>Example:</b> โปรแกรมที่ใช้ทำงานที่เราต้องการ งานหรือโปรแกรมประยุกต์ที่มีใ่ช้อยู่ในเวลานี้อาจจะได้มาจากการพัฒนาขึ้นใช้เองภายในหน่วยงาน หรืออาจจะซื้อโปรแกรมที่ผู้อื่นเขาทำเสร็จแล้วมาใช้ก็ได้ <font color=\"gray\">[คอมพิวเตอร์]</font></td></tr><tr><td style=\"vertical-align:top;\" width=\"150\"><a href=\"search/Job\" style=\"color: white\">Job</a></td><td style=\"vertical-align:top;\"><b>งา</b>น <font color=\"gray\">[คอมพิวเตอร์]</font></td></tr><tr><td style=\"vertical-align:top;\" width=\"150\"><a href=\"search/Electric welding\" style=\"color: white\">Electric welding</a></td><td style=\"vertical-align:top;\"><b>งา</b>นเชื่อมไฟฟ้า <font color=\"gray\">[วิทยาศาสตร์และเทคโนโลยี]</font></td></tr><tr><td style=\"vertical-align:top;\" width=\"150\"><a href=\"search/Oxyacetylene welding and cutting\" style=\"color: white\">Oxyacetylene welding and cutting</a></td><td style=\"vertical-align:top;\"><b>งา</b>นเชื่อมและตัดด้วยออกซีอะเซทิลีน <font color=\"gray\">[วิทยาศาสตร์และเทคโนโลยี]</font></td></tr><tr><td style=\"vertical-align:top;\" width=\"150\"><a href=\"search/Technical services (Libraries)\" style=\"color: white\">Technical services (Libraries)</a></td><td style=\"vertical-align:top;\"><b>งา</b>นเทคนิค (ห้องสมุด) <font color=\"gray\">[บรรณารักษ์และสารสนเทศศาสตร์]</font></td></tr></table><h5>Thai-English-French: Volubilis Dictionary 1.0<h5><table cellpadding=\"0\" cellspacing=\"0\" class=\"search-result-table\" width=\"100%\"><tr><td style=\"vertical-align:top;\" width=\"150\"><a href=\"search/งา\" style=\"color: white\"><b>งา</b></a></td><td>[ngā] (n) <b>EN:</b> ivory  <b>FR:</b> ivoire [ m ]</td></tr><tr><td style=\"vertical-align:top;\" width=\"150\"><a href=\"search/งา\" style=\"color: white\"><b>งา</b></a></td><td>[ngā] (n) <b>EN:</b> tusk  <b>FR:</b> défense (d'éléphant)</td></tr><tr><td style=\"vertical-align:top;\" width=\"150\"><a href=\"search/งา\" style=\"color: white\"><b>งา</b></a></td><td>[ngā] (n) <b>EN:</b> sesame ; sesame seed ; benne ; benny ; bene  <b>FR:</b> sésame [ m ]</td></tr><tr><td style=\"vertical-align:top;\" width=\"150\"><a href=\"search/งา\" style=\"color: white\"><b>งา</b></a></td><td>[ngā] (n) <b>EN:</b> barbs in a fish trap</td></tr><tr><td style=\"vertical-align:top;\" width=\"150\"><a href=\"search/งาช้าง\" style=\"color: white\"><b>งา</b>ช้าง</a></td><td>[ngā chāng] (n, exp) <b>EN:</b> elephant tusk  <b>FR:</b> défense d'éléphant [ f ]</td></tr><tr><td style=\"vertical-align:top;\" width=\"150\"><a href=\"search/งาตัด\" style=\"color: white\"><b>งา</b>ตัด</a></td><td>[ngātat] (n) <b>EN:</b> sesame brittle ; sesame bar</td></tr><tr><td style=\"vertical-align:top;\" width=\"150\"><a href=\"search/งาน\" style=\"color: white\"><b>งา</b>น</a></td><td>[ngān] (n) <b>EN:</b> work ; job ; task ; labour ; employment ; function ; duty ; business  <b>FR:</b> travail [ m ] ; occupation [ f ] ; emploi [ m ] ; activité [ f ] ; boulot (fam.) [ m ] ; job (fam.) [ m ] ; tâche [ f ] ; business [ m ] (fam.)</td></tr><tr><td style=\"vertical-align:top;\" width=\"150\"><a href=\"search/งาน\" style=\"color: white\"><b>งา</b>น</a></td><td>[ngān] (n) <b>EN:</b> festivity ; party ; celebration ; feast ; fair ; festival ; event ; meeting ; gathering  <b>FR:</b> fête [ f ] ; festivité [ f ] ; réception [ f ] ; événement [ m ] ; évènement [ m ]</td></tr><tr><td style=\"vertical-align:top;\" width=\"150\"><a href=\"search/งาน\" style=\"color: white\"><b>งา</b>น</a></td><td>[ngān] (n) <b>EN:</b> ngan (area equal to a quarter of arai or 400 square meters)  <b>FR:</b> ngan [ m ] (unité de surface équivalant à un quart de rai ou 400 mètres carrés)</td></tr><tr><td style=\"vertical-align:top;\" width=\"150\"><a href=\"search/งานกรีฑา\" style=\"color: white\"><b>งา</b>นกรีฑา</a></td><td>[ngān krīthā] (n, exp) <b>EN:</b> athletic meeting ; sports meeting  <b>FR:</b> réunion d'athlétisme [ f ] ; meeting (d'athlétisme) [ m ]</td></tr></table><h5>English-Thai: Longdo Dictionary<h5><table cellpadding=\"0\" cellspacing=\"0\" class=\"search-result-table\" width=\"100%\"><tr><td style=\"vertical-align:top;\" width=\"150\"><a href=\"search/PHP\" style=\"color: white\">PHP</a></td><td style=\"vertical-align:top;\">(n) ภาษาคอมพิวเตอร์ภาษาหนึ่ง (เป็นแบบ intepreter) เป็นที่นิยมใช้กันมาก โดยเฉพาะใน<b>งา</b>นพัฒนาเว็บ แต่ก็สามารถใช้ใน<b>งา</b>นอื่นๆ ได้ รายละเอียดเพิ่มเติมดูได้ที่ http://www.php.net</td></tr><tr><td style=\"vertical-align:top;\" width=\"150\"><a href=\"search/collaborative\" style=\"color: white\">collaborative</a></td><td style=\"vertical-align:top;\">(adj) ทำด้วยความร่วมมือกันจากหลายคน หรือ หลายฝ่าย มีการช่วยเหลือกัน เพื่อให้<b>งา</b>นเสร็จสิ้น</td></tr><tr><td style=\"vertical-align:top;\" width=\"150\"><a href=\"search/FAA\" style=\"color: white\">FAA</a></td><td style=\"vertical-align:top;\">(abbrev) สำนัก<b>งา</b>นบริหารการบินแห่งชาติของสหรัฐ ย่อมาจาก Federal Aviation Administration</td></tr><tr><td style=\"vertical-align:top;\" width=\"150\"><a href=\"search/coordinate\" style=\"color: white\">coordinate</a></td><td style=\"vertical-align:top;\">(v) ประสาน<b>งา</b>น</td></tr><tr><td style=\"vertical-align:top;\" width=\"150\"><a href=\"search/nonfunctional\" style=\"color: white\">nonfunctional</a></td><td style=\"vertical-align:top;\">(adj) เสีย, ไม่ทำ<b>งา</b>น, ใช้การไม่ได้</td></tr><tr><td style=\"vertical-align:top;\" width=\"150\"><a href=\"search/fuel cell\" style=\"color: white\">fuel cell</a></td><td style=\"vertical-align:top;\">(n) เซลกำเนิดไฟฟ้า โดยอาศัยปฏิกิริยาเคมี ระหว่างออกซิเจน กับ ไฮโดรเจน ซึ่งเมื่อรวมตัวกันแล้วจะได้น้ำ และพลัง<b>งา</b>นออกมา คาดกันว่าจะนำมาใช้อย่างแพร่หลาย สำหรับเป็นแหล่งพลัง<b>งา</b>นของรถยนต์ไฟฟ้า และเครื่องคอมพิวเตอร์กระเป๋าหิ้ว หรืออุปกรณ์อิเลคโทรนิกส์ต่างๆ โดยสามารถเติมพลัง<b>งา</b>นในรูปแบบของการเติมไฮโดรเจนที่ปั้ม หรือซื้อไฮโดรเจนกระป๋องสำหรับอุปกรณ์นั้นๆมาเปลี่ยน (สิงหาคม 2546)</td></tr><tr><td style=\"vertical-align:top;\" width=\"150\"><a href=\"search/She retired at age 65.\" style=\"color: white\">She retired at age 65.</a></td><td style=\"vertical-align:top;\">(phrase) เธอเกษียณอายุตัวเอง (หยุดทำ<b>งา</b>นที่ทำอยู่ประจำ) เมื่ออายุ 65 ปี</td></tr><tr><td style=\"vertical-align:top;\" width=\"150\"><a href=\"search/silver wedding\" style=\"color: white\">silver wedding</a></td><td style=\"vertical-align:top;\">(n) การแต่ง<b>งา</b>นที่ผ่านไป 25 ปี</td></tr><tr><td style=\"vertical-align:top;\" width=\"150\"><a href=\"search/deploy\" style=\"color: white\">deploy</a></td><td style=\"vertical-align:top;\">(vt) แปรแถวตอนเป็นแถวหน้ากระดาน(ทางทหาร), เคลื่อนกำลังพลพร้อมอาวุธไปอยู่ในตำแหน่งที่พร้อมจะต่อสู้ (ทางทหาร), การตั้งแถวเตรียมตัวออกรบ, จัดเพื่อใช้<b>งา</b>น</td></tr><tr><td style=\"vertical-align:top;\" width=\"150\"><a href=\"search/bucket shop\" style=\"color: white\">bucket shop</a></td><td style=\"vertical-align:top;\">(n, slang) ร้านค้าหรือสำนัก<b>งา</b>นที่ขายตั๋วเครื่องบินราคาถูก</td></tr></table><h5>English-Thai: NECTEC's Lexitron-2 Dictionary [with local updates]<h5><table cellpadding=\"0\" cellspacing=\"0\" class=\"search-result-table\" width=\"100%\"><tr><td style=\"vertical-align:top;\" width=\"150\"><a href=\"search/accomplishment\" style=\"color: white\">accomplishment</a></td><td style=\"vertical-align:top;\">(n) <b>งา</b>นที่ทำสำเร็จ, <b>Syn.</b> <a href=\"search/achievement\">achievement</a></td></tr><tr><td style=\"vertical-align:top;\" width=\"150\"><a href=\"search/aesthetic\" style=\"color: white\">aesthetic</a></td><td style=\"vertical-align:top;\">(adj) <b>งา</b>ม, <b>See also:</b> <a href=\"search/สวยงาม\">สวยงาม</a>, <b>Syn.</b> <a href=\"search/beautiful\">beautiful</a>, <a href=\"search/pleasing\">pleasing</a></td></tr><tr><td style=\"vertical-align:top;\" width=\"150\"><a href=\"search/analects\" style=\"color: white\">analects</a></td><td style=\"vertical-align:top;\">(n) <b>งา</b>นกวีนิพนธ์สั้น ๆ, <b>Syn.</b> <a href=\"search/analecta\">analecta</a></td></tr><tr><td style=\"vertical-align:top;\" width=\"150\"><a href=\"search/appointment\" style=\"color: white\">appointment</a></td><td style=\"vertical-align:top;\">(n) ตำแหน่ง, <b>See also:</b> <a href=\"search/งาน\">งาน</a>, <b>Syn.</b> <a href=\"search/position\">position</a>, <a href=\"search/post\">post</a></td></tr><tr><td style=\"vertical-align:top;\" width=\"150\"><a href=\"search/architecture\" style=\"color: white\">architecture</a></td><td style=\"vertical-align:top;\">(n) สถาปัตยกรรม, <b>See also:</b> <a href=\"search/งานสถาปัตยกรรม\">งานสถาปัตยกรรม</a></td></tr><tr><td style=\"vertical-align:top;\" width=\"150\"><a href=\"search/assignment\" style=\"color: white\">assignment</a></td><td style=\"vertical-align:top;\">(n) <b>งา</b>น, <b>See also:</b> <a href=\"search/งานที่ได้รับมอบหมาย\">งานที่ได้รับมอบหมาย</a>, <b>Syn.</b> <a href=\"search/task\">task</a>, <a href=\"search/responsibility\">responsibility</a>, <a href=\"search/job\">job</a></td></tr><tr><td style=\"vertical-align:top;\" width=\"150\"><a href=\"search/avocation\" style=\"color: white\">avocation</a></td><td style=\"vertical-align:top;\">(n) <b>งา</b>นอดิเรก, <b>See also:</b> <a href=\"search/งานว่าง\">งานว่าง</a>, <b>Syn.</b> <a href=\"search/hobby\">hobby</a></td></tr><tr><td style=\"vertical-align:top;\" width=\"150\"><a href=\"search/bacchanal\" style=\"color: white\">bacchanal</a></td><td style=\"vertical-align:top;\">(n) <b>งา</b>นเลี้ยงฉลองเทพเจ้าแบ็กคัส, <b>See also:</b> <a href=\"search/เทพแห่งเหล้าองุ่น&amp;ความอุดมสมบูรณ์\">เทพแห่งเหล้าองุ่น&amp;ความอุดมสมบูรณ์</a>, <b>Syn.</b> <a href=\"search/carnival\">carnival</a>, <a href=\"search/celebration\">celebration</a></td></tr><tr><td style=\"vertical-align:top;\" width=\"150\"><a href=\"search/backlog\" style=\"color: white\">backlog</a></td><td style=\"vertical-align:top;\">(n) <b>งา</b>นคั่งค้าง, <b>See also:</b> <a href=\"search/งานที่ยังทำไม่เสร็จ\">งานที่ยังทำไม่เสร็จ</a>, <b>Syn.</b> <a href=\"search/accumulation\">accumulation</a>, <a href=\"search/reserve\">reserve</a></td></tr><tr><td style=\"vertical-align:top;\" width=\"150\"><a href=\"search/ball\" style=\"color: white\">ball</a></td><td style=\"vertical-align:top;\">(n) <b>งา</b>นบอล, <b>See also:</b> <a href=\"search/งานเลี้ยง\">งานเลี้ยง</a>, <b>Syn.</b> <a href=\"search/party\">party</a>, <a href=\"search/promenade\">promenade</a></td></tr></table><h5>English-Thai: HOPE Dictionary [with local updates]<h5><table cellpadding=\"0\" cellspacing=\"0\" class=\"search-result-table\" width=\"100%\"><tr><td style=\"vertical-align:top;\" width=\"150\"><a href=\"search/abc\" style=\"color: white\">abc</a></td><td style=\"vertical-align:top;\">(เอบีซี) ย่อมาจาก Atanasoff-Berry Computer ว่ากันว่า เป็นชื่อเครื่องคอมพิวเตอร์อิเล็กทรอนิกส์เครื่องแรกของโลก (หนังสือบางเล่มว่า เครื่องคอมพิวเตอร์เครื่องแรกของโลกมีชื่อว่า ENIAC) ศาสตราจารย์ John Atanasoff แห่งมหาวิทยาลัยไอโอวา และ Clifford Berry เป็นผู้ประดิษฐ์เครื่องเอบีซีนี้เมื่อราวทศวรรษ 1940 ABEND การหยุด<b>งา</b>นผิดปกติ &lt;คำแปล&gt;ย่อมาจาก abnormal end of task หมายถึงการหยุด<b>งา</b>นที่เกิดขึ้นโดยที่ไม่ได้มีคำสั่งให้หยุดในโปรแกรมหรือชุดคำสั่งมักจะเกิดขึ้น เมื่อเครื่องคอมพิวเตอร์ถูกสั่งให้ปฏิบัติ<b>งา</b>นหนึ่ง<b>งา</b>นใด แล้วไม่ยอมปฏิบัติ อาจจะเป็นเพราะเครื่องเสีย หรือโปรแกรมผิดพลาด</td></tr><tr><td style=\"vertical-align:top;\" width=\"150\"><a href=\"search/accelerator board\" style=\"color: white\">accelerator board</a></td><td style=\"vertical-align:top;\">แผ่นวงจรเร่งความเร็วหมายถึงแผ่นวงจรพิเศษ ที่เมื่อนำมาเสียบเข้ากับเครื่องคอมพิวเตอร์แล้ว จะมีผลทำให้เครื่องคอมพิวเตอร์ทำ<b>งา</b>นได้เร็วขึ้น แผ่นวงจรประเภทนี้จะมีตัวประมวลผล (processor) ที่ทำ<b>งา</b>นเร็วกว่าตัวประมวลผลเดิม</td></tr><tr><td style=\"vertical-align:top;\" width=\"150\"><a href=\"search/accessories\" style=\"color: white\">accessories</a></td><td style=\"vertical-align:top;\">โปรแกรมประกอบหมายถึงโปรแกรมต่าง ๆ ที่โปรแกรมระบบเตรียมให้มาไว้ใช้เป็นโปรแกรมประกอบ หรือโปรแกรมที่จะช่วยอำนวยความสะดวกในการใช้<b>งา</b>น เช่น โปรแกรมประกอบของโปรแกรม ระบบวินโดว์ 95 หรือ 98 จะมีโปรแกรม NotePad, Paint, WordPad , Multimedia, Calculator เป็นต้น</td></tr><tr><td style=\"vertical-align:top;\" width=\"150\"><a href=\"search/account\" style=\"color: white\">account</a></td><td style=\"vertical-align:top;\">(อะเคานทฺ') n., vi. บัญชี, หนี้, ราย<b>งา</b>น, สาเหตุ, คำอธิบาย, เรื่องราว, ลูกค้า, ทำบัญชี, ชี้แจงรายการ, อธิบาย, จับ, สังหาร, ทำให้เกิด, นับ, พิจารณา, ถือเหตุ, ถือสา, <b>Syn.</b> description, narrative, consider, regard, rate</td></tr><tr><td style=\"vertical-align:top;\" width=\"150\"><a href=\"search/accountable\" style=\"color: white\">accountable</a></td><td style=\"vertical-align:top;\">(อะเคา' ทะเบิล) adj. ซึ่งต้องราย<b>งา</b>นหรืออธิบาย, ซึ่งรับผิดชอบ, สามารถอธิบายได้, <b>Syn.</b> responsible, liable</td></tr><tr><td style=\"vertical-align:top;\" width=\"150\"><a href=\"search/acetone\" style=\"color: white\">acetone</a></td><td style=\"vertical-align:top;\">(แอส' ซิโทน) chem. ของเหลวระเหยและติดไฟ ใช้ในการทำสีและยาชักเ<b>งา</b> (CH3) 2CO</td></tr><tr><td style=\"vertical-align:top;\" width=\"150\"><a href=\"search/active window\" style=\"color: white\">active window</a></td><td style=\"vertical-align:top;\">วินโดว์ที่กำลังใช้<b>งา</b>นหมายถึง วินโดว์ที่กำลังใช้อยู่ หรืออาจพูดให้เข้าใจง่าย ๆ ได้ว่า เป็นวินโดว์ที่มีโปรแกรมที่กำลังเปิดใช้อยู่ หรืออยู่หน้าวินโดว์อื่น ๆ วินโดว์นี้ จะเป็นวินโดว์ที่ตอบสนองการสั่ง<b>งา</b>นทุกอย่าง ถ้าบนจอภาพมีวินโดว์แสดงอยู่มากกว่าหนึ่งวินโดว์ จะมีวินโดว์ใช้<b>งา</b>นอยู่เพียงวินโดว์เดียว นอกนั้นเป็นวินโดว์ที่ไม่ได้ใช้<b>งา</b>น (non-active window) โดยปกติแล้ว ถ้าเป็นระบบไมโครซอฟต์ วินโดว์ของพีซี (PC) ผู้ใช้คอมพิวเตอร์จะทราบว่า วินโดว์ ไหนเป็นวินโดว์ใช้<b>งา</b>น โดยดูที่แถบชื่อ (title bar) ถ้าวินโดว์ ใดมีแถบชื่อที่สีต่างกว่าวินโดว์อื่น วินโดว์นั้นจะเป็นวินโดว์ที่ใช้<b>งา</b>นอยู่ ถ้าเป็นเครื่องแมคอินทอช วินโดว์ใช้<b>งา</b>นจะมีเส้นหลาย ๆ เส้น ในช่องแถบชื่อนั้น ส่วนวินโดว์ที่ยังไม่ใช้<b>งา</b>นแถบชื่อจะว่างเปล่า</td></tr><tr><td style=\"vertical-align:top;\" width=\"150\"><a href=\"search/actuary\" style=\"color: white\">actuary</a></td><td style=\"vertical-align:top;\">(แอค' ชูเออรี) n., (pl. -ries) พนัก<b>งา</b>นค่าสถิติประกันภัย, พนัก<b>งา</b>น, เสมียน. -actuarial adj., -actuarian n. (registrar)</td></tr><tr><td style=\"vertical-align:top;\" width=\"150\"><a href=\"search/ada\" style=\"color: white\">ada</a></td><td style=\"vertical-align:top;\">(เอดา) เป็นชื่อของภาษาคอมพิวเตอร์ระดับสูงภาษาหนึ่ง ใช้เป็นภาษามาตรฐานสำหรับ<b>งา</b>นเขียนโปรแกรมของกิจการทหารของสหรัฐมาก่อน ผู้คิดภาษานี้ตั้งชื่อว่า Ada เพื่อเป็นเกียรติแก่ Lady Ada Augusta Lovelace ซึ่งเป็นชื่อสตรีผู้คิดทำโปรแกรมคอมพิวเตอร์เป็นคนแรกในโลก ในช่วงคริสศตวรรษ 1800</td></tr><tr><td style=\"vertical-align:top;\" width=\"150\"><a href=\"search/adonis\" style=\"color: white\">adonis</a></td><td style=\"vertical-align:top;\">(อะโด' นิส) หนุ่มรูป<b>งา</b>ม, ชื่อเทพบุตรของกรีก (a very handsome young man)</td></tr></table><h5>English-Thai: Nontri Dictionary<h5><table cellpadding=\"0\" cellspacing=\"0\" class=\"search-result-table\" width=\"100%\"><tr><td style=\"vertical-align:top;\" width=\"150\"><a href=\"search/accountable\" style=\"color: white\">accountable</a></td><td style=\"vertical-align:top;\">(adj) ซึ่งต้องราย<b>งา</b>น, ซึ่งรับผิดชอบ, ซึ่งอธิบายได้</td></tr><tr><td style=\"vertical-align:top;\" width=\"150\"><a href=\"search/activity\" style=\"color: white\">activity</a></td><td style=\"vertical-align:top;\">(n) กิจกรรม, การ<b>งา</b>น</td></tr><tr><td style=\"vertical-align:top;\" width=\"150\"><a href=\"search/adumbrate\" style=\"color: white\">adumbrate</a></td><td style=\"vertical-align:top;\">(vt) ทอดเ<b>งา</b>, แลเ<b>งา</b>, วาดโครงร่าง</td></tr><tr><td style=\"vertical-align:top;\" width=\"150\"><a href=\"search/aesthetic\" style=\"color: white\">aesthetic</a></td><td style=\"vertical-align:top;\">(adj) เกี่ยวกับความสวย<b>งา</b>ม, เกี่ยวกับสุนทรียศาสตร์</td></tr><tr><td style=\"vertical-align:top;\" width=\"150\"><a href=\"search/affair\" style=\"color: white\">affair</a></td><td style=\"vertical-align:top;\">(n) กิจ, ธุระ, ธุรกิจ, การ<b>งา</b>น, ราชการ, เรื่องรักๆใคร่ๆ</td></tr><tr><td style=\"vertical-align:top;\" width=\"150\"><a href=\"search/agency\" style=\"color: white\">agency</a></td><td style=\"vertical-align:top;\">(n) ตัวแทน, ผู้แทน, องค์การ, หน่วย<b>งา</b>นราชการ, การกระทำ</td></tr><tr><td style=\"vertical-align:top;\" width=\"150\"><a href=\"search/alluring\" style=\"color: white\">alluring</a></td><td style=\"vertical-align:top;\">(adj) ล่อใจ, ยั่วยวน, ดึงดูดใจ, มีเสน่ห์, งด<b>งา</b>ม</td></tr><tr><td style=\"vertical-align:top;\" width=\"150\"><a href=\"search/angelic\" style=\"color: white\">angelic</a></td><td style=\"vertical-align:top;\">(adj) เกี่ยวกับเทวทูต, เกี่ยวกับเทพธิดา, ดี<b>งา</b>ม</td></tr><tr><td style=\"vertical-align:top;\" width=\"150\"><a href=\"search/applicant\" style=\"color: white\">applicant</a></td><td style=\"vertical-align:top;\">(n) ผู้สมัคร<b>งา</b>น, ผู้ขอ</td></tr><tr><td style=\"vertical-align:top;\" width=\"150\"><a href=\"search/application\" style=\"color: white\">application</a></td><td style=\"vertical-align:top;\">(n) ใบสมัคร<b>งา</b>น, การสมัคร<b>งา</b>น, คำร้องขอ, การแสดงความจำนง</td></tr></table><h5>English-Thai: Longdo Dictionary (UNAPPROVED version -- use with care )   **ระวัง คำแปลอาจมีข้อผิดพลาด**<h5><table cellpadding=\"0\" cellspacing=\"0\" class=\"search-result-table\" width=\"100%\"><tr><td style=\"vertical-align:top;\" width=\"150\"><a href=\"search/diptych\" style=\"color: white\">diptych</a></td><td style=\"vertical-align:top;\"><b>งา</b>นศิลปะแบบหนึ่งที่ประกอบด้วยแผ่นแกะสลักสองแผ่นซึ่งสามารถพับได้, กระดานเขียนโบราณ มีสองแผ่น สามารถพับได้, สมุดที่หน้าหนึ่งจารึกชื่อคนตาย อีกหน้าคือนักบวชและผู้มีพระคุณในโบสถ์ที่ล่วงลับไปแล้ว</td></tr><tr><td style=\"vertical-align:top;\" width=\"150\"><a href=\"search/engraving\" style=\"color: white\">engraving</a></td><td style=\"vertical-align:top;\">(n) <b>งา</b>นภาพพิมพ์จากแม่พิมพ์แกะสลัก</td></tr><tr><td style=\"vertical-align:top;\" width=\"150\"><a href=\"search/fair\" style=\"color: white\">fair</a></td><td style=\"vertical-align:top;\">[แฟร์] (n) <b>งา</b>นแฟร์, <b>งา</b>นออกร้านแสดงสินค้า, <b>งา</b>นวัด</td></tr><tr><td style=\"vertical-align:top;\" width=\"150\"><a href=\"search/folklore program\" style=\"color: white\">folklore program</a></td><td style=\"vertical-align:top;\"><b>งา</b>นแสดงศิลปวัฒนธรรมพื้นฐาน</td></tr><tr><td style=\"vertical-align:top;\" width=\"150\"><a href=\"search/funfair\" style=\"color: white\">funfair</a></td><td style=\"vertical-align:top;\">(n) <b>งา</b>นวัด, <b>งา</b>นรื่นเริงซึ่งจัดกลางแจ้งมีเครื่องเล่นและเกมต่างๆมากมาย</td></tr><tr><td style=\"vertical-align:top;\" width=\"150\"><a href=\"search/Giornata\" style=\"color: white\">Giornata</a></td><td style=\"vertical-align:top;\">[จอร์นาตา] (n) <b>งา</b>นเขียนบนปูนเปียกที่เขียนเสร็จในแต่ละวัน (เกี่ยวกับวิธีเขียนจิตรกรรมฝาผนัง), <b>See also:</b> Buon fresco</td></tr><tr><td style=\"vertical-align:top;\" width=\"150\"><a href=\"search/hobbies\" style=\"color: white\">hobbies</a></td><td style=\"vertical-align:top;\">(adj) <b>งา</b>นอดิเรก</td></tr><tr><td style=\"vertical-align:top;\" width=\"150\"><a href=\"search/Hot Work\" style=\"color: white\">Hot Work</a></td><td style=\"vertical-align:top;\">(n) <b>งา</b>นที่ทำให้เกิดความร้อนหรือประกายไฟ</td></tr><tr><td style=\"vertical-align:top;\" width=\"150\"><a href=\"search/HotJobs\" style=\"color: white\">HotJobs</a></td><td style=\"vertical-align:top;\">[ฮอทจ๊อบ] <b>งา</b>นน่าสนใจ, <b>งา</b>นด่วน</td></tr><tr><td style=\"vertical-align:top;\" width=\"150\"><a href=\"search/househoid\" style=\"color: white\">househoid</a></td><td style=\"vertical-align:top;\"><b>งา</b>นบ้าน</td></tr></table><h5>Japanese-Thai: Longdo Dictionary<h5><table cellpadding=\"0\" cellspacing=\"0\" class=\"search-result-table\" width=\"100%\"><tr><td style=\"vertical-align:top;\" width=\"150\"><a href=\"search/家事\" style=\"color: white\">家事</a></td><td style=\"vertical-align:top;\">[かじ, kaji] (n) <b>งา</b>นบ้าน</td></tr><tr><td style=\"vertical-align:top;\" width=\"150\"><a href=\"search/忘年会\" style=\"color: white\">忘年会</a></td><td style=\"vertical-align:top;\">[ぼうねんかい, bounenkai] (n) <b>งา</b>นเลี้ยงส่งท้ายปีเก่า</td></tr><tr><td style=\"vertical-align:top;\" width=\"150\"><a href=\"search/急用\" style=\"color: white\">急用</a></td><td style=\"vertical-align:top;\">[きゅうよう, kyuuyou] (n) <b>งา</b>นเร่งด่วน</td></tr><tr><td style=\"vertical-align:top;\" width=\"150\"><a href=\"search/慰労会\" style=\"color: white\">慰労会</a></td><td style=\"vertical-align:top;\">[いろうかい, iroukai] (n) <b>งา</b>นเลี้ยงขอบคุณ</td></tr><tr><td style=\"vertical-align:top;\" width=\"150\"><a href=\"search/新年会\" style=\"color: white\">新年会</a></td><td style=\"vertical-align:top;\">[しんねんかい, shinnenkai] (n) <b>งา</b>นเลี้ยงปีใหม่</td></tr><tr><td style=\"vertical-align:top;\" width=\"150\"><a href=\"search/新車初公開\" style=\"color: white\">新車初公開</a></td><td style=\"vertical-align:top;\">[しんしゃはつこうかい, shinshahatsukoukai] (n, uniq) <b>งา</b>นเปิดตัวรถรุ่นใหม่, <b>Syn.</b> <a href=\"search/新車発表会\">新車発表会</a></td></tr><tr><td style=\"vertical-align:top;\" width=\"150\"><a href=\"search/新車発表会\" style=\"color: white\">新車発表会</a></td><td style=\"vertical-align:top;\">[しんしゃはっぴょうかい, shinshahappyoukai] (n, uniq) <b>งา</b>นเปิดตัวรถรุ่นใหม่, <b>Syn.</b> <a href=\"search/新車初公開\">新車初公開</a></td></tr><tr><td style=\"vertical-align:top;\" width=\"150\"><a href=\"search/日常業務\" style=\"color: white\">日常業務</a></td><td style=\"vertical-align:top;\">[にちじょうぎょうむ, nichijougyoumu] (n) <b>งา</b>นประจำ routine work</td></tr><tr><td style=\"vertical-align:top;\" width=\"150\"><a href=\"search/胡麻\" style=\"color: white\">胡麻</a></td><td style=\"vertical-align:top;\">[ごま] (n) <b>งา</b> เมล็ด<b>งา</b></td></tr><tr><td style=\"vertical-align:top;\" width=\"150\"><a href=\"search/表面処理\" style=\"color: white\">表面処理</a></td><td style=\"vertical-align:top;\">[ひょうめん処理, hyoumen shori] (n) <b>งา</b>นชุบผิวโลหะ ( <b>งา</b>น surface treatment )</td></tr></table><h5>Japanese-Thai: Longdo Dictionary (UNAPPROVED version -- use with care )   **ระวัง คำแปลอาจมีข้อผิดพลาด**<h5><table cellpadding=\"0\" cellspacing=\"0\" class=\"search-result-table\" width=\"100%\"><tr><td style=\"vertical-align:top;\" width=\"150\"><a href=\"search/定形業務\" style=\"color: white\">定形業務</a></td><td style=\"vertical-align:top;\">[ていけいぎょうむ, teikeigyoumu] (n) <b>งา</b>นประจำ routine work</td></tr><tr><td style=\"vertical-align:top;\" width=\"150\"><a href=\"search/アルバイト\" style=\"color: white\">アルバイト</a></td><td style=\"vertical-align:top;\">[あるばいと, arubaito] (n) <b>งา</b>นพิเศษ, <b>งา</b>นนอกเวลา</td></tr><tr><td style=\"vertical-align:top;\" width=\"150\"><a href=\"search/パーティー\" style=\"color: white\">パーティー</a></td><td style=\"vertical-align:top;\">[あるばいと, pa^tei^] (n) <b>งา</b>นเลี้ยงปาร์ตี้ , <b>งา</b>นสังสรรค์</td></tr><tr><td style=\"vertical-align:top;\" width=\"150\"><a href=\"search/葬式\" style=\"color: white\">葬式</a></td><td style=\"vertical-align:top;\">[そうしき, soushiki] (n) <b>งา</b>นศพ</td></tr><tr><td style=\"vertical-align:top;\" width=\"150\"><a href=\"search/日勤\" style=\"color: white\">日勤</a></td><td style=\"vertical-align:top;\">[にっきん, nikkin] <b>งา</b>นผลัดกลางคืน, กะกลางคืน</td></tr><tr><td style=\"vertical-align:top;\" width=\"150\"><a href=\"search/仕掛品\" style=\"color: white\">仕掛品</a></td><td style=\"vertical-align:top;\">[しかけひん, shikakehin] (n) <b>งา</b>นที่อยู่ในกระบวนการ (work in process : WIP)</td></tr><tr><td style=\"vertical-align:top;\" width=\"150\"><a href=\"search/基礎工事\" style=\"color: white\">基礎工事</a></td><td style=\"vertical-align:top;\">[きそこうじ, kisokouji] (n) <b>งา</b>นรากฐาน (การก่อสร้างฐานรากของโครงสร้างอาคาร)</td></tr><tr><td style=\"vertical-align:top;\" width=\"150\"><a href=\"search/山積する仕事\" style=\"color: white\">山積する仕事</a></td><td style=\"vertical-align:top;\">[やまづみするしごと, yamazumisurushigoto] (exp) <b>งา</b>นเท่าภูเขา</td></tr><tr><td style=\"vertical-align:top;\" width=\"150\"><a href=\"search/趣味\" style=\"color: white\">趣味</a></td><td style=\"vertical-align:top;\">[しゅみ, shumi] <b>งา</b>นอดิเรก</td></tr></table><h5>Japanese-Thai-English: Saikam Dictionary<h5><table cellpadding=\"0\" cellspacing=\"0\" class=\"search-result-table\" width=\"100%\"><tr><td style=\"vertical-align:top;\" width=\"150\"><a href=\"search/工作\" style=\"color: white\">工作</a></td><td>[こうさく, kousaku] <b>TH:</b> <b>งา</b>นที่ทำขึ้นโดยมากหมายถึง<b>งา</b>นฝีมือ  <b>EN:</b> work</td></tr><tr><td style=\"vertical-align:top;\" width=\"150\"><a href=\"search/工作\" style=\"color: white\">工作</a></td><td>[こうさく, kousaku] <b>TH:</b> <b>งา</b>นฝีมือ  <b>EN:</b> handicraft</td></tr><tr><td style=\"vertical-align:top;\" width=\"150\"><a href=\"search/工作\" style=\"color: white\">工作</a></td><td>[こうさく, kousaku] <b>TH:</b> <b>งา</b>นที่ทำด้วยฝีมือคน  <b>EN:</b> maneuvering</td></tr><tr><td style=\"vertical-align:top;\" width=\"150\"><a href=\"search/発表会\" style=\"color: white\">発表会</a></td><td>[はっぴょうかい, happyoukai] <b>TH:</b> <b>งา</b>นสัมมนาราย<b>งา</b>นผล</td></tr><tr><td style=\"vertical-align:top;\" width=\"150\"><a href=\"search/行事\" style=\"color: white\">行事</a></td><td>[ぎょうじ, gyouji] <b>TH:</b> <b>งา</b>นหรือพิธีการที่จัดขึ้นเป็นประจำเป็นประเพณีหรือธรรมเนียมของสังคม</td></tr><tr><td style=\"vertical-align:top;\" width=\"150\"><a href=\"search/業務\" style=\"color: white\">業務</a></td><td>[ぎょうむ, gyoumu] <b>TH:</b> <b>งา</b>น  <b>EN:</b> work</td></tr><tr><td style=\"vertical-align:top;\" width=\"150\"><a href=\"search/学園際\" style=\"color: white\">学園際</a></td><td>[がくえんさい, gakuensai] <b>TH:</b> <b>งา</b>นฉลองประจำปีของโรงเรียนหรือมหาวิทยาลัยมักจัดในช่วงวันวัฒนธรรมปลายเดือนพฤศจิกายน  <b>EN:</b> school festival</td></tr><tr><td style=\"vertical-align:top;\" width=\"150\"><a href=\"search/イベント\" style=\"color: white\">イベント</a></td><td>[いべんと, ibento] <b>TH:</b> <b>งา</b>นที่จัดขึ้นเป็นพิเศษในวาระต่าง ๆ  <b>EN:</b> event</td></tr></table>"
      ],
      "text/plain": [
       "<IPython.core.display.HTML object>"
      ]
     },
     "metadata": {},
     "output_type": "display_data"
    }
   ],
   "source": [
    "suggestions = ex.validate_words()\n",
    "keys = list(suggestions.keys())\n",
    "if keys:\n",
    "    top = keys[0]\n",
    "    print(f'The best guess is \"{top}\" rated {suggestions[top]} out of {len(ex.validated_words)}')\n",
    "    print(f'Others:')\n",
    "    for i in range(1, len(suggestions)):\n",
    "        print(f'{i} - {keys[i]} ({suggestions[keys[i]]})', end='\\t')\n",
    "    word = input('Enter to proceed with top-rated suggestion or number for other or any different word:')\n",
    "    if not word:\n",
    "        lookup(top)\n",
    "    else:\n",
    "        try:\n",
    "            lookup(keys[int(word)])\n",
    "        except:\n",
    "            lookup(word)"
   ]
  },
  {
   "cell_type": "markdown",
   "id": "68a5c817-1b71-450e-9725-d5122f0e20b7",
   "metadata": {},
   "source": [
    "## Inspecting results"
   ]
  },
  {
   "cell_type": "code",
   "execution_count": 53,
   "id": "1238ffd2-4c59-44d7-aa61-b998e1d36592",
   "metadata": {
    "tags": []
   },
   "outputs": [
    {
     "data": {
      "image/png": "[encoded data removed]",
      "text/plain": [
       "<PIL.PngImagePlugin.PngImageFile image mode=RGBA size=33x60>"
      ]
     },
     "metadata": {},
     "output_type": "display_data"
    },
    {
     "name": "stdout",
     "output_type": "stream",
     "text": [
      "1: 'ขา, 3: 'ขา, 4: 'ขา, 5: ด ษๆ, 6: 'ขา, 7: ซ่า, 8: ซ่า, 9: ซู, 10: ซ่า, 11: ซ่า, 12: ซ่า, 13: ซ่า, \n",
      "\n",
      "((68, 195), (51, 176), (24, 143), (255, 255)) -> (54, 178)\n",
      "\n",
      "0.5\n"
     ]
    },
    {
     "data": {
      "image/jpeg": "[encoded data removed]",
      "image/png": "[encoded data removed]",
      "text/plain": [
       "<PIL.Image.Image image mode=L size=33x60>"
      ]
     },
     "metadata": {},
     "output_type": "display_data"
    },
    {
     "name": "stdout",
     "output_type": "stream",
     "text": [
      "1: , 3: , 4: , 5: , 6: , 7: ., 8: -, 9: ., 10: ., 11: , 12: , 13: -, \n",
      "\n",
      "0.55\n"
     ]
    },
    {
     "data": {
      "image/jpeg": "[encoded data removed]",
      "image/png": "[encoded data removed]",
      "text/plain": [
       "<PIL.Image.Image image mode=L size=33x60>"
      ]
     },
     "metadata": {},
     "output_type": "display_data"
    },
    {
     "name": "stdout",
     "output_type": "stream",
     "text": [
      "1: , 3: , 4: , 5: , 6: รตา1, 7: ขา, 8: ซา, 9: ขา, 10: ขา, 11: , 12: , 13: ซา, \n",
      "\n",
      "0.6\n"
     ]
    },
    {
     "data": {
      "image/jpeg": "[encoded data removed]",
      "image/png": "[encoded data removed]",
      "text/plain": [
       "<PIL.Image.Image image mode=L size=33x60>"
      ]
     },
     "metadata": {},
     "output_type": "display_data"
    },
    {
     "name": "stdout",
     "output_type": "stream",
     "text": [
      "1: , 3: , 4: เอา, 5: เจ-รญู, 6: เอา, 7: ช่า, 8: ซํา, 9: ซํา, 10: ช่า, 11: ช่า, 12: นท, 13: ซํา, \n",
      "\n",
      "0.65\n"
     ]
    },
    {
     "data": {
      "image/jpeg": "[encoded data removed]",
      "image/png": "[encoded data removed]",
      "text/plain": [
       "<PIL.Image.Image image mode=L size=33x60>"
      ]
     },
     "metadata": {},
     "output_type": "display_data"
    },
    {
     "name": "stdout",
     "output_type": "stream",
     "text": [
      "1: 1ขา, 3: 1ขา, 4: 1ขา, 5: -รจ, 6: 1ขา, 7: ซ่า, 8: ข่า, 9: ข่า, 10: ซ่า, 11: ซ่า, 12: ซ่า, 13: ข่า, \n",
      "\n",
      "0.7\n"
     ]
    },
    {
     "data": {
      "image/jpeg": "[encoded data removed]",
      "image/png": "[encoded data removed]",
      "text/plain": [
       "<PIL.Image.Image image mode=L size=33x60>"
      ]
     },
     "metadata": {},
     "output_type": "display_data"
    },
    {
     "name": "stdout",
     "output_type": "stream",
     "text": [
      "1: ขา, 3: ขา, 4: ขา, 5: -, 6: 1ขา, 7: ซ่า, 8: ซ่า, 9: ซ่า, 10: ซ่า, 11: ขา, 12: ขา, 13: ซ่า, \n",
      "\n",
      "0.75\n"
     ]
    },
    {
     "data": {
      "image/jpeg": "[encoded data removed]",
      "image/png": "[encoded data removed]",
      "text/plain": [
       "<PIL.Image.Image image mode=L size=33x60>"
      ]
     },
     "metadata": {},
     "output_type": "display_data"
    },
    {
     "name": "stdout",
     "output_type": "stream",
     "text": [
      "1: , 3: , 4: , 5: -@, 6: 1ขา, 7: ข่า, 8: ซ่า, 9: ซ่า, 10: ข่า, 11: ขา, 12: ขา, 13: ซ่า, \n",
      "\n",
      "0.8\n"
     ]
    },
    {
     "data": {
      "image/jpeg": "[encoded data removed]",
      "image/png": "[encoded data removed]",
      "text/plain": [
       "<PIL.Image.Image image mode=L size=33x60>"
      ]
     },
     "metadata": {},
     "output_type": "display_data"
    },
    {
     "name": "stdout",
     "output_type": "stream",
     "text": [
      "1: , 3: , 4: , 5: -ต๓, 6: 1ขา, 7: ข่า, 8: ซ่า, 9: ซ่า, 10: ข่า, 11: ขา, 12: , 13: ซ่า, \n",
      "\n",
      "0.85\n"
     ]
    },
    {
     "data": {
      "image/jpeg": "[encoded data removed]",
      "image/png": "[encoded data removed]",
      "text/plain": [
       "<PIL.Image.Image image mode=L size=33x60>"
      ]
     },
     "metadata": {},
     "output_type": "display_data"
    },
    {
     "name": "stdout",
     "output_type": "stream",
     "text": [
      "1: 1ขา, 3: 1ขา, 4: 1ขา, 5: -ต, 6: 1ขา, 7: ข่า, 8: ขํา, 9: ขํา, 10: ข่า, 11: ข่า, 12: ข่า, 13: ขํา, \n",
      "\n",
      "0.9\n"
     ]
    },
    {
     "data": {
      "image/jpeg": "[encoded data removed]",
      "image/png": "[encoded data removed]",
      "text/plain": [
       "<PIL.Image.Image image mode=L size=33x60>"
      ]
     },
     "metadata": {},
     "output_type": "display_data"
    },
    {
     "name": "stdout",
     "output_type": "stream",
     "text": [
      "1: 7ขา, 3: 7ขา, 4: 7ขา, 5: -รร, 6: 7ขา, 7: ซ่า, 8: ช่า, 9: ซู, 10: ซ่า, 11: ซ่า, 12: ซ่า, 13: ช่า, \n",
      "\n",
      "0.95\n"
     ]
    },
    {
     "data": {
      "image/jpeg": "[encoded data removed]",
      "image/png": "[encoded data removed]",
      "text/plain": [
       "<PIL.Image.Image image mode=L size=33x60>"
      ]
     },
     "metadata": {},
     "output_type": "display_data"
    },
    {
     "name": "stdout",
     "output_type": "stream",
     "text": [
      "1: 1ขา, 3: 1ขา, 4: 1ขา, 5: -จร, 6: 1ขา, 7: ข่า, 8: ช่า, 9: ซู, 10: ข่า, 11: ข่า, 12: ข่า, 13: ช่า, \n",
      "\n",
      "1.0\n"
     ]
    },
    {
     "data": {
      "image/jpeg": "[encoded data removed]",
      "image/png": "[encoded data removed]",
      "text/plain": [
       "<PIL.Image.Image image mode=L size=33x60>"
      ]
     },
     "metadata": {},
     "output_type": "display_data"
    },
    {
     "name": "stdout",
     "output_type": "stream",
     "text": [
      "1: งขา, 3: งขา, 4: งขา, 5: -รต, 6: งขา, 7: ซ่า, 8: ซ่า, 9: ข, 10: ซ่า, 11: ซ่า, 12: ซ่า, 13: ซ่า, \n",
      "\n",
      "1.05\n"
     ]
    },
    {
     "data": {
      "image/jpeg": "[encoded data removed]",
      "image/png": "[encoded data removed]",
      "text/plain": [
       "<PIL.Image.Image image mode=L size=33x60>"
      ]
     },
     "metadata": {},
     "output_type": "display_data"
    },
    {
     "name": "stdout",
     "output_type": "stream",
     "text": [
      "1: 'ขา, 3: 'ขา, 4: 'ขา, 5: - ต, 6: 'ขา, 7: ซ่า, 8: ซ่า, 9: ซู, 10: ซ่า, 11: ซ่า, 12: ซ่า, 13: ซ่า, \n",
      "\n",
      "1.1\n"
     ]
    },
    {
     "data": {
      "image/jpeg": "[encoded data removed]",
      "image/png": "[encoded data removed]",
      "text/plain": [
       "<PIL.Image.Image image mode=L size=33x60>"
      ]
     },
     "metadata": {},
     "output_type": "display_data"
    },
    {
     "name": "stdout",
     "output_type": "stream",
     "text": [
      "1: ลขา, 3: ลขา, 4: ลขา, 5: ะล, 6: ลขา, 7: ซ่า, 8: ซ่า, 9: 1, 10: ซ่า, 11: ซ่า, 12: ซ่า, 13: ซ่า, \n",
      "\n",
      "1.15\n"
     ]
    },
    {
     "data": {
      "image/jpeg": "[encoded data removed]",
      "image/png": "[encoded data removed]",
      "text/plain": [
       "<PIL.Image.Image image mode=L size=33x60>"
      ]
     },
     "metadata": {},
     "output_type": "display_data"
    },
    {
     "name": "stdout",
     "output_type": "stream",
     "text": [
      "1: จจา, 3: จจา, 4: จจา, 5: +ดต, 6: จจา, 7: ซ่า, 8: ซํา, 9: ว, 10: ซ่า, 11: ซ่า, 12: ซ่า, 13: ซํา, \n",
      "\n",
      "1.2\n"
     ]
    },
    {
     "data": {
      "image/jpeg": "[encoded data removed]",
      "image/png": "[encoded data removed]",
      "text/plain": [
       "<PIL.Image.Image image mode=L size=33x60>"
      ]
     },
     "metadata": {},
     "output_type": "display_data"
    },
    {
     "name": "stdout",
     "output_type": "stream",
     "text": [
      "1: จขา, 3: จขา, 4: จขา, 5: +ดต, 6: จขา, 7: ซํา, 8: ซํา, 9: ซ่ง, 10: ซํา, 11: ซํา, 12: ซํา, 13: ซํา, \n",
      "\n",
      "1.25\n"
     ]
    },
    {
     "data": {
      "image/jpeg": "[encoded data removed]",
      "image/png": "[encoded data removed]",
      "text/plain": [
       "<PIL.Image.Image image mode=L size=33x60>"
      ]
     },
     "metadata": {},
     "output_type": "display_data"
    },
    {
     "name": "stdout",
     "output_type": "stream",
     "text": [
      "1: บขา, 3: บขา, 4: บขา, 5: +ศค, 6: บขา, 7: ซ่า, 8: ซ่า, 9: ซี, 10: ซ่า, 11: ซ่า, 12: ซ่า, 13: ซ่า, \n",
      "\n",
      "1.3\n"
     ]
    },
    {
     "data": {
      "image/jpeg": "[encoded data removed]",
      "image/png": "[encoded data removed]",
      "text/plain": [
       "<PIL.Image.Image image mode=L size=33x60>"
      ]
     },
     "metadata": {},
     "output_type": "display_data"
    },
    {
     "name": "stdout",
     "output_type": "stream",
     "text": [
      "1: , 3: , 4: , 5: +ศค, 6: เมขา, 7: ซ่า, 8: ซ่า, 9: ซู, 10: ซ่า, 11: ว, 12: , 13: ซ่า, \n",
      "\n",
      "1.35\n"
     ]
    },
    {
     "data": {
      "image/jpeg": "[encoded data removed]",
      "image/png": "[encoded data removed]",
      "text/plain": [
       "<PIL.Image.Image image mode=L size=33x60>"
      ]
     },
     "metadata": {},
     "output_type": "display_data"
    },
    {
     "name": "stdout",
     "output_type": "stream",
     "text": [
      "1: แ'ซา, 3: แ'ซา, 4: แ'ซา, 5: คัชิฟ', 6: ซา, 7: ซา, 8: ซา, 9: ซี, 10: ซา, 11: เลรว, 12: เลรว, 13: ซา, \n",
      "\n",
      "1.4\n"
     ]
    },
    {
     "data": {
      "image/jpeg": "[encoded data removed]",
      "image/png": "[encoded data removed]",
      "text/plain": [
       "<PIL.Image.Image image mode=L size=33x60>"
      ]
     },
     "metadata": {},
     "output_type": "display_data"
    },
    {
     "name": "stdout",
     "output_type": "stream",
     "text": [
      "1: , 3: , 4: , 5: วรา>@ -เติ, 6: บกอฒปะ4, 7: ฟรี, 8: ฟรี, 9: ฟรี, 10: ฟรี, 11: , 12: , 13: ฟรี, \n",
      "\n",
      "1.45\n"
     ]
    },
    {
     "data": {
      "image/jpeg": "[encoded data removed]",
      "image/png": "[encoded data removed]",
      "text/plain": [
       "<PIL.Image.Image image mode=L size=33x60>"
      ]
     },
     "metadata": {},
     "output_type": "display_data"
    },
    {
     "name": "stdout",
     "output_type": "stream",
     "text": [
      "1: , 3: , 4: , 5: 0, 6: อ, 7: :, 8: , 9: :, 10: :, 11: , 12: =., 13: , \n"
     ]
    }
   ],
   "source": [
    "ex.inspect_results()"
   ]
  },
  {
   "cell_type": "code",
   "execution_count": null,
   "id": "337a7f3a-af5b-4e47-ad11-1feef08bbd3a",
   "metadata": {},
   "outputs": [],
   "source": []
  }
 ],
 "metadata": {
  "kernelspec": {
   "display_name": "Python 3 (ipykernel)",
   "language": "python",
   "name": "python3"
  },
  "language_info": {
   "codemirror_mode": {
    "name": "ipython",
    "version": 3
   },
   "file_extension": ".py",
   "mimetype": "text/x-python",
   "name": "python",
   "nbconvert_exporter": "python",
   "pygments_lexer": "ipython3",
   "version": "3.11.5"
  }
 },
 "nbformat": 4,
 "nbformat_minor": 5
}
